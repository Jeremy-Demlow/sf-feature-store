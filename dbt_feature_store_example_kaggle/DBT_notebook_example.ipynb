{
 "cells": [
  {
   "cell_type": "markdown",
   "metadata": {},
   "source": [
    "# Kaggle Competition Example"
   ]
  },
  {
   "cell_type": "code",
   "execution_count": 4,
   "metadata": {},
   "outputs": [],
   "source": [
    "import os\n",
    "import zipfile\n",
    "from snowflake.snowpark import Session\n",
    "import pandas as pd\n",
    "\n",
    "\n",
    "import os\n",
    "from kaggle.api.kaggle_api_extended import KaggleApi\n",
    "from typing import List\n"
   ]
  },
  {
   "cell_type": "code",
   "execution_count": null,
   "metadata": {},
   "outputs": [],
   "source": [
    "\n",
    "class InstacartDataLoader:\n",
    "    def __init__(self, session: Session):\n",
    "        self.session = session\n",
    "        \n",
    "    def unzip_data_files(self, path: str):\n",
    "        \"\"\"Unzip all CSV files in the directory\"\"\"\n",
    "        print(\"Unzipping data files...\")\n",
    "        for file in os.listdir(path):\n",
    "            if file.endswith('.zip'):\n",
    "                zip_path = os.path.join(path, file)\n",
    "                with zipfile.ZipFile(zip_path, 'r') as zip_ref:\n",
    "                    zip_ref.extractall(path)\n",
    "                print(f\"Unzipped: {file}\")\n",
    "                \n",
    "    def load_csv_to_snowflake(self, file_path: str, table_name: str, schema: str = 'INSTACART_RAW'):\n",
    "        \"\"\"Load CSV file to Snowflake table\"\"\"\n",
    "        print(f\"Loading {file_path} to {schema}.{table_name}\")\n",
    "        chunk_size = 100000\n",
    "        for chunk in pd.read_csv(file_path, chunksize=chunk_size):\n",
    "            df = self.session.create_dataframe(chunk)\n",
    "            df.write.save_as_table(f\"{schema}.{table_name}\", mode=\"append\")\n",
    "            \n",
    "    def setup_incremental_loading(self):\n",
    "        \"\"\"Setup tables for incremental loading\"\"\"\n",
    "        self.session.sql(\"\"\"\n",
    "            CREATE OR REPLACE TABLE INSTACART_RAW.ORDER_PRODUCTS_STAGE (\n",
    "                order_id INTEGER,\n",
    "                product_id INTEGER,\n",
    "                add_to_cart_order INTEGER,\n",
    "                reordered INTEGER,\n",
    "                file_name VARCHAR,\n",
    "                loaded_at TIMESTAMP DEFAULT CURRENT_TIMESTAMP()\n",
    "            )\n",
    "        \"\"\").collect()\n"
   ]
  },
  {
   "cell_type": "code",
   "execution_count": 19,
   "metadata": {},
   "outputs": [],
   "source": [
    "\n",
    "\n",
    "def download_instacart_data(path: str = \"./data\") -> List[str]:\n",
    "    \"\"\"\n",
    "    Download Instacart Market Basket Analysis data\n",
    "    \n",
    "    Args:\n",
    "        path: Directory to save the data\n",
    "        \n",
    "    Returns:\n",
    "        List of downloaded file paths\n",
    "    \n",
    "    Raises:\n",
    "        Exception: If competition rules haven't been accepted or other API errors\n",
    "    \"\"\"\n",
    "    try:\n",
    "        api = KaggleApi()\n",
    "        api.authenticate()\n",
    "        \n",
    "        # Create data directory if it doesn't exist\n",
    "        os.makedirs(path, exist_ok=True)\n",
    "        \n",
    "        # Check if we've already downloaded the data\n",
    "        zip_path = f\"{path}/instacart-market-basket-analysis.zip\"\n",
    "        if os.path.exists(zip_path):\n",
    "            print(\"Data already downloaded, using existing files...\")\n",
    "        else:\n",
    "            print(\"Downloading competition data...\")\n",
    "            try:\n",
    "                api.competition_download_files(\n",
    "                    'instacart-market-basket-analysis',\n",
    "                    path=path\n",
    "                )\n",
    "            except Exception as e:\n",
    "                if \"rules\" in str(e):\n",
    "                    raise Exception(\n",
    "                        \"Please accept the competition rules first at \"\n",
    "                        \"https://www.kaggle.com/competitions/instacart-market-basket-analysis\"\n",
    "                    ) from e\n",
    "                raise\n",
    "        \n",
    "        # Unzip if needed\n",
    "        csv_files = [f for f in os.listdir(path) if f.endswith('.csv')]\n",
    "        if not csv_files:\n",
    "            print(\"Extracting files...\")\n",
    "            import zipfile\n",
    "            with zipfile.ZipFile(zip_path, 'r') as zip_ref:\n",
    "                zip_ref.extractall(path)\n",
    "        \n",
    "        # List available files\n",
    "        csv_files = [f for f in os.listdir(path) if f.endswith('.csv')]\n",
    "        print(\"\\nAvailable files:\")\n",
    "        for file in csv_files:\n",
    "            print(f\"- {file}\")\n",
    "            \n",
    "        return [os.path.join(path, f) for f in csv_files]\n",
    "        \n",
    "    except Exception as e:\n",
    "        print(f\"Error downloading data: {str(e)}\")\n",
    "        raise\n"
   ]
  },
  {
   "cell_type": "code",
   "execution_count": 20,
   "metadata": {},
   "outputs": [
    {
     "name": "stdout",
     "output_type": "stream",
     "text": [
      "Downloading competition data...\n",
      "Extracting files...\n",
      "\n",
      "Available files:\n",
      "- sample_submission.csv\n",
      "\n",
      "Successfully downloaded 1 files\n"
     ]
    }
   ],
   "source": [
    "\n",
    "# Usage\n",
    "try:\n",
    "    files = download_instacart_data()\n",
    "    print(f\"\\nSuccessfully downloaded {len(files)} files\")\n",
    "except Exception as e:\n",
    "    print(f\"Failed to download data: {str(e)}\")\n"
   ]
  },
  {
   "cell_type": "code",
   "execution_count": 24,
   "metadata": {},
   "outputs": [],
   "source": [
    "\n",
    "class InstacartDataLoader:\n",
    "    def __init__(self, session: Session, data_path: str = \"./data\"):\n",
    "        self.session = session\n",
    "        self.data_path = data_path\n",
    "        \n",
    "    @staticmethod\n",
    "    def prep_df(df):\n",
    "        \"\"\"Prepare DataFrame for Snowflake loading\"\"\"\n",
    "        df = df.reset_index(drop=True)\n",
    "        df.index = pd.RangeIndex(start=0, stop=len(df))\n",
    "        df.columns = [col.upper() for col in df.columns]\n",
    "        return df\n",
    "        \n",
    "    def load_data(self):\n",
    "        \"\"\"Load all data using Snowpark DataFrames\"\"\"\n",
    "        print(\"Loading data...\")\n",
    "        \n",
    "        # Define all tables and their primary keys\n",
    "        tables_info = {\n",
    "            \"aisles.csv\": (\"AISLES\", [\"AISLE_ID\"]),\n",
    "            \"departments.csv\": (\"DEPARTMENTS\", [\"DEPARTMENT_ID\"]),\n",
    "            \"products.csv\": (\"PRODUCTS\", [\"PRODUCT_ID\"]),\n",
    "            \"orders.csv\": (\"ORDERS\", [\"ORDER_ID\"]),\n",
    "            \"order_products__prior.csv\": (\"ORDER_PRODUCTS\", [\"ORDER_ID\", \"PRODUCT_ID\"]),\n",
    "            \"order_products__train.csv\": (\"ORDER_PRODUCTS\", [\"ORDER_ID\", \"PRODUCT_ID\"])\n",
    "        }\n",
    "        \n",
    "        # Create schema\n",
    "        self.session.sql(\"CREATE SCHEMA IF NOT EXISTS INSTACART_RAW\").collect()\n",
    "        \n",
    "        # Load each file\n",
    "        for file, (table, pk_cols) in tables_info.items():\n",
    "            print(f\"Processing {file}...\")\n",
    "            \n",
    "            # Read and prep data\n",
    "            df = self.prep_df(pd.read_csv(f\"{self.data_path}/{file}\"))\n",
    "            \n",
    "            # Create or append to table\n",
    "            mode = \"overwrite\" if not file.startswith(\"order_products\") else \"append\"\n",
    "            self.session.create_dataframe(df) \\\n",
    "                .write.mode(mode) \\\n",
    "                .save_as_table(f\"INSTACART_RAW.{table}\")\n",
    "            \n",
    "            # Add primary key if not appending\n",
    "            if mode == \"overwrite\":\n",
    "                pk_str = \", \".join(pk_cols)\n",
    "                try:\n",
    "                    self.session.sql(f\"\"\"\n",
    "                        ALTER TABLE INSTACART_RAW.{table} \n",
    "                        ADD PRIMARY KEY ({pk_str})\n",
    "                    \"\"\").collect()\n",
    "                except Exception as e:\n",
    "                    print(f\"Warning: Could not add primary key to {table}: {str(e)}\")\n",
    "    \n",
    "    def validate_load(self):\n",
    "        \"\"\"Validate the loaded data\"\"\"\n",
    "        print(\"\\nValidating loaded data...\")\n",
    "        for table in [\"AISLES\", \"DEPARTMENTS\", \"PRODUCTS\", \"ORDERS\", \"ORDER_PRODUCTS\"]:\n",
    "            count = self.session.sql(f\"SELECT COUNT(*) as cnt FROM INSTACART_RAW.{table}\").collect()[0]['CNT']\n",
    "            print(f\"{table}: {count:,} rows\")\n"
   ]
  },
  {
   "cell_type": "code",
   "execution_count": 25,
   "metadata": {},
   "outputs": [
    {
     "name": "stdout",
     "output_type": "stream",
     "text": [
      "2025-02-26 19:24:58,340 - snowflake_feature_store - INFO - Using active Snowflake session\n",
      "2025-02-26 19:24:58,343 - snowflake_feature_store - INFO - Initialized connection to \"DATASCIENCE\".\"INSTACART_RAW\"\n",
      "2025-02-26 19:25:00,057 - snowflake_feature_store - INFO - Using role: \"DATA_SCIENTIST\", warehouse: \"DS_WH_XS\", database: DATASCIENCE, schema: INSTACART_RAW\n",
      "Loading data...\n",
      "Processing aisles.csv...\n",
      "Processing departments.csv...\n",
      "Processing products.csv...\n",
      "Processing orders.csv...\n",
      "Processing order_products__prior.csv...\n",
      "Processing order_products__train.csv...\n",
      "\n",
      "Validating loaded data...\n",
      "AISLES: 134 rows\n",
      "DEPARTMENTS: 21 rows\n",
      "PRODUCTS: 49,688 rows\n",
      "ORDERS: 3,421,083 rows\n",
      "ORDER_PRODUCTS: 33,819,106 rows\n"
     ]
    }
   ],
   "source": [
    "from snowflake_feature_store.connection import get_connection\n",
    "\n",
    "# Specify all connection parameters directly\n",
    "database = \"DATASCIENCE\"\n",
    "schema = \"INSTACART_RAW\"\n",
    "warehouse = \"DS_WH_XS\"\n",
    "role = \"DATA_SCIENTIST\"\n",
    "\n",
    "# Get connection with all custom parameters\n",
    "conn = get_connection(\n",
    "    database=database, \n",
    "    schema=schema, \n",
    "    warehouse=warehouse,\n",
    "    role=role\n",
    ")\n",
    "\n",
    "# Usage\n",
    "loader = InstacartDataLoader(conn.session)\n",
    "loader.load_data()\n",
    "loader.validate_load()\n"
   ]
  },
  {
   "cell_type": "code",
   "execution_count": 17,
   "metadata": {},
   "outputs": [],
   "source": [
    "\n",
    "from snowflake.ml.feature_store import (\n",
    "    FeatureStore,\n",
    "    FeatureView,\n",
    "    Entity,\n",
    "    CreationMode\n",
    ")\n"
   ]
  },
  {
   "cell_type": "code",
   "execution_count": 18,
   "metadata": {},
   "outputs": [
    {
     "name": "stdout",
     "output_type": "stream",
     "text": [
      "2025-03-03 17:01:12,343 - snowflake_feature_store - INFO - Using active Snowflake session\n",
      "2025-03-03 17:01:12,344 - snowflake_feature_store - INFO - Initialized connection to \"DATASCIENCE\".\"INSTACART_RAW\"\n",
      "2025-03-03 17:01:13,463 - snowflake_feature_store - INFO - Using role: \"DATA_SCIENTIST\", warehouse: \"DS_WH_XS\", database: DATASCIENCE, schema: INSTACART_RAW\n"
     ]
    }
   ],
   "source": [
    "from snowflake_feature_store.connection import get_connection\n",
    "\n",
    "# Specify all connection parameters directly\n",
    "database = \"DATASCIENCE\"\n",
    "schema = \"INSTACART_RAW\"\n",
    "warehouse = \"DS_WH_XS\"\n",
    "role = \"DATA_SCIENTIST\"\n",
    "\n",
    "# Get connection with all custom parameters\n",
    "conn = get_connection(\n",
    "    database=database, \n",
    "    schema=schema, \n",
    "    warehouse=warehouse,\n",
    "    role=role\n",
    ")\n",
    "session = conn.session"
   ]
  },
  {
   "cell_type": "code",
   "execution_count": 19,
   "metadata": {},
   "outputs": [],
   "source": [
    "import snowflake.snowpark as snowpark\n",
    "from snowflake.ml.feature_store import (\n",
    "    FeatureStore,\n",
    "    FeatureView,\n",
    "    Entity,\n",
    "    CreationMode\n",
    ")\n"
   ]
  },
  {
   "cell_type": "code",
   "execution_count": 20,
   "metadata": {},
   "outputs": [],
   "source": [
    "# Initialize Feature Store\n",
    "fs = FeatureStore(\n",
    "    session=session, \n",
    "    database=\"DATASCIENCE\", \n",
    "    name=\"INSTACART_FEATURES\", \n",
    "    default_warehouse=session.get_current_warehouse(),\n",
    "    creation_mode=CreationMode.CREATE_IF_NOT_EXIST,\n",
    ")\n"
   ]
  },
  {
   "cell_type": "code",
   "execution_count": 21,
   "metadata": {},
   "outputs": [
    {
     "name": "stderr",
     "output_type": "stream",
     "text": [
      "/Users/jdemlow/miniconda3/envs/feature-store/lib/python3.11/site-packages/snowflake/ml/feature_store/feature_store.py:197: UserWarning: Entity TRAINING_INSTANCE already exists. Skip registration.\n",
      "  return f(self, *args, **kargs)\n"
     ]
    },
    {
     "data": {
      "text/plain": [
       "Entity(name=TRAINING_INSTANCE, join_keys=['ORDER_ID', 'USER_ID', 'PRODUCT_ID'], owner=None, desc=)"
      ]
     },
     "execution_count": 21,
     "metadata": {},
     "output_type": "execute_result"
    }
   ],
   "source": [
    "# Register a combined entity\n",
    "training_entity = Entity(name=\"TRAINING_INSTANCE\", join_keys=[\"ORDER_ID\", \"USER_ID\", \"PRODUCT_ID\"])\n",
    "fs.register_entity(training_entity)"
   ]
  },
  {
   "cell_type": "code",
   "execution_count": 37,
   "metadata": {},
   "outputs": [
    {
     "name": "stdout",
     "output_type": "stream",
     "text": [
      "--------------------------------------------------------------------------------------------------------------------------------------------------------------------------------------------------------------------------------------------------------------------------------------------------------------------------------------------------------------------------------------------------------------------------------------------------------------------------------------------------------------------------------------------------------------------------------------------------------------------------------------------------------------------------------------------------------------------------------------------------------------------------------------------------------------------------------------------------------\n",
      "|\"USER_ID\"  |\"PRODUCT_ID\"  |\"ORDER_ID\"  |\"ORDER_NUMBER\"  |\"ORDER_DOW\"  |\"ORDER_HOUR_OF_DAY\"  |\"REORDERED\"  |\"USER_TOTAL_ORDERS\"  |\"AVG_DAYS_BETWEEN_ORDERS\"  |\"TYPICAL_ORDER_HOUR\"  |\"PREFERRED_ORDER_DAY\"  |\"AVG_BASKET_SIZE\"  |\"DISTINCT_PRODUCTS_COUNT\"  |\"USER_REORDER_RATE\"  |\"AISLE_ID\"  |\"DEPARTMENT_ID\"  |\"PRODUCT_ORDERS\"  |\"PRODUCT_REORDERS\"  |\"PRODUCT_REORDER_RATE\"  |\"PRODUCT_AVG_CART_POSITION\"  |\"DEPARTMENT_POPULARITY_RANK\"  |\"AISLE_POPULARITY_RANK\"  |\"BASKET_SIZE\"  |\"REORDER_RATIO\"  |\"UNIQUE_AISLES\"  |\"UNIQUE_DEPARTMENTS\"  |\"DAY_PART\"  |\"UP_ORDERS\"  |\"UP_AVG_CART_POSITION\"  |\"ORDERS_SINCE_LAST_PURCHASE\"  |\"UP_ORDERS_RATIO\"  |\"DOMINANT_DAY_PART\"  |\"DOMINANT_DOW\"  |\"USER_RELATIVE_FREQUENCY\"  |\"PRODUCT_RELATIVE_FREQUENCY\"  |\"IS_PREFERRED_DOW\"  |\"IS_PREFERRED_TIME\"  |\"PURCHASE_RECENCY_BUCKET\"  |\"SYNTHETIC_DATE\"  |\n",
      "--------------------------------------------------------------------------------------------------------------------------------------------------------------------------------------------------------------------------------------------------------------------------------------------------------------------------------------------------------------------------------------------------------------------------------------------------------------------------------------------------------------------------------------------------------------------------------------------------------------------------------------------------------------------------------------------------------------------------------------------------------------------------------------------------------------------------------------------------------\n",
      "|161288     |44632         |1978112     |6               |3            |12                   |1            |5                    |30.0                       |15.000                |1                      |10.000000          |27                         |0.400000             |115         |7                |75886             |58513               |0.771064                |6.222702                     |1                             |1                        |NULL           |NULL             |NULL             |NULL                  |NULL        |5            |2.200000                |0                             |1.000000           |midday               |5               |0.500000                   |0.000066                      |0                   |1                    |recent                     |2023-01-04        |\n",
      "|53002      |47310         |1923543     |43              |6            |13                   |1            |42                   |8.76923076923077           |12.000                |0                      |23.564103          |122                        |0.875890             |4           |9                |340               |203                 |0.597059                |11.344118                    |428                           |108                      |NULL           |NULL             |NULL             |NULL                  |NULL        |14           |19.142857               |0                             |0.333333           |midday               |0               |0.594124                   |0.041176                      |0                   |1                    |recent                     |2023-01-07        |\n",
      "|7776       |8536          |243966      |8               |4            |14                   |1            |7                    |10.0                       |14.000                |3                      |12.750000          |71                         |0.323810             |123         |4                |4204              |2360                |0.561370                |8.942674                     |310                           |59                       |NULL           |NULL             |NULL             |NULL                  |NULL        |1            |4.000000                |2                             |0.200000           |midday               |4               |0.078431                   |0.000238                      |1                   |1                    |medium                     |2023-01-05        |\n",
      "|18330      |3849          |2457806     |27              |0            |17                   |1            |26                   |14.043478260869565         |16.000                |3                      |9.304348           |60                         |0.764706             |93          |3                |6258              |3911                |0.624960                |8.259508                     |34                            |10                       |NULL           |NULL             |NULL             |NULL                  |NULL        |10           |6.500000                |1                             |0.400000           |midday               |1               |1.074766                   |0.001598                      |0                   |0                    |recent                     |2023-01-01        |\n",
      "|119573     |21724         |1501979     |9               |5            |17                   |1            |8                    |4.4                        |15.000                |1                      |16.400000          |48                         |0.575221             |66          |6                |2826              |695                 |0.245931                |10.847841                    |11                            |8                        |NULL           |NULL             |NULL             |NULL                  |NULL        |2            |12.000000               |1                             |0.285714           |morning              |1               |0.121951                   |0.000708                      |0                   |0                    |recent                     |2023-01-06        |\n",
      "|173408     |42356         |1567974     |20              |6            |16                   |1            |19                   |15.8125                    |13.500                |3                      |6.750000           |103                        |0.258993             |88          |13               |15253             |7508                |0.492231                |10.073953                    |6                             |4                        |NULL           |NULL             |NULL             |NULL                  |NULL        |1            |10.000000               |16                            |0.333333           |midday               |3               |0.148148                   |0.000066                      |0                   |0                    |old                        |2023-01-07        |\n",
      "|177221     |49488         |285366      |16              |6            |12                   |1            |15                   |10.666666666666666         |13.000                |6                      |6.583333           |33                         |0.673267             |66          |6                |1410              |959                 |0.680142                |8.069504                     |45                            |30                       |NULL           |NULL             |NULL             |NULL                  |NULL        |11           |3.818182                |1                             |0.785714           |midday               |6               |1.670886                   |0.007801                      |1                   |1                    |recent                     |2023-01-07        |\n",
      "|12944      |39781         |145707      |26              |4            |17                   |1            |25                   |12.181818181818182         |9.500                 |1                      |19.545455          |137                        |0.722110             |78          |19               |2119              |1119                |0.528079                |10.380840                    |317                           |66                       |NULL           |NULL             |NULL             |NULL                  |NULL        |10           |5.500000                |1                             |0.416667           |morning              |0               |0.511628                   |0.004719                      |0                   |0                    |recent                     |2023-01-05        |\n",
      "|43221      |40348         |513971      |9               |4            |19                   |1            |8                    |21.0                       |13.000                |2                      |22.400000          |79                         |0.447552             |128         |3                |6023              |3206                |0.532293                |9.134484                     |36                            |6                        |NULL           |NULL             |NULL             |NULL                  |NULL        |4            |10.500000               |0                             |0.500000           |morning              |2               |0.178571                   |0.000664                      |0                   |0                    |recent                     |2023-01-05        |\n",
      "|187923     |3307          |2183816     |35              |1            |1                    |1            |34                   |7.354838709677419          |13.000                |0                      |8.870968           |76                         |0.736111             |42          |1                |243               |143                 |0.588477                |7.670782                     |1359                          |86                       |NULL           |NULL             |NULL             |NULL                  |NULL        |5            |7.600000                |0                             |0.147059           |midday               |2               |0.563636                   |0.020576                      |0                   |0                    |recent                     |2023-01-02        |\n",
      "--------------------------------------------------------------------------------------------------------------------------------------------------------------------------------------------------------------------------------------------------------------------------------------------------------------------------------------------------------------------------------------------------------------------------------------------------------------------------------------------------------------------------------------------------------------------------------------------------------------------------------------------------------------------------------------------------------------------------------------------------------------------------------------------------------------------------------------------------------\n",
      "\n"
     ]
    }
   ],
   "source": [
    "# Create a feature view directly from your training features table\n",
    "training_features_df = session.table(\"DATASCIENCE.INSTACART_RAW_MARTS.INSTACART__TRAINING_FEATURES\")\n",
    "\n",
    "import snowflake.snowpark.functions as F\n",
    "# Add a date column derived from order_dow\n",
    "training_features_df = training_features_df.with_column(\n",
    "    \"synthetic_date\",\n",
    "    F.dateadd('day', F.col(\"order_dow\"), F.to_date(F.lit('2023-01-01')))\n",
    ")\n",
    "\n",
    "training_features_df.show()"
   ]
  },
  {
   "cell_type": "code",
   "execution_count": 38,
   "metadata": {},
   "outputs": [],
   "source": [
    "# Register as a feature view\n",
    "training_features_fv = FeatureView(\n",
    "    name=\"instacart_training_features\", \n",
    "    entities=[training_entity],\n",
    "    feature_df=training_features_df,\n",
    "    timestamp_col=\"synthetic_date\",  # Assuming order_dow can serve as a timestamp\n",
    "    refresh_freq=None,\n",
    "    desc=\"Complete set of Instacart features for reorder prediction\"\n",
    ")\n"
   ]
  },
  {
   "cell_type": "code",
   "execution_count": 39,
   "metadata": {},
   "outputs": [],
   "source": [
    "\n",
    "# Register the feature view\n",
    "training_features_fv = fs.register_feature_view(\n",
    "    feature_view=training_features_fv,\n",
    "    version=\"1\",\n",
    "    # block=True,\n",
    "    overwrite=True\n",
    ")"
   ]
  },
  {
   "cell_type": "code",
   "execution_count": 42,
   "metadata": {},
   "outputs": [
    {
     "name": "stdout",
     "output_type": "stream",
     "text": [
      "------------------------------------------------------------\n",
      "|\"ORDER_ID\"  |\"USER_ID\"  |\"PRODUCT_ID\"  |\"SYNTHETIC_DATE\"  |\n",
      "------------------------------------------------------------\n",
      "|1923543     |53002      |47310         |2023-01-07        |\n",
      "|2457806     |18330      |3849          |2023-01-01        |\n",
      "|1567974     |173408     |42356         |2023-01-07        |\n",
      "|285366      |177221     |49488         |2023-01-07        |\n",
      "|145707      |12944      |39781         |2023-01-05        |\n",
      "|2183816     |187923     |3307          |2023-01-02        |\n",
      "|59458       |173231     |42450         |2023-01-07        |\n",
      "|2237858     |3857       |8138          |2023-01-04        |\n",
      "|3377313     |190097     |13176         |2023-01-07        |\n",
      "|1031250     |112968     |15227         |2023-01-03        |\n",
      "------------------------------------------------------------\n",
      "\n"
     ]
    }
   ],
   "source": [
    "# Generate a dataset (optional if you're using the table directly)\n",
    "spine_df = session.sql(\"\"\"\n",
    "    SELECT \n",
    "        order_id,\n",
    "        user_id,\n",
    "        product_id,\n",
    "        order_dow\n",
    "    FROM DATASCIENCE.INSTACART_RAW_MARTS.INSTACART__TRAINING_FEATURES\n",
    "    WHERE order_number > 10  -- Example filter for specific use case\n",
    "\"\"\")\n",
    "\n",
    "spine_df = spine_df.with_column(\n",
    "    \"synthetic_date\",\n",
    "    F.dateadd('day', F.col(\"order_dow\"), F.to_date(F.lit('2023-01-01')))\n",
    ")\n",
    "\n",
    "# Drop the order_dow column\n",
    "spine_df = spine_df.drop(\"order_dow\")\n",
    "\n",
    "spine_df.show()"
   ]
  },
  {
   "cell_type": "code",
   "execution_count": null,
   "metadata": {},
   "outputs": [
    {
     "data": {
      "text/plain": [
       "Dataset(\n",
       "  name='DATASCIENCE.INSTACART_FEATURES.instacart_reorder_training',\n",
       "  version='1_0_1',\n",
       ")"
      ]
     },
     "execution_count": 45,
     "metadata": {},
     "output_type": "execute_result"
    }
   ],
   "source": [
    "training_dataset = fs.generate_dataset(\n",
    "    name=\"instacart_reorder_training\",\n",
    "    version=\"1_0_1\",\n",
    "    spine_df=spine_df,\n",
    "    features=[training_features_fv],\n",
    "    spine_timestamp_col=\"synthetic_date\",\n",
    "    spine_label_cols=[\"reordered\"]\n",
    ")"
   ]
  },
  {
   "cell_type": "code",
   "execution_count": 46,
   "metadata": {},
   "outputs": [
    {
     "name": "stdout",
     "output_type": "stream",
     "text": [
      "------------------------------------------------------------------------------------------------------------------------------------------------------------------------------------------------------------------------------------------------------------------------------------------------------------------------------------------------------------------------------------------------------------------------------------------------------------------------------------------------------------------------------------------------------------------------------------------------------------------------------------------------------------------------------------------------------------------------------------------------------------------------------------------------------------------------------------------------------------\n",
      "|\"ORDER_ID\"  |\"USER_ID\"  |\"PRODUCT_ID\"  |\"SYNTHETIC_DATE\"  |\"ORDER_NUMBER\"  |\"ORDER_DOW\"  |\"ORDER_HOUR_OF_DAY\"  |\"REORDERED\"  |\"USER_TOTAL_ORDERS\"  |\"AVG_DAYS_BETWEEN_ORDERS\"  |\"TYPICAL_ORDER_HOUR\"  |\"PREFERRED_ORDER_DAY\"  |\"AVG_BASKET_SIZE\"   |\"DISTINCT_PRODUCTS_COUNT\"  |\"USER_REORDER_RATE\"  |\"AISLE_ID\"  |\"DEPARTMENT_ID\"  |\"PRODUCT_ORDERS\"  |\"PRODUCT_REORDERS\"  |\"PRODUCT_REORDER_RATE\"  |\"PRODUCT_AVG_CART_POSITION\"  |\"DEPARTMENT_POPULARITY_RANK\"  |\"AISLE_POPULARITY_RANK\"  |\"BASKET_SIZE\"  |\"REORDER_RATIO\"  |\"UNIQUE_AISLES\"  |\"UNIQUE_DEPARTMENTS\"  |\"DAY_PART\"  |\"UP_ORDERS\"  |\"UP_AVG_CART_POSITION\"  |\"ORDERS_SINCE_LAST_PURCHASE\"  |\"UP_ORDERS_RATIO\"     |\"DOMINANT_DAY_PART\"  |\"DOMINANT_DOW\"  |\"USER_RELATIVE_FREQUENCY\"  |\"PRODUCT_RELATIVE_FREQUENCY\"  |\"IS_PREFERRED_DOW\"  |\"IS_PREFERRED_TIME\"  |\"PURCHASE_RECENCY_BUCKET\"  |\n",
      "------------------------------------------------------------------------------------------------------------------------------------------------------------------------------------------------------------------------------------------------------------------------------------------------------------------------------------------------------------------------------------------------------------------------------------------------------------------------------------------------------------------------------------------------------------------------------------------------------------------------------------------------------------------------------------------------------------------------------------------------------------------------------------------------------------------------------------------------------------\n",
      "|2844168     |160830     |48600         |2023-01-05        |17              |4            |8                    |1            |16                   |6.07692289352417           |13.0                  |1                      |23.461538314819336  |189                        |0.510362982749939    |117         |19               |2553              |1310                |0.513122022151947       |10.418723106384277           |253                           |25                       |NULL           |NULL             |NULL             |NULL                  |NULL        |7            |14.571429252624512      |2                             |0.5                   |midday               |3               |0.29836100339889526        |0.002741999924182892          |0                   |0                    |medium                     |\n",
      "|1713838     |173137     |31717         |2023-01-07        |22              |6            |13                   |0            |21                   |14.11111068725586          |15.0                  |0                      |12.666666984558105  |156                        |0.46206900477409363  |16          |4                |69524             |43103               |0.6199730038642883      |9.147187232971191            |30                            |1                        |NULL           |NULL             |NULL             |NULL                  |NULL        |NULL         |NULL                    |NULL                          |NULL                  |NULL                 |NULL            |NULL                       |NULL                          |0                   |0                    |old                        |\n",
      "|1335249     |105353     |38341         |2023-01-05        |31              |4            |18                   |0            |30                   |10.333333015441895         |13.0                  |3                      |11.037036895751953  |117                        |0.657895028591156    |78          |19               |1107              |660                 |0.59620600938797        |9.961155891418457            |598                           |101                      |NULL           |NULL             |NULL             |NULL                  |NULL        |NULL         |NULL                    |NULL                          |NULL                  |NULL                 |NULL            |NULL                       |NULL                          |0                   |0                    |old                        |\n",
      "|1264776     |116265     |32331         |2023-01-01        |18              |0            |13                   |1            |17                   |16.428571701049805         |12.0                  |6                      |20.071428298950195  |142                        |0.5860059857368469   |120         |16               |3976              |2759                |0.6939129829406738      |6.937374114990234            |314                           |103                      |NULL           |NULL             |NULL             |NULL                  |NULL        |1            |33.0                    |0                             |0.058823999017477036  |evening              |1               |0.04982199892401695        |0.0002519999979995191         |0                   |0                    |recent                     |\n",
      "|2830334     |158769     |39812         |2023-01-04        |22              |3            |11                   |0            |21                   |9.55555534362793           |12.5                  |3                      |7.5                 |92                         |0.44578298926353455  |16          |4                |19544             |8102                |0.4145520031452179      |9.63119125366211             |107                           |6                        |NULL           |NULL             |NULL             |NULL                  |NULL        |NULL         |NULL                    |NULL                          |NULL                  |NULL                 |NULL            |NULL                       |NULL                          |0                   |0                    |old                        |\n",
      "|366407      |114021     |8151          |2023-01-04        |13              |3            |13                   |0            |12                   |11.666666984558105         |14.0                  |1                      |5.777778148651123   |56                         |0.2432429939508438   |94          |7                |386               |126                 |0.3264249861240387      |10.222798347473145           |1002                          |180                      |NULL           |NULL             |NULL             |NULL                  |NULL        |NULL         |NULL                    |NULL                          |NULL                  |NULL                 |NULL            |NULL                       |NULL                          |0                   |0                    |old                        |\n",
      "|57650       |149854     |1999          |2023-01-04        |37              |3            |0                    |0            |36                   |8.818181991577148          |17.0                  |0                      |8.515151977539062   |153                        |0.5233640074729919   |69          |15               |11297             |5287                |0.46799999475479126     |9.769939422607422            |16                            |4                        |NULL           |NULL             |NULL             |NULL                  |NULL        |NULL         |NULL                    |NULL                          |NULL                  |NULL                 |NULL            |NULL                       |NULL                          |0                   |0                    |old                        |\n",
      "|1613780     |138016     |17872         |2023-01-04        |15              |3            |9                    |1            |14                   |16.909090042114258         |12.0                  |1                      |14.272727012634277  |119                        |0.4278849959373474   |120         |16               |16246             |9767                |0.6011940240859985      |8.199126243591309            |60                            |14                       |NULL           |NULL             |NULL             |NULL                  |NULL        |3            |7.0                     |0                             |0.21428599953651428   |morning              |0               |0.21019099652767181        |0.0001849999971454963         |0                   |1                    |recent                     |\n",
      "|2775069     |108813     |12756         |2023-01-05        |42              |4            |15                   |1            |41                   |8.552631378173828          |14.0                  |4                      |21.236841201782227  |301                        |0.651216983795166    |112         |3                |4970              |3507                |0.7056339979171753      |7.489336013793945            |47                            |25                       |NULL           |NULL             |NULL             |NULL                  |NULL        |1            |22.0                    |0                             |0.024390000849962234  |evening              |5               |0.04708800092339516        |0.0002010000025620684         |0                   |1                    |recent                     |\n",
      "|2370720     |126877     |7756          |2023-01-06        |20              |5            |10                   |0            |19                   |8.6875                     |14.0                  |5                      |19.625              |173                        |0.5483030080795288   |114         |17               |54                |7                   |0.12962999939918518     |7.462963104248047            |1361                          |319                      |NULL           |NULL             |NULL             |NULL                  |NULL        |NULL         |NULL                    |NULL                          |NULL                  |NULL                 |NULL            |NULL                       |NULL                          |0                   |0                    |old                        |\n",
      "------------------------------------------------------------------------------------------------------------------------------------------------------------------------------------------------------------------------------------------------------------------------------------------------------------------------------------------------------------------------------------------------------------------------------------------------------------------------------------------------------------------------------------------------------------------------------------------------------------------------------------------------------------------------------------------------------------------------------------------------------------------------------------------------------------------------------------------------------------\n",
      "\n"
     ]
    }
   ],
   "source": [
    "training_dataset.read.to_snowpark_dataframe().show()"
   ]
  },
  {
   "cell_type": "code",
   "execution_count": null,
   "metadata": {},
   "outputs": [],
   "source": []
  }
 ],
 "metadata": {
  "kernelspec": {
   "display_name": "feature-store",
   "language": "python",
   "name": "python3"
  },
  "language_info": {
   "codemirror_mode": {
    "name": "ipython",
    "version": 3
   },
   "file_extension": ".py",
   "mimetype": "text/x-python",
   "name": "python",
   "nbconvert_exporter": "python",
   "pygments_lexer": "ipython3",
   "version": "3.11.11"
  }
 },
 "nbformat": 4,
 "nbformat_minor": 4
}
