{
 "cells": [
  {
   "cell_type": "code",
   "execution_count": 3,
   "metadata": {},
   "outputs": [],
   "source": [
    "#| hide\n",
    "from nbdev.showdoc import *"
   ]
  },
  {
   "cell_type": "markdown",
   "metadata": {},
   "source": [
    "# Snowflake Feature Store\n",
    "> A Pythonic interface for feature engineering in Snowflake, focusing on simplicity and type safety.\n"
   ]
  },
  {
   "cell_type": "markdown",
   "metadata": {},
   "source": [
    "\n",
    "## What is this?\n",
    "This library provides a clean interface to Snowflake's Feature Store, making it easy to:\n",
    "1. Create and manage feature transformations\n",
    "2. Handle temporal and windowed aggregations\n",
    "3. Generate training datasets with point-in-time correctness\n",
    "4. Maintain feature documentation and versioning\n"
   ]
  },
  {
   "cell_type": "markdown",
   "metadata": {},
   "source": [
    "\n",
    "## Install\n",
    "\n",
    "```bash\n",
    "pip install snowflake-feature-store\n",
    "```\n"
   ]
  },
  {
   "cell_type": "markdown",
   "metadata": {},
   "source": [
    "\n",
    "## How to use\n"
   ]
  },
  {
   "cell_type": "markdown",
   "metadata": {},
   "source": [
    "\n",
    "### Basic Example\n",
    "\n",
    "Here's a minimal example of creating a feature view:"
   ]
  },
  {
   "cell_type": "markdown",
   "metadata": {},
   "source": [
    "```python\n",
    "from snowflake_feature_store.connection import get_connection\n",
    "from snowflake_feature_store.manager import feature_store_session\n",
    "from snowflake_feature_store.feature_view import FeatureViewConfig\n",
    "\n",
    "# Connect and create feature store session\n",
    "conn = get_connection()\n",
    "with feature_store_session(conn) as fs:\n",
    "    # Define customer features\n",
    "    config = FeatureViewConfig(\n",
    "        name=\"customer_behavior\",\n",
    "        domain=\"RETAIL\",\n",
    "        entity=\"CUSTOMER\",\n",
    "        feature_descriptions={\"session_length\": \"Minutes per session\"}\n",
    "    )\n",
    "    \n",
    "    # Create customer entity\n",
    "    fs.add_entity(\n",
    "        name=\"CUSTOMER\",\n",
    "        join_keys=[\"CUSTOMER_ID\"],\n",
    "        description=\"Customer entity for retail domain\"\n",
    "    )\n",
    "    # Create feature view\n",
    "    view = fs.add_feature_view(config, behavior_df, \"CUSTOMER\")\n",
    "````"
   ]
  },
  {
   "cell_type": "markdown",
   "metadata": {},
   "source": [
    "\n",
    "\n",
    "### Feature Transformations\n",
    "\n",
    "Common transformations are built in:"
   ]
  },
  {
   "cell_type": "markdown",
   "metadata": {},
   "source": [
    "```python\n",
    "from snowflake_feature_store.transforms import fill_na, date_diff, window_agg\n",
    "\n",
    "# Fill missing values\n",
    "df = fill_na(['session_length'], 0)(df)\n",
    "\n",
    "# Calculate temporal features\n",
    "df = date_diff('signup_date', 'days_since_signup')(df)\n",
    "\n",
    "# Window aggregations\n",
    "df = window_agg(\n",
    "    {'amount': ['SUM', 'AVG']},\n",
    "    partition_by='customer_id',\n",
    "    order_by='date',\n",
    "    window_size=7\n",
    ")(df)\n",
    "```"
   ]
  },
  {
   "cell_type": "markdown",
   "metadata": {},
   "source": [
    "### Getting Training Data\n",
    "\n",
    "Generate training datasets with point-in-time correctness:\n"
   ]
  },
  {
   "cell_type": "markdown",
   "metadata": {},
   "source": [
    "```python\n",
    "training_data = fs.get_features(\n",
    "    spine_df=customers_df,          # Base dataset\n",
    "    feature_views=[behavior_config], # Features to include\n",
    "    label_cols=['target'],          # Target variables\n",
    "    spine_timestamp_col='date'      # For temporal correctness\n",
    ")\n",
    "```"
   ]
  },
  {
   "cell_type": "markdown",
   "metadata": {},
   "source": [
    "## Core Concepts\n",
    "\n",
    "### Feature Views\n",
    "\n",
    "A feature view encapsulates related features and their transformations. For example:"
   ]
  },
  {
   "cell_type": "markdown",
   "metadata": {},
   "source": [
    "\n",
    "```python\n",
    "# Customer behavior features\n",
    "behavior_config = FeatureViewConfig(\n",
    "    name=\"customer_behavior\",\n",
    "    domain=\"RETAIL\",\n",
    "    entity=\"CUSTOMER\",\n",
    "    feature_type=\"BEHAVIOR\",\n",
    "    feature_descriptions={\n",
    "        \"avg_session_length\": \"Average session length in minutes\",\n",
    "        \"total_purchases\": \"Total number of purchases\"\n",
    "    }\n",
    ")\n",
    "```"
   ]
  },
  {
   "cell_type": "markdown",
   "metadata": {},
   "source": [
    "### Transforms\n",
    "Transforms are composable functions that modify DataFrames. They're type-safe and can be chained:"
   ]
  },
  {
   "cell_type": "markdown",
   "metadata": {},
   "source": [
    "```python\n",
    "from snowflake_feature_store.transforms import Transform\n",
    "\n",
    "def log_transform(col: str) -> Transform:\n",
    "    \"Take log of column values\"\n",
    "    return lambda df: df.with_column(\n",
    "        f\"LOG_{col}\",\n",
    "        F.log(F.col(col))\n",
    "    )\n",
    "\n",
    "# Use in pipeline\n",
    "transforms = [\n",
    "    fill_na(['amount'], 0),\n",
    "    log_transform('amount')\n",
    "]\n",
    "```"
   ]
  },
  {
   "cell_type": "markdown",
   "metadata": {},
   "source": [
    "## Documentation\n",
    "\n",
    "The library is split into the following sections:\n",
    "\n",
    "1. [Connection Management](./01_connection.ipynb): Setting up Snowflake connections\n",
    "2. [Feature Transforms](./02_transforms.ipynb): Data transformation utilities\n",
    "3. [Feature Views](./03_feature_view.ipynb): Feature configuration and management\n",
    "4. [Feature Store](./04_manager.ipynb): High-level feature store operations\n",
    "5. [Examples](./05_simple_examples.ipynb): End-to-end examples and patterns\n",
    "\n",
    "## Advanced Usage\n",
    "\n",
    "See the [examples notebook](./05_examples.ipynb) for:\n",
    "- Window-based aggregations\n",
    "- Custom transformations\n",
    "- Point-in-time correct features\n",
    "- Feature store callbacks\n",
    "- Schema validation\n",
    "\n",
    "## Contributing\n",
    "\n",
    "PRs are welcome! Please see [CONTRIBUTING.md](CONTRIBUTING.md) for guidelines.\n",
    "\n",
    "\n"
   ]
  },
  {
   "cell_type": "markdown",
   "metadata": {},
   "source": [
    "### Installation"
   ]
  },
  {
   "cell_type": "markdown",
   "metadata": {},
   "source": [
    "Install latest from the GitHub [repository][repo]:\n",
    "\n",
    "```sh\n",
    "$ pip install git+https://github.com/Jeremy-Demlow/sf-feature-store.git\n",
    "```\n",
    "\n",
    "or from [pypi][pypi]\n",
    "\n",
    "\n",
    "```sh\n",
    "$ pip install sf_feature_store\n",
    "```\n",
    "\n",
    "\n",
    "[repo]: https://github.com/Jeremy-Demlow/sf-feature-store\n",
    "[docs]: https://Jeremy-Demlow.github.io/sf-feature-store/\n",
    "[pypi]: https://pypi.org/project/sf-feature-store/\n",
    "[conda]: https://anaconda.org/Jeremy-Demlow/sf-feature-store"
   ]
  },
  {
   "cell_type": "markdown",
   "metadata": {},
   "source": []
  },
  {
   "cell_type": "markdown",
   "metadata": {},
   "source": []
  }
 ],
 "metadata": {
  "kernelspec": {
   "display_name": "feature_store",
   "language": "python",
   "name": "python3"
  },
  "language_info": {
   "codemirror_mode": {
    "name": "ipython",
    "version": 3
   },
   "file_extension": ".py",
   "mimetype": "text/x-python",
   "name": "python",
   "nbconvert_exporter": "python",
   "pygments_lexer": "ipython3",
   "version": "3.9.19"
  }
 },
 "nbformat": 4,
 "nbformat_minor": 4
}
