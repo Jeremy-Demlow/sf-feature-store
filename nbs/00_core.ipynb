{
 "cells": [
  {
   "cell_type": "markdown",
   "metadata": {},
   "source": [
    "# core\n",
    "\n",
    "> Fill in a module description here"
   ]
  },
  {
   "cell_type": "code",
   "execution_count": 12,
   "metadata": {},
   "outputs": [],
   "source": [
    "# ! pip install snowflake-ml-python\n",
    "# ! pip install snowflake-snowpark-python"
   ]
  },
  {
   "cell_type": "code",
   "execution_count": 13,
   "metadata": {},
   "outputs": [],
   "source": [
    "#| default_exp core"
   ]
  },
  {
   "cell_type": "code",
   "execution_count": 14,
   "metadata": {},
   "outputs": [],
   "source": [
    "#| hide\n",
    "from nbdev.showdoc import *"
   ]
  },
  {
   "cell_type": "code",
   "execution_count": 15,
   "metadata": {},
   "outputs": [],
   "source": [
    "\n",
    "# | export\n",
    "from __future__ import annotations\n",
    "from typing import Union, List, Dict, Optional, Protocol, Callable\n",
    "from dataclasses import dataclass\n",
    "from fastcore.basics import listify\n",
    "import snowflake.snowpark.functions as F\n",
    "from snowflake.snowpark import DataFrame, Session\n"
   ]
  },
  {
   "cell_type": "code",
   "execution_count": 16,
   "metadata": {},
   "outputs": [],
   "source": [
    "# | export\n",
    "@dataclass\n",
    "class FeatureStoreDefaults:\n",
    "    \"Default settings for feature store operations\"\n",
    "    version_prefix: str = 'V'\n",
    "    refresh_frequency: str = '1 day'\n",
    "    feature_view_prefix: str = 'FV'\n",
    "    creation_mode: str = 'CREATE_IF_NOT_EXIST'\n",
    "    refresh_mode: str = 'FULL'\n"
   ]
  },
  {
   "cell_type": "code",
   "execution_count": 17,
   "metadata": {},
   "outputs": [],
   "source": [
    "# | export\n",
    "defaults = FeatureStoreDefaults()\n"
   ]
  },
  {
   "cell_type": "code",
   "execution_count": 18,
   "metadata": {},
   "outputs": [],
   "source": [
    "# | hide\n",
    "def test_defaults():\n",
    "    \"Test default values are set correctly\"\n",
    "    assert defaults.version_prefix == 'V'\n",
    "    assert defaults.refresh_frequency == '1 day'\n",
    "    assert defaults.feature_view_prefix == 'FV'\n",
    "    test_defaults()\n"
   ]
  },
  {
   "cell_type": "code",
   "execution_count": 19,
   "metadata": {},
   "outputs": [],
   "source": [
    "# | export\n",
    "def create_version(major:int, minor:int=0) -> str:\n",
    "    \"Create a standardized version string (e.g., 'V1_0' for major=1, minor=0)\"\n",
    "    return f\"{defaults.version_prefix}{major}_{minor}\""
   ]
  },
  {
   "cell_type": "code",
   "execution_count": 20,
   "metadata": {},
   "outputs": [],
   "source": [
    "# | export\n",
    "def create_feature_view_name(\n",
    "    domain:str,\n",
    "    entity:str,\n",
    "    feature_type:str\n",
    ") -> str:\n",
    "    \"\"\"Create standardized feature view name\n",
    "    \n",
    "    Args:\n",
    "        domain: Business domain (e.g., 'RETAIL', 'FINANCE')\n",
    "        entity: Main entity name (e.g., 'CUSTOMER', 'PRODUCT')\n",
    "        feature_type: Type of features (e.g., 'BEHAVIOR', 'PROFILE')\n",
    "        \n",
    "    Returns:\n",
    "        Formatted name like 'FV_RETAIL_CUSTOMER_BEHAVIOR'\n",
    "    \n",
    "    Example:\n",
    "        >>> create_feature_view_name('RETAIL', 'CUSTOMER', 'BEHAVIOR')\n",
    "        'FV_RETAIL_CUSTOMER_BEHAVIOR'\n",
    "    \"\"\"\n",
    "    parts = [defaults.feature_view_prefix, entity, feature_type]\n",
    "    if domain: parts.insert(1, domain)\n",
    "    return \"_\".join(part.upper() for part in parts)\n"
   ]
  },
  {
   "cell_type": "code",
   "execution_count": 21,
   "metadata": {},
   "outputs": [],
   "source": [
    "# | hide\n",
    "def test_create_version():\n",
    "    \"Test version string creation\"\n",
    "    assert create_version(1) == 'V1_0'\n",
    "    assert create_version(1, 1) == 'V1_1'\n",
    "    assert create_version(2, 5) == 'V2_5'\n",
    "\n",
    "def test_create_feature_view_name():\n",
    "    \"Test feature view name creation\"\n",
    "    assert create_feature_view_name('RETAIL', 'CUSTOMER', 'BEHAVIOR') == 'FV_RETAIL_CUSTOMER_BEHAVIOR'\n",
    "    assert create_feature_view_name('', 'CUSTOMER', 'PROFILE') == 'FV_CUSTOMER_PROFILE'\n",
    "    \n",
    "test_create_version()\n",
    "test_create_feature_view_name()\n"
   ]
  },
  {
   "cell_type": "code",
   "execution_count": 22,
   "metadata": {},
   "outputs": [],
   "source": [
    "# | export\n",
    "class SQLFormatter:\n",
    "    \"Utilities for SQL query formatting and analysis\"\n",
    "    \n",
    "    @staticmethod\n",
    "    def format_sql(query:str, subq_to_cte:bool=False) -> str:\n",
    "        \"\"\"Format SQL query with proper indentation\n",
    "        \n",
    "        Args:\n",
    "            query: SQL query string to format\n",
    "            subq_to_cte: If True, convert subqueries to CTEs\n",
    "            \n",
    "        Returns:\n",
    "            Formatted SQL string\n",
    "            \n",
    "        Example:\n",
    "            >>> sql = \"SELECT a, b FROM (SELECT * FROM table)\"\n",
    "            >>> print(SQLFormatter.format_sql(sql, True))\n",
    "            WITH _q1 AS (\n",
    "              SELECT *\n",
    "              FROM table\n",
    "            )\n",
    "            SELECT a, b\n",
    "            FROM _q1\n",
    "        \"\"\"\n",
    "        import sqlglot\n",
    "        expression = sqlglot.parse_one(query)\n",
    "        if subq_to_cte:\n",
    "            query = sqlglot.optimizer.optimizer.eliminate_subqueries(expression).sql()\n",
    "        return sqlglot.transpile(query, read='snowflake', pretty=True)[0]\n",
    "    \n",
    "    @staticmethod\n",
    "    def extract_table_names(query:str) -> List[str]:\n",
    "        \"\"\"Extract all table names from a SQL query\n",
    "        \n",
    "        Args:\n",
    "            query: SQL query to analyze\n",
    "            \n",
    "        Returns:\n",
    "            List of table names found in query\n",
    "            \n",
    "        Example:\n",
    "            >>> sql = \"SELECT * FROM table1 JOIN table2\"\n",
    "            >>> SQLFormatter.extract_table_names(sql)\n",
    "            ['table1', 'table2']\n",
    "        \"\"\"\n",
    "        import sqlglot\n",
    "        from sqlglot.expressions import Table\n",
    "        tables = set()\n",
    "        for expr in sqlglot.parse(query):\n",
    "            for table in expr.find_all(Table):\n",
    "                tables.add(table.name)\n",
    "        return list(tables)\n"
   ]
  },
  {
   "cell_type": "code",
   "execution_count": 23,
   "metadata": {},
   "outputs": [],
   "source": [
    "# | hide\n",
    "def test_sql_formatter():\n",
    "    \"Test SQL formatting functionality\"\n",
    "    # Test basic formatting\n",
    "    sql = \"SELECT a,b FROM table\"\n",
    "    formatted = SQLFormatter.format_sql(sql)\n",
    "    assert \"SELECT\" in formatted\n",
    "    assert \"FROM\" in formatted\n",
    "    \n",
    "    # Test subquery conversion\n",
    "    sql = \"SELECT a FROM (SELECT * FROM table)\"\n",
    "    formatted = SQLFormatter.format_sql(sql, True)\n",
    "    assert \"WITH\" in formatted\n",
    "    \n",
    "    # Test table extraction\n",
    "    sql = \"SELECT * FROM table1 JOIN table2\"\n",
    "    tables = SQLFormatter.extract_table_names(sql)\n",
    "    assert 'table1' in tables\n",
    "    assert 'table2' in tables\n",
    "    assert len(tables) == 2\n",
    "\n",
    "test_sql_formatter()\n"
   ]
  },
  {
   "cell_type": "code",
   "execution_count": 24,
   "metadata": {},
   "outputs": [
    {
     "name": "stdout",
     "output_type": "stream",
     "text": [
      "Feature view name: FV_RETAIL_CUSTOMER_BEHAVIOR\n",
      "Version: V1_2\n",
      "Formatted SQL:\n",
      "WITH cte AS (\n",
      "  SELECT\n",
      "    *\n",
      "  FROM table1\n",
      ")\n",
      "SELECT\n",
      "  a,\n",
      "  b\n",
      "FROM cte AS cte, table2\n",
      "Tables used: ['table2', 'table1']\n"
     ]
    }
   ],
   "source": [
    "# | eval: false\n",
    "# Example usage of core functionality\n",
    "from snowflake_feature_store.core import *\n",
    "\n",
    "# Create feature view name\n",
    "fv_name = create_feature_view_name('RETAIL', 'CUSTOMER', 'BEHAVIOR')\n",
    "print(f\"Feature view name: {fv_name}\")\n",
    "\n",
    "# Create version string\n",
    "version = create_version(1, 2)\n",
    "print(f\"Version: {version}\")\n",
    "\n",
    "# Format SQL\n",
    "sql = \"\"\"\n",
    "SELECT a, b \n",
    "FROM (SELECT * FROM table1) \n",
    "JOIN table2\n",
    "\"\"\"\n",
    "formatted = SQLFormatter.format_sql(sql, True)\n",
    "print(\"Formatted SQL:\")\n",
    "print(formatted)\n",
    "\n",
    "tables = SQLFormatter.extract_table_names(sql)\n",
    "print(f\"Tables used: {tables}\")\n"
   ]
  },
  {
   "cell_type": "code",
   "execution_count": 25,
   "metadata": {},
   "outputs": [],
   "source": [
    "#| hide\n",
    "import nbdev; nbdev.nbdev_export()"
   ]
  },
  {
   "cell_type": "code",
   "execution_count": null,
   "metadata": {},
   "outputs": [],
   "source": []
  }
 ],
 "metadata": {
  "kernelspec": {
   "display_name": "feature-store",
   "language": "python",
   "name": "python3"
  },
  "language_info": {
   "codemirror_mode": {
    "name": "ipython",
    "version": 3
   },
   "file_extension": ".py",
   "mimetype": "text/x-python",
   "name": "python",
   "nbconvert_exporter": "python",
   "pygments_lexer": "ipython3",
   "version": "3.11.11"
  }
 },
 "nbformat": 4,
 "nbformat_minor": 4
}
