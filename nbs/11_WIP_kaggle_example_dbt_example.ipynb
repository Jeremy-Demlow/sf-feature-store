{
 "cells": [
  {
   "cell_type": "markdown",
   "metadata": {},
   "source": [
    "# Kaggle Competition Example"
   ]
  },
  {
   "cell_type": "code",
   "execution_count": 4,
   "metadata": {},
   "outputs": [],
   "source": [
    "import os\n",
    "import zipfile\n",
    "from snowflake.snowpark import Session\n",
    "import pandas as pd\n",
    "\n",
    "\n",
    "import os\n",
    "from kaggle.api.kaggle_api_extended import KaggleApi\n",
    "from typing import List\n"
   ]
  },
  {
   "cell_type": "code",
   "execution_count": null,
   "metadata": {},
   "outputs": [],
   "source": [
    "\n",
    "class InstacartDataLoader:\n",
    "    def __init__(self, session: Session):\n",
    "        self.session = session\n",
    "        \n",
    "    def unzip_data_files(self, path: str):\n",
    "        \"\"\"Unzip all CSV files in the directory\"\"\"\n",
    "        print(\"Unzipping data files...\")\n",
    "        for file in os.listdir(path):\n",
    "            if file.endswith('.zip'):\n",
    "                zip_path = os.path.join(path, file)\n",
    "                with zipfile.ZipFile(zip_path, 'r') as zip_ref:\n",
    "                    zip_ref.extractall(path)\n",
    "                print(f\"Unzipped: {file}\")\n",
    "                \n",
    "    def load_csv_to_snowflake(self, file_path: str, table_name: str, schema: str = 'INSTACART_RAW'):\n",
    "        \"\"\"Load CSV file to Snowflake table\"\"\"\n",
    "        print(f\"Loading {file_path} to {schema}.{table_name}\")\n",
    "        chunk_size = 100000\n",
    "        for chunk in pd.read_csv(file_path, chunksize=chunk_size):\n",
    "            df = self.session.create_dataframe(chunk)\n",
    "            df.write.save_as_table(f\"{schema}.{table_name}\", mode=\"append\")\n",
    "            \n",
    "    def setup_incremental_loading(self):\n",
    "        \"\"\"Setup tables for incremental loading\"\"\"\n",
    "        self.session.sql(\"\"\"\n",
    "            CREATE OR REPLACE TABLE INSTACART_RAW.ORDER_PRODUCTS_STAGE (\n",
    "                order_id INTEGER,\n",
    "                product_id INTEGER,\n",
    "                add_to_cart_order INTEGER,\n",
    "                reordered INTEGER,\n",
    "                file_name VARCHAR,\n",
    "                loaded_at TIMESTAMP DEFAULT CURRENT_TIMESTAMP()\n",
    "            )\n",
    "        \"\"\").collect()\n"
   ]
  },
  {
   "cell_type": "code",
   "execution_count": 19,
   "metadata": {},
   "outputs": [],
   "source": [
    "\n",
    "\n",
    "def download_instacart_data(path: str = \"./data\") -> List[str]:\n",
    "    \"\"\"\n",
    "    Download Instacart Market Basket Analysis data\n",
    "    \n",
    "    Args:\n",
    "        path: Directory to save the data\n",
    "        \n",
    "    Returns:\n",
    "        List of downloaded file paths\n",
    "    \n",
    "    Raises:\n",
    "        Exception: If competition rules haven't been accepted or other API errors\n",
    "    \"\"\"\n",
    "    try:\n",
    "        api = KaggleApi()\n",
    "        api.authenticate()\n",
    "        \n",
    "        # Create data directory if it doesn't exist\n",
    "        os.makedirs(path, exist_ok=True)\n",
    "        \n",
    "        # Check if we've already downloaded the data\n",
    "        zip_path = f\"{path}/instacart-market-basket-analysis.zip\"\n",
    "        if os.path.exists(zip_path):\n",
    "            print(\"Data already downloaded, using existing files...\")\n",
    "        else:\n",
    "            print(\"Downloading competition data...\")\n",
    "            try:\n",
    "                api.competition_download_files(\n",
    "                    'instacart-market-basket-analysis',\n",
    "                    path=path\n",
    "                )\n",
    "            except Exception as e:\n",
    "                if \"rules\" in str(e):\n",
    "                    raise Exception(\n",
    "                        \"Please accept the competition rules first at \"\n",
    "                        \"https://www.kaggle.com/competitions/instacart-market-basket-analysis\"\n",
    "                    ) from e\n",
    "                raise\n",
    "        \n",
    "        # Unzip if needed\n",
    "        csv_files = [f for f in os.listdir(path) if f.endswith('.csv')]\n",
    "        if not csv_files:\n",
    "            print(\"Extracting files...\")\n",
    "            import zipfile\n",
    "            with zipfile.ZipFile(zip_path, 'r') as zip_ref:\n",
    "                zip_ref.extractall(path)\n",
    "        \n",
    "        # List available files\n",
    "        csv_files = [f for f in os.listdir(path) if f.endswith('.csv')]\n",
    "        print(\"\\nAvailable files:\")\n",
    "        for file in csv_files:\n",
    "            print(f\"- {file}\")\n",
    "            \n",
    "        return [os.path.join(path, f) for f in csv_files]\n",
    "        \n",
    "    except Exception as e:\n",
    "        print(f\"Error downloading data: {str(e)}\")\n",
    "        raise\n"
   ]
  },
  {
   "cell_type": "code",
   "execution_count": 20,
   "metadata": {},
   "outputs": [
    {
     "name": "stdout",
     "output_type": "stream",
     "text": [
      "Downloading competition data...\n",
      "Extracting files...\n",
      "\n",
      "Available files:\n",
      "- sample_submission.csv\n",
      "\n",
      "Successfully downloaded 1 files\n"
     ]
    }
   ],
   "source": [
    "\n",
    "# Usage\n",
    "try:\n",
    "    files = download_instacart_data()\n",
    "    print(f\"\\nSuccessfully downloaded {len(files)} files\")\n",
    "except Exception as e:\n",
    "    print(f\"Failed to download data: {str(e)}\")\n"
   ]
  },
  {
   "cell_type": "code",
   "execution_count": 24,
   "metadata": {},
   "outputs": [],
   "source": [
    "\n",
    "class InstacartDataLoader:\n",
    "    def __init__(self, session: Session, data_path: str = \"./data\"):\n",
    "        self.session = session\n",
    "        self.data_path = data_path\n",
    "        \n",
    "    @staticmethod\n",
    "    def prep_df(df):\n",
    "        \"\"\"Prepare DataFrame for Snowflake loading\"\"\"\n",
    "        df = df.reset_index(drop=True)\n",
    "        df.index = pd.RangeIndex(start=0, stop=len(df))\n",
    "        df.columns = [col.upper() for col in df.columns]\n",
    "        return df\n",
    "        \n",
    "    def load_data(self):\n",
    "        \"\"\"Load all data using Snowpark DataFrames\"\"\"\n",
    "        print(\"Loading data...\")\n",
    "        \n",
    "        # Define all tables and their primary keys\n",
    "        tables_info = {\n",
    "            \"aisles.csv\": (\"AISLES\", [\"AISLE_ID\"]),\n",
    "            \"departments.csv\": (\"DEPARTMENTS\", [\"DEPARTMENT_ID\"]),\n",
    "            \"products.csv\": (\"PRODUCTS\", [\"PRODUCT_ID\"]),\n",
    "            \"orders.csv\": (\"ORDERS\", [\"ORDER_ID\"]),\n",
    "            \"order_products__prior.csv\": (\"ORDER_PRODUCTS\", [\"ORDER_ID\", \"PRODUCT_ID\"]),\n",
    "            \"order_products__train.csv\": (\"ORDER_PRODUCTS\", [\"ORDER_ID\", \"PRODUCT_ID\"])\n",
    "        }\n",
    "        \n",
    "        # Create schema\n",
    "        self.session.sql(\"CREATE SCHEMA IF NOT EXISTS INSTACART_RAW\").collect()\n",
    "        \n",
    "        # Load each file\n",
    "        for file, (table, pk_cols) in tables_info.items():\n",
    "            print(f\"Processing {file}...\")\n",
    "            \n",
    "            # Read and prep data\n",
    "            df = self.prep_df(pd.read_csv(f\"{self.data_path}/{file}\"))\n",
    "            \n",
    "            # Create or append to table\n",
    "            mode = \"overwrite\" if not file.startswith(\"order_products\") else \"append\"\n",
    "            self.session.create_dataframe(df) \\\n",
    "                .write.mode(mode) \\\n",
    "                .save_as_table(f\"INSTACART_RAW.{table}\")\n",
    "            \n",
    "            # Add primary key if not appending\n",
    "            if mode == \"overwrite\":\n",
    "                pk_str = \", \".join(pk_cols)\n",
    "                try:\n",
    "                    self.session.sql(f\"\"\"\n",
    "                        ALTER TABLE INSTACART_RAW.{table} \n",
    "                        ADD PRIMARY KEY ({pk_str})\n",
    "                    \"\"\").collect()\n",
    "                except Exception as e:\n",
    "                    print(f\"Warning: Could not add primary key to {table}: {str(e)}\")\n",
    "    \n",
    "    def validate_load(self):\n",
    "        \"\"\"Validate the loaded data\"\"\"\n",
    "        print(\"\\nValidating loaded data...\")\n",
    "        for table in [\"AISLES\", \"DEPARTMENTS\", \"PRODUCTS\", \"ORDERS\", \"ORDER_PRODUCTS\"]:\n",
    "            count = self.session.sql(f\"SELECT COUNT(*) as cnt FROM INSTACART_RAW.{table}\").collect()[0]['CNT']\n",
    "            print(f\"{table}: {count:,} rows\")\n"
   ]
  },
  {
   "cell_type": "code",
   "execution_count": 25,
   "metadata": {},
   "outputs": [
    {
     "name": "stdout",
     "output_type": "stream",
     "text": [
      "2025-02-26 19:24:58,340 - snowflake_feature_store - INFO - Using active Snowflake session\n",
      "2025-02-26 19:24:58,343 - snowflake_feature_store - INFO - Initialized connection to \"DATASCIENCE\".\"INSTACART_RAW\"\n",
      "2025-02-26 19:25:00,057 - snowflake_feature_store - INFO - Using role: \"DATA_SCIENTIST\", warehouse: \"DS_WH_XS\", database: DATASCIENCE, schema: INSTACART_RAW\n",
      "Loading data...\n",
      "Processing aisles.csv...\n",
      "Processing departments.csv...\n",
      "Processing products.csv...\n",
      "Processing orders.csv...\n",
      "Processing order_products__prior.csv...\n",
      "Processing order_products__train.csv...\n",
      "\n",
      "Validating loaded data...\n",
      "AISLES: 134 rows\n",
      "DEPARTMENTS: 21 rows\n",
      "PRODUCTS: 49,688 rows\n",
      "ORDERS: 3,421,083 rows\n",
      "ORDER_PRODUCTS: 33,819,106 rows\n"
     ]
    }
   ],
   "source": [
    "from snowflake_feature_store.connection import get_connection\n",
    "\n",
    "# Specify all connection parameters directly\n",
    "database = \"DATASCIENCE\"\n",
    "schema = \"INSTACART_RAW\"\n",
    "warehouse = \"DS_WH_XS\"\n",
    "role = \"DATA_SCIENTIST\"\n",
    "\n",
    "# Get connection with all custom parameters\n",
    "conn = get_connection(\n",
    "    database=database, \n",
    "    schema=schema, \n",
    "    warehouse=warehouse,\n",
    "    role=role\n",
    ")\n",
    "\n",
    "# Usage\n",
    "loader = InstacartDataLoader(conn.session)\n",
    "loader.load_data()\n",
    "loader.validate_load()\n"
   ]
  },
  {
   "cell_type": "code",
   "execution_count": 1,
   "metadata": {},
   "outputs": [],
   "source": [
    "\n",
    "from snowflake.ml.feature_store import (\n",
    "    FeatureStore,\n",
    "    FeatureView,\n",
    "    Entity,\n",
    "    CreationMode\n",
    ")\n"
   ]
  },
  {
   "cell_type": "code",
   "execution_count": 4,
   "metadata": {},
   "outputs": [
    {
     "name": "stdout",
     "output_type": "stream",
     "text": [
      "2025-02-28 16:05:58,043 - snowflake_feature_store - INFO - Using active Snowflake session\n",
      "2025-02-28 16:05:58,045 - snowflake_feature_store - INFO - Initialized connection to \"DATASCIENCE\".\"INSTACART_RAW\"\n",
      "2025-02-28 16:06:01,445 - snowflake_feature_store - INFO - Using role: \"DATA_SCIENTIST\", warehouse: \"DS_WH_XS\", database: DATASCIENCE, schema: INSTACART_RAW\n"
     ]
    }
   ],
   "source": [
    "from snowflake_feature_store.connection import get_connection\n",
    "\n",
    "# Specify all connection parameters directly\n",
    "database = \"DATASCIENCE\"\n",
    "schema = \"INSTACART_RAW\"\n",
    "warehouse = \"DS_WH_XS\"\n",
    "role = \"DATA_SCIENTIST\"\n",
    "\n",
    "# Get connection with all custom parameters\n",
    "conn = get_connection(\n",
    "    database=database, \n",
    "    schema=schema, \n",
    "    warehouse=warehouse,\n",
    "    role=role\n",
    ")\n",
    "session = conn.session"
   ]
  },
  {
   "cell_type": "code",
   "execution_count": 5,
   "metadata": {},
   "outputs": [],
   "source": [
    "import snowflake.snowpark as snowpark\n",
    "from snowflake.ml.feature_store import (\n",
    "    FeatureStore,\n",
    "    FeatureView,\n",
    "    Entity,\n",
    "    CreationMode\n",
    ")\n"
   ]
  },
  {
   "cell_type": "code",
   "execution_count": 6,
   "metadata": {},
   "outputs": [],
   "source": [
    "# Initialize Feature Store\n",
    "fs = FeatureStore(\n",
    "    session=session, \n",
    "    database=\"DATASCIENCE\", \n",
    "    name=\"INSTACART_FEATURES\", \n",
    "    default_warehouse=session.get_current_warehouse(),\n",
    "    creation_mode=CreationMode.CREATE_IF_NOT_EXIST,\n",
    ")\n"
   ]
  },
  {
   "cell_type": "code",
   "execution_count": 7,
   "metadata": {},
   "outputs": [
    {
     "data": {
      "text/plain": [
       "Entity(name=TRAINING_INSTANCE, join_keys=['ORDER_ID', 'USER_ID', 'PRODUCT_ID'], owner=DATA_SCIENTIST, desc=)"
      ]
     },
     "execution_count": 7,
     "metadata": {},
     "output_type": "execute_result"
    }
   ],
   "source": [
    "# Register a combined entity\n",
    "training_entity = Entity(name=\"TRAINING_INSTANCE\", join_keys=[\"ORDER_ID\", \"USER_ID\", \"PRODUCT_ID\"])\n",
    "fs.register_entity(training_entity)"
   ]
  },
  {
   "cell_type": "code",
   "execution_count": 8,
   "metadata": {},
   "outputs": [
    {
     "name": "stdout",
     "output_type": "stream",
     "text": [
      "-------------------------------------------------------------------------------------------------------------------------------------------------------------------------------------------------------------------------------------------------------------------------------------------------------------------------------------------------------------------------------------------------------------------------------------------------------------------------------------------------------------------------------------------------------------------------------------------------------------------------------------------------------------------------------------------------------------------------------------------------------------------------------------------------------------------------------------\n",
      "|\"USER_ID\"  |\"PRODUCT_ID\"  |\"ORDER_ID\"  |\"ORDER_NUMBER\"  |\"ORDER_DOW\"  |\"ORDER_HOUR_OF_DAY\"  |\"REORDERED\"  |\"USER_TOTAL_ORDERS\"  |\"AVG_DAYS_BETWEEN_ORDERS\"  |\"TYPICAL_ORDER_HOUR\"  |\"PREFERRED_ORDER_DAY\"  |\"AVG_BASKET_SIZE\"  |\"DISTINCT_PRODUCTS_COUNT\"  |\"USER_REORDER_RATE\"  |\"AISLE_ID\"  |\"DEPARTMENT_ID\"  |\"PRODUCT_ORDERS\"  |\"PRODUCT_REORDERS\"  |\"PRODUCT_REORDER_RATE\"  |\"PRODUCT_AVG_CART_POSITION\"  |\"DEPARTMENT_POPULARITY_RANK\"  |\"AISLE_POPULARITY_RANK\"  |\"BASKET_SIZE\"  |\"REORDER_RATIO\"  |\"UNIQUE_AISLES\"  |\"UNIQUE_DEPARTMENTS\"  |\"DAY_PART\"  |\"UP_ORDERS\"  |\"UP_AVG_CART_POSITION\"  |\"ORDERS_SINCE_LAST_PURCHASE\"  |\"UP_ORDERS_RATIO\"  |\"DOMINANT_DAY_PART\"  |\"DOMINANT_DOW\"  |\"USER_RELATIVE_FREQUENCY\"  |\"PRODUCT_RELATIVE_FREQUENCY\"  |\"IS_PREFERRED_DOW\"  |\"IS_PREFERRED_TIME\"  |\"PURCHASE_RECENCY_BUCKET\"  |\n",
      "-------------------------------------------------------------------------------------------------------------------------------------------------------------------------------------------------------------------------------------------------------------------------------------------------------------------------------------------------------------------------------------------------------------------------------------------------------------------------------------------------------------------------------------------------------------------------------------------------------------------------------------------------------------------------------------------------------------------------------------------------------------------------------------------------------------------------------------\n",
      "|161288     |44632         |1978112     |6               |3            |12                   |1            |5                    |30.0                       |15.000                |1                      |10.000000          |27                         |0.400000             |115         |7                |75886             |58513               |0.771064                |6.222702                     |1                             |1                        |NULL           |NULL             |NULL             |NULL                  |NULL        |5            |2.200000                |0                             |1.000000           |midday               |5               |0.500000                   |0.000066                      |0                   |1                    |recent                     |\n",
      "|53002      |47310         |1923543     |43              |6            |13                   |1            |42                   |8.76923076923077           |12.000                |0                      |23.564103          |122                        |0.875890             |4           |9                |340               |203                 |0.597059                |11.344118                    |428                           |108                      |NULL           |NULL             |NULL             |NULL                  |NULL        |14           |19.142857               |0                             |0.333333           |midday               |0               |0.594124                   |0.041176                      |0                   |1                    |recent                     |\n",
      "|7776       |8536          |243966      |8               |4            |14                   |1            |7                    |10.0                       |14.000                |3                      |12.750000          |71                         |0.323810             |123         |4                |4204              |2360                |0.561370                |8.942674                     |310                           |59                       |NULL           |NULL             |NULL             |NULL                  |NULL        |1            |4.000000                |2                             |0.200000           |midday               |4               |0.078431                   |0.000238                      |1                   |1                    |medium                     |\n",
      "|18330      |3849          |2457806     |27              |0            |17                   |1            |26                   |14.043478260869565         |16.000                |3                      |9.304348           |60                         |0.764706             |93          |3                |6258              |3911                |0.624960                |8.259508                     |34                            |10                       |NULL           |NULL             |NULL             |NULL                  |NULL        |10           |6.500000                |1                             |0.400000           |midday               |1               |1.074766                   |0.001598                      |0                   |0                    |recent                     |\n",
      "|119573     |21724         |1501979     |9               |5            |17                   |1            |8                    |4.4                        |15.000                |1                      |16.400000          |48                         |0.575221             |66          |6                |2826              |695                 |0.245931                |10.847841                    |11                            |8                        |NULL           |NULL             |NULL             |NULL                  |NULL        |2            |12.000000               |1                             |0.285714           |morning              |1               |0.121951                   |0.000708                      |0                   |0                    |recent                     |\n",
      "|173408     |42356         |1567974     |20              |6            |16                   |1            |19                   |15.8125                    |13.500                |3                      |6.750000           |103                        |0.258993             |88          |13               |15253             |7508                |0.492231                |10.073953                    |6                             |4                        |NULL           |NULL             |NULL             |NULL                  |NULL        |1            |10.000000               |16                            |0.333333           |midday               |3               |0.148148                   |0.000066                      |0                   |0                    |old                        |\n",
      "|177221     |49488         |285366      |16              |6            |12                   |1            |15                   |10.666666666666666         |13.000                |6                      |6.583333           |33                         |0.673267             |66          |6                |1410              |959                 |0.680142                |8.069504                     |45                            |30                       |NULL           |NULL             |NULL             |NULL                  |NULL        |11           |3.818182                |1                             |0.785714           |midday               |6               |1.670886                   |0.007801                      |1                   |1                    |recent                     |\n",
      "|12944      |39781         |145707      |26              |4            |17                   |1            |25                   |12.181818181818182         |9.500                 |1                      |19.545455          |137                        |0.722110             |78          |19               |2119              |1119                |0.528079                |10.380840                    |317                           |66                       |NULL           |NULL             |NULL             |NULL                  |NULL        |10           |5.500000                |1                             |0.416667           |morning              |0               |0.511628                   |0.004719                      |0                   |0                    |recent                     |\n",
      "|43221      |40348         |513971      |9               |4            |19                   |1            |8                    |21.0                       |13.000                |2                      |22.400000          |79                         |0.447552             |128         |3                |6023              |3206                |0.532293                |9.134484                     |36                            |6                        |NULL           |NULL             |NULL             |NULL                  |NULL        |4            |10.500000               |0                             |0.500000           |morning              |2               |0.178571                   |0.000664                      |0                   |0                    |recent                     |\n",
      "|187923     |3307          |2183816     |35              |1            |1                    |1            |34                   |7.354838709677419          |13.000                |0                      |8.870968           |76                         |0.736111             |42          |1                |243               |143                 |0.588477                |7.670782                     |1359                          |86                       |NULL           |NULL             |NULL             |NULL                  |NULL        |5            |7.600000                |0                             |0.147059           |midday               |2               |0.563636                   |0.020576                      |0                   |0                    |recent                     |\n",
      "-------------------------------------------------------------------------------------------------------------------------------------------------------------------------------------------------------------------------------------------------------------------------------------------------------------------------------------------------------------------------------------------------------------------------------------------------------------------------------------------------------------------------------------------------------------------------------------------------------------------------------------------------------------------------------------------------------------------------------------------------------------------------------------------------------------------------------------\n",
      "\n"
     ]
    }
   ],
   "source": [
    "# Create a feature view directly from your training features table\n",
    "training_features_df = session.table(\"DATASCIENCE.INSTACART_RAW_MARTS.INSTACART__TRAINING_FEATURES\")\n",
    "training_features_df.show()"
   ]
  },
  {
   "cell_type": "code",
   "execution_count": 9,
   "metadata": {},
   "outputs": [],
   "source": [
    "# Register as a feature view\n",
    "training_features_fv = FeatureView(\n",
    "    name=\"instacart_training_features\", \n",
    "    entities=[training_entity],\n",
    "    feature_df=training_features_df,\n",
    "    timestamp_col=\"order_dow\",  # Assuming order_dow can serve as a timestamp\n",
    "    refresh_freq=None,\n",
    "    desc=\"Complete set of Instacart features for reorder prediction\"\n",
    ")\n"
   ]
  },
  {
   "cell_type": "code",
   "execution_count": 10,
   "metadata": {},
   "outputs": [],
   "source": [
    "# Register the feature view\n",
    "training_features_fv = fs.register_feature_view(\n",
    "    feature_view=training_features_fv,\n",
    "    version=\"1\",\n",
    "    block=True\n",
    ")"
   ]
  },
  {
   "cell_type": "code",
   "execution_count": 16,
   "metadata": {},
   "outputs": [],
   "source": [
    "\n",
    "# Generate a dataset (optional if you're using the table directly)\n",
    "spine_df = session.sql(\"\"\"\n",
    "    SELECT \n",
    "        order_id,\n",
    "        user_id,\n",
    "        product_id,\n",
    "        order_dow\n",
    "    FROM DATASCIENCE.INSTACART_RAW_MARTS.INSTACART__TRAINING_FEATURES\n",
    "    WHERE order_number > 10  -- Example filter for specific use case\n",
    "\"\"\")"
   ]
  },
  {
   "cell_type": "code",
   "execution_count": null,
   "metadata": {},
   "outputs": [
    {
     "ename": "TypeError",
     "evalue": "FeatureStore.generate_dataset() missing 2 required positional arguments: 'spine_df' and 'features'",
     "output_type": "error",
     "traceback": [
      "\u001b[0;31m---------------------------------------------------------------------------\u001b[0m",
      "\u001b[0;31mTypeError\u001b[0m                                 Traceback (most recent call last)",
      "Cell \u001b[0;32mIn[15], line 1\u001b[0m\n\u001b[0;32m----> 1\u001b[0m training_dataset \u001b[38;5;241m=\u001b[39m \u001b[43mfs\u001b[49m\u001b[38;5;241;43m.\u001b[39;49m\u001b[43mgenerate_dataset\u001b[49m\u001b[43m(\u001b[49m\n\u001b[1;32m      2\u001b[0m \u001b[43m    \u001b[49m\u001b[43mname\u001b[49m\u001b[38;5;241;43m=\u001b[39;49m\u001b[38;5;124;43m\"\u001b[39;49m\u001b[38;5;124;43minstacart_reorder_training\u001b[39;49m\u001b[38;5;124;43m\"\u001b[39;49m\u001b[43m,\u001b[49m\n\u001b[1;32m      3\u001b[0m \u001b[43m    \u001b[49m\u001b[43mversion\u001b[49m\u001b[38;5;241;43m=\u001b[39;49m\u001b[38;5;124;43m\"\u001b[39;49m\u001b[38;5;124;43m1_0\u001b[39;49m\u001b[38;5;124;43m\"\u001b[39;49m\u001b[43m,\u001b[49m\n\u001b[1;32m      4\u001b[0m \u001b[43m    \u001b[49m\u001b[38;5;66;43;03m# spine_df=spine_df,\u001b[39;49;00m\n\u001b[1;32m      5\u001b[0m \u001b[43m    \u001b[49m\u001b[38;5;66;43;03m# features=[training_features_fv],\u001b[39;49;00m\n\u001b[1;32m      6\u001b[0m \u001b[43m    \u001b[49m\u001b[38;5;66;43;03m# spine_timestamp_col=\"event_timestamp\",\u001b[39;49;00m\n\u001b[1;32m      7\u001b[0m \u001b[43m    \u001b[49m\u001b[38;5;66;43;03m# spine_label_cols=[\"reordered\"]\u001b[39;49;00m\n\u001b[1;32m      8\u001b[0m \u001b[43m)\u001b[49m\n",
      "File \u001b[0;32m~/miniconda3/envs/feature-store/lib/python3.11/site-packages/snowflake/ml/_internal/telemetry.py:542\u001b[0m, in \u001b[0;36msend_api_usage_telemetry.<locals>.decorator.<locals>.wrap\u001b[0;34m(*args, **kwargs)\u001b[0m\n\u001b[1;32m    533\u001b[0m telemetry_args \u001b[38;5;241m=\u001b[39m \u001b[38;5;28mdict\u001b[39m(\n\u001b[1;32m    534\u001b[0m     func_name\u001b[38;5;241m=\u001b[39m_get_full_func_name(func),\n\u001b[1;32m    535\u001b[0m     function_category\u001b[38;5;241m=\u001b[39mTelemetryField\u001b[38;5;241m.\u001b[39mFUNC_CAT_USAGE\u001b[38;5;241m.\u001b[39mvalue,\n\u001b[0;32m   (...)\u001b[0m\n\u001b[1;32m    539\u001b[0m     custom_tags\u001b[38;5;241m=\u001b[39mcustom_tags,\n\u001b[1;32m    540\u001b[0m )\n\u001b[1;32m    541\u001b[0m \u001b[38;5;28;01mtry\u001b[39;00m:\n\u001b[0;32m--> 542\u001b[0m     \u001b[38;5;28;01mreturn\u001b[39;00m ctx\u001b[38;5;241m.\u001b[39mrun(execute_func_with_statement_params)\n\u001b[1;32m    543\u001b[0m \u001b[38;5;28;01mexcept\u001b[39;00m \u001b[38;5;167;01mException\u001b[39;00m \u001b[38;5;28;01mas\u001b[39;00m e:\n\u001b[1;32m    544\u001b[0m     \u001b[38;5;28;01mif\u001b[39;00m \u001b[38;5;129;01mnot\u001b[39;00m \u001b[38;5;28misinstance\u001b[39m(e, snowml_exceptions\u001b[38;5;241m.\u001b[39mSnowflakeMLException):\n\u001b[1;32m    545\u001b[0m         \u001b[38;5;66;03m# already handled via a nested decorated function\u001b[39;00m\n",
      "File \u001b[0;32m~/miniconda3/envs/feature-store/lib/python3.11/site-packages/snowflake/ml/_internal/telemetry.py:503\u001b[0m, in \u001b[0;36msend_api_usage_telemetry.<locals>.decorator.<locals>.wrap.<locals>.execute_func_with_statement_params\u001b[0;34m()\u001b[0m\n\u001b[1;32m    501\u001b[0m \u001b[38;5;28;01mdef\u001b[39;00m\u001b[38;5;250m \u001b[39m\u001b[38;5;21mexecute_func_with_statement_params\u001b[39m() \u001b[38;5;241m-\u001b[39m\u001b[38;5;241m>\u001b[39m _ReturnValue:\n\u001b[1;32m    502\u001b[0m     _patch_manager\u001b[38;5;241m.\u001b[39mset_statement_params(statement_params)\n\u001b[0;32m--> 503\u001b[0m     result \u001b[38;5;241m=\u001b[39m \u001b[43mfunc\u001b[49m\u001b[43m(\u001b[49m\u001b[38;5;241;43m*\u001b[39;49m\u001b[43margs\u001b[49m\u001b[43m,\u001b[49m\u001b[43m \u001b[49m\u001b[38;5;241;43m*\u001b[39;49m\u001b[38;5;241;43m*\u001b[39;49m\u001b[43mkwargs\u001b[49m\u001b[43m)\u001b[49m\n\u001b[1;32m    504\u001b[0m     \u001b[38;5;28;01mreturn\u001b[39;00m update_stmt_params_if_snowpark_df(result, statement_params)\n",
      "File \u001b[0;32m~/miniconda3/envs/feature-store/lib/python3.11/site-packages/snowflake/ml/feature_store/feature_store.py:178\u001b[0m, in \u001b[0;36mswitch_warehouse.<locals>.wrapper\u001b[0;34m(self, *args, **kargs)\u001b[0m\n\u001b[1;32m    176\u001b[0m         \u001b[38;5;28mself\u001b[39m\u001b[38;5;241m.\u001b[39m_session\u001b[38;5;241m.\u001b[39muse_warehouse(\u001b[38;5;28mself\u001b[39m\u001b[38;5;241m.\u001b[39m_default_warehouse)\n\u001b[1;32m    177\u001b[0m         warehouse_updated \u001b[38;5;241m=\u001b[39m \u001b[38;5;28;01mTrue\u001b[39;00m\n\u001b[0;32m--> 178\u001b[0m     \u001b[38;5;28;01mreturn\u001b[39;00m \u001b[43mf\u001b[49m\u001b[43m(\u001b[49m\u001b[38;5;28;43mself\u001b[39;49m\u001b[43m,\u001b[49m\u001b[43m \u001b[49m\u001b[38;5;241;43m*\u001b[39;49m\u001b[43margs\u001b[49m\u001b[43m,\u001b[49m\u001b[43m \u001b[49m\u001b[38;5;241;43m*\u001b[39;49m\u001b[38;5;241;43m*\u001b[39;49m\u001b[43mkargs\u001b[49m\u001b[43m)\u001b[49m\n\u001b[1;32m    179\u001b[0m \u001b[38;5;28;01mfinally\u001b[39;00m:\n\u001b[1;32m    180\u001b[0m     \u001b[38;5;28;01mif\u001b[39;00m warehouse_updated \u001b[38;5;129;01mand\u001b[39;00m original_warehouse \u001b[38;5;129;01mis\u001b[39;00m \u001b[38;5;129;01mnot\u001b[39;00m \u001b[38;5;28;01mNone\u001b[39;00m:\n",
      "File \u001b[0;32m~/miniconda3/envs/feature-store/lib/python3.11/site-packages/snowflake/ml/feature_store/feature_store.py:197\u001b[0m, in \u001b[0;36mdispatch_decorator.<locals>.decorator.<locals>.wrap\u001b[0;34m(self, *args, **kargs)\u001b[0m\n\u001b[1;32m    193\u001b[0m \u001b[38;5;129m@telemetry\u001b[39m\u001b[38;5;241m.\u001b[39msend_api_usage_telemetry(project\u001b[38;5;241m=\u001b[39m_PROJECT)\n\u001b[1;32m    194\u001b[0m \u001b[38;5;129m@switch_warehouse\u001b[39m\n\u001b[1;32m    195\u001b[0m \u001b[38;5;129m@functools\u001b[39m\u001b[38;5;241m.\u001b[39mwraps(f)\n\u001b[1;32m    196\u001b[0m \u001b[38;5;28;01mdef\u001b[39;00m\u001b[38;5;250m \u001b[39m\u001b[38;5;21mwrap\u001b[39m(\u001b[38;5;28mself\u001b[39m: FeatureStore, \u001b[38;5;241m/\u001b[39m, \u001b[38;5;241m*\u001b[39margs: _Args\u001b[38;5;241m.\u001b[39margs, \u001b[38;5;241m*\u001b[39m\u001b[38;5;241m*\u001b[39mkargs: _Args\u001b[38;5;241m.\u001b[39mkwargs) \u001b[38;5;241m-\u001b[39m\u001b[38;5;241m>\u001b[39m _RT:\n\u001b[0;32m--> 197\u001b[0m     \u001b[38;5;28;01mreturn\u001b[39;00m \u001b[43mf\u001b[49m\u001b[43m(\u001b[49m\u001b[38;5;28;43mself\u001b[39;49m\u001b[43m,\u001b[49m\u001b[43m \u001b[49m\u001b[38;5;241;43m*\u001b[39;49m\u001b[43margs\u001b[49m\u001b[43m,\u001b[49m\u001b[43m \u001b[49m\u001b[38;5;241;43m*\u001b[39;49m\u001b[38;5;241;43m*\u001b[39;49m\u001b[43mkargs\u001b[49m\u001b[43m)\u001b[49m\n",
      "\u001b[0;31mTypeError\u001b[0m: FeatureStore.generate_dataset() missing 2 required positional arguments: 'spine_df' and 'features'"
     ]
    }
   ],
   "source": [
    "training_dataset = fs.generate_dataset(\n",
    "    name=\"instacart_reorder_training\",\n",
    "    version=\"1_0\",\n",
    "    spine_df=spine_df,\n",
    "    features=[training_features_fv],\n",
    "    spine_timestamp_col=\"order_dow\",\n",
    "    spine_label_cols=[\"reordered\"]\n",
    ")"
   ]
  },
  {
   "cell_type": "code",
   "execution_count": null,
   "metadata": {},
   "outputs": [],
   "source": []
  }
 ],
 "metadata": {
  "kernelspec": {
   "display_name": "feature-store",
   "language": "python",
   "name": "python3"
  },
  "language_info": {
   "codemirror_mode": {
    "name": "ipython",
    "version": 3
   },
   "file_extension": ".py",
   "mimetype": "text/x-python",
   "name": "python",
   "nbconvert_exporter": "python",
   "pygments_lexer": "ipython3",
   "version": "3.11.11"
  }
 },
 "nbformat": 4,
 "nbformat_minor": 4
}
