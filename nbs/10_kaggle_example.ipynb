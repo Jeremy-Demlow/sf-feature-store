{
 "cells": [
  {
   "cell_type": "markdown",
   "metadata": {},
   "source": [
    "# Kaggle Competition Example"
   ]
  },
  {
   "cell_type": "code",
   "execution_count": 1,
   "metadata": {},
   "outputs": [],
   "source": [
    "import os\n",
    "from typing import Optional\n",
    "from pathlib import Path\n",
    "import logging\n",
    "from datetime import datetime, timedelta\n",
    "\n",
    "import snowflake.snowpark.functions as F\n",
    "from snowflake.snowpark import Window\n",
    "\n",
    "from snowflake_feature_store.connection import get_connection\n",
    "from snowflake_feature_store.manager import FeatureStoreManager\n",
    "from snowflake_feature_store.config import (\n",
    "    FeatureViewConfig, FeatureConfig, RefreshConfig, \n",
    "    FeatureValidationConfig\n",
    ")\n",
    "from snowflake_feature_store.transforms import (\n",
    "    Transform, TransformConfig, moving_agg, \n",
    "    fill_na, date_diff, CustomTransform\n",
    ")\n",
    "from snowflake_feature_store.examples import (\n",
    "    get_example_data, create_feature_configs\n",
    ")\n",
    "from snowflake_feature_store.logging import logger"
   ]
  },
  {
   "cell_type": "code",
   "execution_count": 2,
   "metadata": {},
   "outputs": [
    {
     "name": "stdout",
     "output_type": "stream",
     "text": [
      "2025-03-03 17:22:26,166 - snowflake_feature_store - INFO - No active session found, creating new connection from environment\n",
      "2025-03-03 17:22:26,878 - snowflake_feature_store - INFO - Initialized connection to \"DATASCIENCE\".\"FEATURE_STORE\"\n",
      "2025-03-03 17:22:27,778 - snowflake_feature_store - INFO - Using role: \"ACCOUNTADMIN\", warehouse: \"CONTAINER_DEMO_WH\", database: DATASCIENCE, schema: FEATURE_STORE\n"
     ]
    }
   ],
   "source": [
    "\n",
    "# Connect to Snowflake and create feature store\n",
    "conn = get_connection(\n",
    "    database=\"DATASCIENCE\",\n",
    "    schema=\"FEATURE_STORE\",\n",
    "    create_objects=True\n",
    ")"
   ]
  },
  {
   "cell_type": "code",
   "execution_count": 3,
   "metadata": {},
   "outputs": [
    {
     "name": "stdout",
     "output_type": "stream",
     "text": [
      "2025-03-03 17:22:30,633 - snowflake_feature_store - INFO - FeatureStoreManager initialized\n"
     ]
    }
   ],
   "source": [
    "\n",
    "# Create a feature store manager\n",
    "manager = FeatureStoreManager(\n",
    "    connection=conn,\n",
    "    overwrite=True\n",
    ")\n"
   ]
  },
  {
   "cell_type": "markdown",
   "metadata": {},
   "source": [
    "\n",
    "# 1. Define Entities\n"
   ]
  },
  {
   "cell_type": "code",
   "execution_count": 4,
   "metadata": {},
   "outputs": [
    {
     "name": "stderr",
     "output_type": "stream",
     "text": [
      "/Users/jdemlow/miniconda3/envs/feature-store/lib/python3.11/site-packages/snowflake/ml/feature_store/feature_store.py:197: UserWarning: Entity USER already exists. Skip registration.\n",
      "  return f(self, *args, **kargs)\n",
      "/Users/jdemlow/miniconda3/envs/feature-store/lib/python3.11/site-packages/snowflake/ml/feature_store/feature_store.py:197: UserWarning: Entity PRODUCT already exists. Skip registration.\n",
      "  return f(self, *args, **kargs)\n",
      "/Users/jdemlow/miniconda3/envs/feature-store/lib/python3.11/site-packages/snowflake/ml/feature_store/feature_store.py:197: UserWarning: Entity USER_PRODUCT already exists. Skip registration.\n",
      "  return f(self, *args, **kargs)\n"
     ]
    },
    {
     "data": {
      "text/plain": [
       "<snowflake_feature_store.manager.FeatureStoreManager at 0x143615090>"
      ]
     },
     "execution_count": 4,
     "metadata": {},
     "output_type": "execute_result"
    }
   ],
   "source": [
    "# User entity\n",
    "manager.add_entity(\n",
    "    name=\"USER\",\n",
    "    join_keys=[\"USER_ID\"],\n",
    "    description=\"Instacart users who place orders\"\n",
    ")\n",
    "\n",
    "# Product entity\n",
    "manager.add_entity(\n",
    "    name=\"PRODUCT\",\n",
    "    join_keys=[\"PRODUCT_ID\"],\n",
    "    description=\"Products available in Instacart\"\n",
    ")\n",
    "\n",
    "# User-Product entity\n",
    "manager.add_entity(\n",
    "    name=\"USER_PRODUCT\",\n",
    "    join_keys=[\"USER_ID\", \"PRODUCT_ID\"],\n",
    "    description=\"Interactions between users and products\"\n",
    ")\n"
   ]
  },
  {
   "cell_type": "markdown",
   "metadata": {},
   "source": [
    "\n",
    "# 2. Create base DataFrames for features\n"
   ]
  },
  {
   "cell_type": "markdown",
   "metadata": {},
   "source": [
    "### User features\n"
   ]
  },
  {
   "cell_type": "code",
   "execution_count": 45,
   "metadata": {},
   "outputs": [],
   "source": [
    "user_features_df = conn.session.sql(\"\"\"\n",
    "SELECT \n",
    "    USER_ID,\n",
    "    COUNT(DISTINCT ORDER_ID) AS USER_TOTAL_ORDERS,\n",
    "    AVG(DAYS_SINCE_PRIOR_ORDER) AS AVG_DAYS_BETWEEN_ORDERS,\n",
    "    PERCENTILE_CONT(0.5) WITHIN GROUP (ORDER BY ORDER_HOUR_OF_DAY) AS TYPICAL_ORDER_HOUR,\n",
    "    MODE(ORDER_DOW) AS PREFERRED_ORDER_DAY,\n",
    "    AVG(BASKET_SIZE) AS AVG_BASKET_SIZE,\n",
    "    COUNT(DISTINCT PRODUCT_ID) AS DISTINCT_PRODUCTS_COUNT,\n",
    "    SUM(REORDERED) / NULLIF(COUNT(REORDERED), 0) AS USER_REORDER_RATE\n",
    "FROM (\n",
    "    SELECT \n",
    "        o.USER_ID, \n",
    "        o.ORDER_ID,\n",
    "        o.ORDER_DOW,\n",
    "        o.ORDER_HOUR_OF_DAY,\n",
    "        o.DAYS_SINCE_PRIOR_ORDER,\n",
    "        COUNT(op.PRODUCT_ID) AS BASKET_SIZE,\n",
    "        op.PRODUCT_ID,\n",
    "        op.REORDERED,\n",
    "        DATEADD('day', o.order_dow, TO_DATE('2023-01-01')) AS synthetic_date\n",
    "    FROM INSTACART_RAW.ORDERS o\n",
    "    JOIN INSTACART_RAW.ORDER_PRODUCTS op ON o.ORDER_ID = op.ORDER_ID\n",
    "    WHERE o.EVAL_SET = 'prior'\n",
    "    GROUP BY 1, 2, 3, 4, 5, 7, 8\n",
    ") user_orders\n",
    "GROUP BY USER_ID\n",
    "\"\"\")\n"
   ]
  },
  {
   "cell_type": "markdown",
   "metadata": {},
   "source": [
    "\n",
    "### Product features\n"
   ]
  },
  {
   "cell_type": "code",
   "execution_count": 46,
   "metadata": {},
   "outputs": [],
   "source": [
    "product_features_df = conn.session.sql(\"\"\"\n",
    "SELECT \n",
    "    p.PRODUCT_ID,\n",
    "    p.AISLE_ID,\n",
    "    p.DEPARTMENT_ID,\n",
    "    COUNT(DISTINCT op.ORDER_ID) AS PRODUCT_ORDERS,\n",
    "    SUM(op.REORDERED) AS PRODUCT_REORDERS,\n",
    "    SUM(op.REORDERED) / NULLIF(COUNT(CASE WHEN op.REORDERED = 1 THEN 1 END), 0) AS PRODUCT_REORDER_RATE,\n",
    "    AVG(op.ADD_TO_CART_ORDER) AS PRODUCT_AVG_CART_POSITION\n",
    "FROM INSTACART_RAW.PRODUCTS p\n",
    "JOIN INSTACART_RAW.ORDER_PRODUCTS op ON p.PRODUCT_ID = op.PRODUCT_ID\n",
    "JOIN INSTACART_RAW.ORDERS o ON op.ORDER_ID = o.ORDER_ID\n",
    "WHERE o.EVAL_SET = 'prior'\n",
    "GROUP BY p.PRODUCT_ID, p.AISLE_ID, p.DEPARTMENT_ID\n",
    "\"\"\")\n"
   ]
  },
  {
   "cell_type": "markdown",
   "metadata": {},
   "source": [
    "\n",
    "# User-Product features\n"
   ]
  },
  {
   "cell_type": "code",
   "execution_count": 47,
   "metadata": {},
   "outputs": [],
   "source": [
    "user_product_features_df = conn.session.sql(\"\"\"\n",
    "WITH user_product_history AS (\n",
    "    SELECT \n",
    "        o.USER_ID,\n",
    "        op.PRODUCT_ID,\n",
    "        o.ORDER_ID,\n",
    "        o.ORDER_NUMBER,\n",
    "        o.ORDER_DOW,\n",
    "        o.ORDER_HOUR_OF_DAY,\n",
    "        op.REORDERED,\n",
    "        op.ADD_TO_CART_ORDER,\n",
    "        ROW_NUMBER() OVER (PARTITION BY o.USER_ID, op.PRODUCT_ID ORDER BY o.ORDER_NUMBER DESC) AS rn,\n",
    "        COUNT(*) OVER (PARTITION BY o.USER_ID, op.PRODUCT_ID) AS UP_ORDERS,\n",
    "        AVG(op.ADD_TO_CART_ORDER) OVER (PARTITION BY o.USER_ID, op.PRODUCT_ID) AS UP_AVG_CART_POSITION\n",
    "    FROM INSTACART_RAW.ORDERS o\n",
    "    JOIN INSTACART_RAW.ORDER_PRODUCTS op ON o.ORDER_ID = op.ORDER_ID\n",
    "    WHERE o.EVAL_SET = 'prior'\n",
    "),\n",
    "user_last_order AS (\n",
    "    SELECT \n",
    "        USER_ID, \n",
    "        MAX(ORDER_NUMBER) AS LAST_ORDER_NUMBER\n",
    "    FROM INSTACART_RAW.ORDERS\n",
    "    WHERE EVAL_SET = 'prior'\n",
    "    GROUP BY USER_ID\n",
    ")\n",
    "SELECT \n",
    "    h.USER_ID,\n",
    "    h.PRODUCT_ID,\n",
    "    h.ORDER_ID,\n",
    "    h.ORDER_NUMBER,\n",
    "    DATEADD('day', h.order_dow, TO_DATE('2023-01-01')) AS synthetic_date,\n",
    "    h.ORDER_DOW,\n",
    "    h.ORDER_HOUR_OF_DAY,\n",
    "    h.REORDERED,\n",
    "    h.UP_ORDERS,\n",
    "    h.UP_AVG_CART_POSITION,\n",
    "    l.LAST_ORDER_NUMBER - h.ORDER_NUMBER AS ORDERS_SINCE_LAST_PURCHASE\n",
    "FROM user_product_history h\n",
    "JOIN user_last_order l ON h.USER_ID = l.USER_ID\n",
    "WHERE h.rn = 1\n",
    "\"\"\")\n"
   ]
  },
  {
   "cell_type": "markdown",
   "metadata": {},
   "source": [
    "\n",
    "# 3. Define Feature Configurations\n"
   ]
  },
  {
   "cell_type": "code",
   "execution_count": 48,
   "metadata": {},
   "outputs": [],
   "source": [
    "# User feature configs\n",
    "user_feature_configs = {\n",
    "    \"USER_TOTAL_ORDERS\": FeatureConfig(\n",
    "        name=\"USER_TOTAL_ORDERS\",\n",
    "        description=\"Total number of orders placed by user\",\n",
    "        validation=FeatureValidationConfig(null_threshold=0.0, range_check=True, min_value=1)\n",
    "    ),\n",
    "    \"AVG_DAYS_BETWEEN_ORDERS\": FeatureConfig(\n",
    "        name=\"AVG_DAYS_BETWEEN_ORDERS\",\n",
    "        description=\"Average days between orders\",\n",
    "        validation=FeatureValidationConfig(null_threshold=0.1, range_check=True, min_value=0)\n",
    "    ),\n",
    "    \"TYPICAL_ORDER_HOUR\": FeatureConfig(\n",
    "        name=\"TYPICAL_ORDER_HOUR\",\n",
    "        description=\"Median hour of day when user places orders\",\n",
    "        validation=FeatureValidationConfig(null_threshold=0.0, range_check=True, min_value=0, max_value=23)\n",
    "    ),\n",
    "    \"PREFERRED_ORDER_DAY\": FeatureConfig(\n",
    "        name=\"PREFERRED_ORDER_DAY\",\n",
    "        description=\"Most common day of week for orders (0=Sunday)\",\n",
    "        validation=FeatureValidationConfig(null_threshold=0.0, range_check=True, min_value=0, max_value=6)\n",
    "    ),\n",
    "    \"AVG_BASKET_SIZE\": FeatureConfig(\n",
    "        name=\"AVG_BASKET_SIZE\",\n",
    "        description=\"Average number of products per order\",\n",
    "        validation=FeatureValidationConfig(null_threshold=0.0, range_check=True, min_value=1)\n",
    "    ),\n",
    "    \"DISTINCT_PRODUCTS_COUNT\": FeatureConfig(\n",
    "        name=\"DISTINCT_PRODUCTS_COUNT\",\n",
    "        description=\"Number of unique products ordered\",\n",
    "        validation=FeatureValidationConfig(null_threshold=0.0, range_check=True, min_value=1)\n",
    "    ),\n",
    "    \"USER_REORDER_RATE\": FeatureConfig(\n",
    "        name=\"USER_REORDER_RATE\",\n",
    "        description=\"Proportion of products that are reordered\",\n",
    "        validation=FeatureValidationConfig(null_threshold=0.0, range_check=True, min_value=0, max_value=1)\n",
    "    ),\n",
    "    \"DOMINANT_DAY_PART\": FeatureConfig(\n",
    "        name=\"DOMINANT_DAY_PART\",\n",
    "        description=\"Most common time of day for orders\",\n",
    "        validation=FeatureValidationConfig(null_threshold=0.1)\n",
    "    )\n",
    "}\n"
   ]
  },
  {
   "cell_type": "code",
   "execution_count": 49,
   "metadata": {},
   "outputs": [],
   "source": [
    "\n",
    "# Product feature configs\n",
    "product_feature_configs = {\n",
    "    \"AISLE_ID\": FeatureConfig(\n",
    "        name=\"AISLE_ID\",\n",
    "        description=\"Aisle ID for the product\",\n",
    "        validation=FeatureValidationConfig(null_threshold=0.0)\n",
    "    ),\n",
    "    \"DEPARTMENT_ID\": FeatureConfig(\n",
    "        name=\"DEPARTMENT_ID\",\n",
    "        description=\"Department ID for the product\",\n",
    "        validation=FeatureValidationConfig(null_threshold=0.0)\n",
    "    ),\n",
    "    \"PRODUCT_ORDERS\": FeatureConfig(\n",
    "        name=\"PRODUCT_ORDERS\",\n",
    "        description=\"Number of orders containing this product\",\n",
    "        validation=FeatureValidationConfig(null_threshold=0.0, range_check=True, min_value=1)\n",
    "    ),\n",
    "    \"PRODUCT_REORDERS\": FeatureConfig(\n",
    "        name=\"PRODUCT_REORDERS\",\n",
    "        description=\"Number of times this product was reordered\",\n",
    "        validation=FeatureValidationConfig(null_threshold=0.0, range_check=True, min_value=0)\n",
    "    ),\n",
    "    \"PRODUCT_REORDER_RATE\": FeatureConfig(\n",
    "        name=\"PRODUCT_REORDER_RATE\",\n",
    "        description=\"Proportion of orders that are reorders\",\n",
    "        validation=FeatureValidationConfig(null_threshold=0.1, range_check=True, min_value=0, max_value=1)\n",
    "    ),\n",
    "    \"PRODUCT_AVG_CART_POSITION\": FeatureConfig(\n",
    "        name=\"PRODUCT_AVG_CART_POSITION\",\n",
    "        description=\"Average position in cart\",\n",
    "        validation=FeatureValidationConfig(null_threshold=0.0, range_check=True, min_value=1)\n",
    "    ),\n",
    "    \"DEPARTMENT_POPULARITY_RANK\": FeatureConfig(\n",
    "        name=\"DEPARTMENT_POPULARITY_RANK\",\n",
    "        description=\"Popularity rank within department\",\n",
    "        validation=FeatureValidationConfig(null_threshold=0.1, range_check=True, min_value=1)\n",
    "    ),\n",
    "    \"AISLE_POPULARITY_RANK\": FeatureConfig(\n",
    "        name=\"AISLE_POPULARITY_RANK\",\n",
    "        description=\"Popularity rank within aisle\",\n",
    "        validation=FeatureValidationConfig(null_threshold=0.1, range_check=True, min_value=1)\n",
    "    )\n",
    "}\n"
   ]
  },
  {
   "cell_type": "code",
   "execution_count": 50,
   "metadata": {},
   "outputs": [],
   "source": [
    "# User-Product feature configs\n",
    "user_product_feature_configs = {\n",
    "    \"ORDER_DOW\": FeatureConfig(\n",
    "        name=\"ORDER_DOW\",\n",
    "        description=\"Day of week for the order\"\n",
    "    ),\n",
    "    \"SYNTHETIC_DATE\": FeatureConfig(\n",
    "        name=\"SYNTHETIC_DATE\",\n",
    "        description=\"Created Date For Feature Store\"\n",
    "    ),\n",
    "    \"ORDER_HOUR_OF_DAY\": FeatureConfig(\n",
    "        name=\"ORDER_HOUR_OF_DAY\",\n",
    "        description=\"Hour of day for the order\"\n",
    "    ),\n",
    "    \"REORDERED\": FeatureConfig(\n",
    "        name=\"REORDERED\",\n",
    "        description=\"Whether the product was reordered\"\n",
    "    ),\n",
    "    \"UP_ORDERS\": FeatureConfig(\n",
    "        name=\"UP_ORDERS\",\n",
    "        description=\"Number of times user ordered this product\",\n",
    "        validation=FeatureValidationConfig(null_threshold=0.0, range_check=True, min_value=1)\n",
    "    ),\n",
    "    \"UP_AVG_CART_POSITION\": FeatureConfig(\n",
    "        name=\"UP_AVG_CART_POSITION\",\n",
    "        description=\"Average cart position for this user-product\",\n",
    "        validation=FeatureValidationConfig(null_threshold=0.0, range_check=True, min_value=1)\n",
    "    ),\n",
    "    \"ORDERS_SINCE_LAST_PURCHASE\": FeatureConfig(\n",
    "        name=\"ORDERS_SINCE_LAST_PURCHASE\",\n",
    "        description=\"Number of orders since user last purchased this product\",\n",
    "        validation=FeatureValidationConfig(null_threshold=0.1, range_check=True, min_value=0)\n",
    "    ),\n",
    "    \"UP_ORDERS_RATIO\": FeatureConfig(\n",
    "        name=\"UP_ORDERS_RATIO\",\n",
    "        description=\"Ratio of orders containing this product to total user orders\",\n",
    "        validation=FeatureValidationConfig(null_threshold=0.1, range_check=True, min_value=0, max_value=1)\n",
    "    ),\n",
    "    \"PURCHASE_RECENCY_BUCKET\": FeatureConfig(\n",
    "        name=\"PURCHASE_RECENCY_BUCKET\",\n",
    "        description=\"Recency category of last purchase (recent, medium, old)\",\n",
    "        validation=FeatureValidationConfig(null_threshold=0.1)\n",
    "    )\n",
    "}\n"
   ]
  },
  {
   "cell_type": "markdown",
   "metadata": {},
   "source": [
    "\n",
    "# 4. Define Feature View Configs\n"
   ]
  },
  {
   "cell_type": "code",
   "execution_count": 51,
   "metadata": {},
   "outputs": [],
   "source": [
    "# User feature view config\n",
    "user_config = FeatureViewConfig(\n",
    "    name=\"user_features\",\n",
    "    domain=\"INSTACART\",\n",
    "    entity=\"USER\",\n",
    "    feature_type=\"BEHAVIOR\",\n",
    "    refresh=RefreshConfig(frequency=\"1 day\", mode=\"INCREMENTAL\"),\n",
    "    features=user_feature_configs,\n",
    "    description=\"User behavior features for Instacart market basket prediction\"\n",
    ")\n"
   ]
  },
  {
   "cell_type": "code",
   "execution_count": 52,
   "metadata": {},
   "outputs": [],
   "source": [
    "\n",
    "# Product feature view config\n",
    "product_config = FeatureViewConfig(\n",
    "    name=\"product_features\",\n",
    "    domain=\"INSTACART\",\n",
    "    entity=\"PRODUCT\",\n",
    "    feature_type=\"ATTRIBUTE\",\n",
    "    refresh=RefreshConfig(frequency=\"1 day\", mode=\"INCREMENTAL\"),\n",
    "    features=product_feature_configs,\n",
    "    description=\"Product features for Instacart market basket prediction\"\n",
    ")\n"
   ]
  },
  {
   "cell_type": "code",
   "execution_count": 53,
   "metadata": {},
   "outputs": [],
   "source": [
    "# User-Product feature view config\n",
    "user_product_config = FeatureViewConfig(\n",
    "    name=\"user_product_features\",\n",
    "    domain=\"INSTACART\",\n",
    "    entity=\"USER_PRODUCT\",\n",
    "    feature_type=\"INTERACTION\",\n",
    "    refresh=RefreshConfig(frequency=\"1 day\", mode=\"INCREMENTAL\"),\n",
    "    features=user_product_feature_configs,  # Updated feature configs\n",
    "    description=\"User-product interaction features for Instacart market basket prediction\"\n",
    ")\n"
   ]
  },
  {
   "cell_type": "markdown",
   "metadata": {},
   "source": [
    "\n",
    "# 5. Define Transformations\n"
   ]
  },
  {
   "cell_type": "markdown",
   "metadata": {},
   "source": [
    "### User transformations\n"
   ]
  },
  {
   "cell_type": "code",
   "execution_count": 54,
   "metadata": {},
   "outputs": [],
   "source": [
    "user_transform_config = TransformConfig(\n",
    "    name=\"user_transforms\",\n",
    "    null_threshold=0.1,\n",
    "    expected_types=['DECIMAL', 'DOUBLE', 'NUMBER', 'INT', 'STRING']\n",
    ")\n",
    "\n",
    "user_transforms = [\n",
    "    CustomTransform(\n",
    "        transform_func=lambda df: df.with_column(\n",
    "            'DOMINANT_DAY_PART',\n",
    "            F.when(F.col(\"TYPICAL_ORDER_HOUR\") < 6, F.lit(\"night\"))\n",
    "             .when(F.col(\"TYPICAL_ORDER_HOUR\") < 12, F.lit(\"morning\"))\n",
    "             .when(F.col(\"TYPICAL_ORDER_HOUR\") < 18, F.lit(\"midday\"))\n",
    "             .otherwise(F.lit(\"evening\"))\n",
    "        ),\n",
    "        config=user_transform_config\n",
    "    ),\n",
    "    CustomTransform(\n",
    "        transform_func=lambda df: df.with_column(\n",
    "            'DOMINANT_DOW',\n",
    "            F.col(\"PREFERRED_ORDER_DAY\")\n",
    "        ),\n",
    "        config=user_transform_config\n",
    "    ),\n",
    "    \n",
    "    # Fill nulls in numeric columns\n",
    "    fill_na(\n",
    "        cols=[\"AVG_DAYS_BETWEEN_ORDERS\", \"AVG_BASKET_SIZE\"],\n",
    "        fill_value=0.0,\n",
    "        config=user_transform_config\n",
    "    )\n",
    "]\n"
   ]
  },
  {
   "cell_type": "markdown",
   "metadata": {},
   "source": [
    "### Product transformations\n"
   ]
  },
  {
   "cell_type": "code",
   "execution_count": 55,
   "metadata": {},
   "outputs": [],
   "source": [
    "product_transform_config = TransformConfig(\n",
    "    name=\"product_transforms\",\n",
    "    null_threshold=0.1,\n",
    "    expected_types=['DECIMAL', 'DOUBLE', 'NUMBER', 'INT']\n",
    ")\n",
    "\n",
    "# Corrected product transforms with proper Window syntax\n",
    "product_transforms = [\n",
    "    # Add department popularity rank\n",
    "    CustomTransform(\n",
    "        transform_func=lambda df: df.with_column(\n",
    "            'DEPARTMENT_POPULARITY_RANK',\n",
    "            F.dense_rank().over(\n",
    "                Window.partition_by(\"DEPARTMENT_ID\").order_by(F.col(\"PRODUCT_ORDERS\").desc())\n",
    "            )\n",
    "        ),\n",
    "        config=product_transform_config\n",
    "    ),\n",
    "    \n",
    "    # Add aisle popularity rank\n",
    "    CustomTransform(\n",
    "        transform_func=lambda df: df.with_column(\n",
    "            'AISLE_POPULARITY_RANK',\n",
    "            F.dense_rank().over(\n",
    "                Window.partition_by(\"AISLE_ID\").order_by(F.col(\"PRODUCT_ORDERS\").desc())\n",
    "            )\n",
    "        ),\n",
    "        config=product_transform_config\n",
    "    )\n",
    "]\n"
   ]
  },
  {
   "cell_type": "markdown",
   "metadata": {},
   "source": [
    "\n",
    "### User-Product transformations\n"
   ]
  },
  {
   "cell_type": "code",
   "execution_count": 56,
   "metadata": {},
   "outputs": [
    {
     "name": "stdout",
     "output_type": "stream",
     "text": [
      "Available columns in user_product_features_df:\n",
      "['USER_ID', 'PRODUCT_ID', 'ORDER_ID', 'ORDER_NUMBER', 'SYNTHETIC_DATE', 'ORDER_DOW', 'ORDER_HOUR_OF_DAY', 'REORDERED', 'UP_ORDERS', 'UP_AVG_CART_POSITION', 'ORDERS_SINCE_LAST_PURCHASE']\n"
     ]
    }
   ],
   "source": [
    "print(\"Available columns in user_product_features_df:\")\n",
    "print(user_product_features_df.columns)\n",
    "\n",
    "# Now let's create a simplified version of the transforms that will work\n",
    "user_product_transform_config = TransformConfig(\n",
    "    name=\"user_product_transforms\",\n",
    "    null_threshold=0.1,\n",
    "    expected_types=['DECIMAL', 'DOUBLE', 'NUMBER', 'INT', 'STRING']\n",
    ")\n",
    "\n",
    "user_product_transforms = [\n",
    "    # Just add UP_ORDERS_RATIO column\n",
    "    CustomTransform(\n",
    "        transform_func=lambda df: df.with_column(\n",
    "            \"UP_ORDERS_RATIO\", (F.col(\"UP_ORDERS\") / F.lit(1.0))\n",
    "        ),\n",
    "        config=user_product_transform_config\n",
    "    ),\n",
    "    \n",
    "    # Add PURCHASE_RECENCY_BUCKET column\n",
    "    CustomTransform(\n",
    "        transform_func=lambda df: df.with_column(\n",
    "            \"PURCHASE_RECENCY_BUCKET\", \n",
    "            F.when(F.col(\"ORDERS_SINCE_LAST_PURCHASE\") == 0, F.lit(\"recent\"))\n",
    "             .when(F.col(\"ORDERS_SINCE_LAST_PURCHASE\") <= 3, F.lit(\"medium\"))\n",
    "             .otherwise(F.lit(\"old\"))\n",
    "        ),\n",
    "        config=user_product_transform_config\n",
    "    )\n",
    "]\n"
   ]
  },
  {
   "cell_type": "markdown",
   "metadata": {},
   "source": [
    "\n",
    "# 6. Create Feature Views\n"
   ]
  },
  {
   "cell_type": "code",
   "execution_count": 57,
   "metadata": {},
   "outputs": [
    {
     "name": "stderr",
     "output_type": "stream",
     "text": [
      "Input value type doesn't match the target column data type, this replacement was skipped. Column Name: \"AVG_BASKET_SIZE\", Type: DecimalType(36, 6), Input Value: 0.0, Type: <class 'str'>\n"
     ]
    },
    {
     "name": "stdout",
     "output_type": "stream",
     "text": [
      "2025-03-03 17:31:53,939 - snowflake_feature_store - INFO - Validated feature USER_TOTAL_ORDERS (stats: {'timestamp': '2025-03-04T01:31:43.864602', 'row_count': 206209, 'null_count': 0, 'null_ratio': 0.0, 'unique_count': 97, 'min_value': 3.0, 'max_value': 99.0, 'mean_value': 15.590367, 'std_value': 16.65477348990373})\n",
      "2025-03-03 17:32:03,939 - snowflake_feature_store - INFO - Validated feature AVG_DAYS_BETWEEN_ORDERS (stats: {'timestamp': '2025-03-04T01:31:54.383766', 'row_count': 206209, 'null_count': 0, 'null_ratio': 0.0, 'unique_count': 99570, 'min_value': 0.0, 'max_value': 30.0, 'mean_value': 15.469669692770578, 'std_value': 7.207435949657587})\n",
      "2025-03-03 17:32:21,807 - snowflake_feature_store - INFO - Validated feature TYPICAL_ORDER_HOUR (stats: {'timestamp': '2025-03-04T01:32:08.452892', 'row_count': 206209, 'null_count': 0, 'null_ratio': 0.0, 'unique_count': 47, 'min_value': 0.0, 'max_value': 23.0, 'mean_value': 13.52991625, 'std_value': 2.849790670923568})\n",
      "2025-03-03 17:32:36,393 - snowflake_feature_store - INFO - Validated feature PREFERRED_ORDER_DAY (stats: {'timestamp': '2025-03-04T01:32:25.326038', 'row_count': 206209, 'null_count': 0, 'null_ratio': 0.0, 'unique_count': 7, 'min_value': 0.0, 'max_value': 6.0, 'mean_value': 2.583282, 'std_value': 2.1554667707946695})\n",
      "2025-03-03 17:32:51,321 - snowflake_feature_store - INFO - Validated feature AVG_BASKET_SIZE (stats: {'timestamp': '2025-03-04T01:32:36.693819', 'row_count': 206209, 'null_count': 0, 'null_ratio': 0.0, 'unique_count': 1, 'min_value': 1.0, 'max_value': 1.0, 'mean_value': 1.0, 'std_value': 0.0})\n",
      "2025-03-03 17:33:05,243 - snowflake_feature_store - INFO - Validated feature DISTINCT_PRODUCTS_COUNT (stats: {'timestamp': '2025-03-04T01:32:54.842348', 'row_count': 206209, 'null_count': 0, 'null_ratio': 0.0, 'unique_count': 493, 'min_value': 1.0, 'max_value': 726.0, 'mean_value': 64.536238, 'std_value': 56.59233864225793})\n",
      "2025-03-03 17:33:18,875 - snowflake_feature_store - INFO - Validated feature USER_REORDER_RATE (stats: {'timestamp': '2025-03-04T01:33:08.412607', 'row_count': 206209, 'null_count': 0, 'null_ratio': 0.0, 'unique_count': 31274, 'min_value': 0.0, 'max_value': 0.989529, 'mean_value': 0.432249265439, 'std_value': 0.21214404798862493})\n",
      "2025-03-03 17:33:27,818 - snowflake_feature_store - INFO - Validated feature DOMINANT_DAY_PART (stats: {'timestamp': '2025-03-04T01:33:23.369257', 'row_count': 206209, 'null_count': 0, 'null_ratio': 0.0, 'unique_count': 4, 'min_value': None, 'max_value': None, 'mean_value': None, 'std_value': None})\n"
     ]
    },
    {
     "name": "stderr",
     "output_type": "stream",
     "text": [
      "/Users/jdemlow/miniconda3/envs/feature-store/lib/python3.11/site-packages/snowflake/ml/feature_store/feature_store.py:1877: UserWarning: Your pipeline won't be incrementally refreshed due to: \"Change tracking is not supported on queries containing the function 'PERCENTILE_CONT'.\".\n",
      "  self._check_dynamic_table_refresh_mode(feature_view_name)\n"
     ]
    }
   ],
   "source": [
    "user_feature_view = manager.add_feature_view(\n",
    "    config=user_config,\n",
    "    df=user_features_df,\n",
    "    entity_name=\"USER\",\n",
    "    transforms=user_transforms,\n",
    "    collect_stats=True\n",
    ")"
   ]
  },
  {
   "cell_type": "code",
   "execution_count": 58,
   "metadata": {},
   "outputs": [
    {
     "name": "stdout",
     "output_type": "stream",
     "text": [
      "2025-03-03 17:33:59,434 - snowflake_feature_store - INFO - Validated feature AISLE_ID (stats: {'timestamp': '2025-03-04T01:33:54.478943', 'row_count': 49677, 'null_count': 0, 'null_ratio': 0.0, 'unique_count': 134, 'min_value': 1.0, 'max_value': 134.0, 'mean_value': 67.769189, 'std_value': 38.317847251639805})\n",
      "2025-03-03 17:34:04,542 - snowflake_feature_store - INFO - Validated feature DEPARTMENT_ID (stats: {'timestamp': '2025-03-04T01:33:59.753146', 'row_count': 49677, 'null_count': 0, 'null_ratio': 0.0, 'unique_count': 21, 'min_value': 1.0, 'max_value': 21.0, 'mean_value': 11.727802, 'std_value': 5.8503070004915125})\n",
      "2025-03-03 17:34:14,571 - snowflake_feature_store - INFO - Validated feature PRODUCT_ORDERS (stats: {'timestamp': '2025-03-04T01:34:07.033387', 'row_count': 49677, 'null_count': 0, 'null_ratio': 0.0, 'unique_count': 4161, 'min_value': 1.0, 'max_value': 472565.0, 'mean_value': 652.907563, 'std_value': 4792.114415774002})\n",
      "2025-03-03 17:34:18,909 - snowflake_feature_store - INFO - Validated feature PRODUCT_REORDERS (stats: {'timestamp': '2025-03-04T01:34:15.722067', 'row_count': 49677, 'null_count': 0, 'null_ratio': 0.0, 'unique_count': 3134, 'min_value': 0.0, 'max_value': 398609.0, 'mean_value': 385.017936, 'std_value': 3601.7136460579427})\n",
      "2025-03-03 17:34:24,061 - snowflake_feature_store - INFO - Validated feature PRODUCT_REORDER_RATE (stats: {'timestamp': '2025-03-04T01:34:20.028942', 'row_count': 49677, 'null_count': 4372, 'null_ratio': 0.08800853513698492, 'unique_count': 2, 'min_value': 1.0, 'max_value': 1.0, 'mean_value': 1.0, 'std_value': 0.0})\n",
      "2025-03-03 17:34:28,391 - snowflake_feature_store - INFO - Validated feature PRODUCT_AVG_CART_POSITION (stats: {'timestamp': '2025-03-04T01:34:25.198282', 'row_count': 49677, 'null_count': 0, 'null_ratio': 0.0, 'unique_count': 26275, 'min_value': 1.0, 'max_value': 53.0, 'mean_value': 9.097568089015, 'std_value': 2.5512671640202638})\n",
      "2025-03-03 17:34:38,194 - snowflake_feature_store - INFO - Validated feature DEPARTMENT_POPULARITY_RANK (stats: {'timestamp': '2025-03-04T01:34:30.810365', 'row_count': 49677, 'null_count': 0, 'null_ratio': 0.0, 'unique_count': 1462, 'min_value': 1.0, 'max_value': 1462.0, 'mean_value': 692.939992, 'std_value': 393.0882567681207})\n",
      "2025-03-03 17:34:48,228 - snowflake_feature_store - INFO - Validated feature AISLE_POPULARITY_RANK (stats: {'timestamp': '2025-03-04T01:34:40.891883', 'row_count': 49677, 'null_count': 0, 'null_ratio': 0.0, 'unique_count': 646, 'min_value': 1.0, 'max_value': 646.0, 'mean_value': 180.192604, 'std_value': 127.69884932136233})\n"
     ]
    },
    {
     "name": "stderr",
     "output_type": "stream",
     "text": [
      "/Users/jdemlow/miniconda3/envs/feature-store/lib/python3.11/site-packages/snowflake/ml/feature_store/feature_store.py:1877: UserWarning: Your pipeline won't be incrementally refreshed due to: \"Change tracking is not supported on queries with window functions that have disjoint partition keys.\".\n",
      "  self._check_dynamic_table_refresh_mode(feature_view_name)\n"
     ]
    }
   ],
   "source": [
    "product_feature_view = manager.add_feature_view(\n",
    "    config=product_config,\n",
    "    df=product_features_df,\n",
    "    entity_name=\"PRODUCT\",\n",
    "    transforms=product_transforms,\n",
    "    collect_stats=True\n",
    ")"
   ]
  },
  {
   "cell_type": "code",
   "execution_count": 59,
   "metadata": {},
   "outputs": [
    {
     "name": "stdout",
     "output_type": "stream",
     "text": [
      "2025-03-03 17:35:35,926 - snowflake_feature_store - INFO - Validated feature ORDER_DOW (stats: {'timestamp': '2025-03-04T01:35:12.678529', 'row_count': 13307953, 'null_count': 0, 'null_ratio': 0.0, 'unique_count': 7, 'min_value': 0.0, 'max_value': 6.0, 'mean_value': 2.753886, 'std_value': 2.0996980735334305})\n",
      "2025-03-03 17:35:52,093 - snowflake_feature_store - INFO - Validated feature SYNTHETIC_DATE (stats: {'timestamp': '2025-03-04T01:35:44.005099', 'row_count': 13307953, 'null_count': 0, 'null_ratio': 0.0, 'unique_count': 7, 'min_value': None, 'max_value': None, 'mean_value': None, 'std_value': None})\n",
      "2025-03-03 17:36:16,029 - snowflake_feature_store - INFO - Validated feature ORDER_HOUR_OF_DAY (stats: {'timestamp': '2025-03-04T01:35:52.431130', 'row_count': 13307953, 'null_count': 0, 'null_ratio': 0.0, 'unique_count': 24, 'min_value': 0.0, 'max_value': 23.0, 'mean_value': 13.514454, 'std_value': 4.226126358735621})\n",
      "2025-03-03 17:36:38,680 - snowflake_feature_store - INFO - Validated feature REORDERED (stats: {'timestamp': '2025-03-04T01:36:16.408837', 'row_count': 13307953, 'null_count': 0, 'null_ratio': 0.0, 'unique_count': 2, 'min_value': 0.0, 'max_value': 1.0, 'mean_value': 0.400156, 'std_value': 0.4899295867775287})\n",
      "2025-03-03 17:37:12,197 - snowflake_feature_store - INFO - Validated feature UP_ORDERS (stats: {'timestamp': '2025-03-04T01:36:47.477476', 'row_count': 13307953, 'null_count': 0, 'null_ratio': 0.0, 'unique_count': 99, 'min_value': 1.0, 'max_value': 99.0, 'mean_value': 2.437226, 'std_value': 3.5545275354117036})\n",
      "2025-03-03 17:37:48,296 - snowflake_feature_store - INFO - Validated feature UP_AVG_CART_POSITION (stats: {'timestamp': '2025-03-04T01:37:20.925876', 'row_count': 13307953, 'null_count': 0, 'null_ratio': 0.0, 'unique_count': 12379, 'min_value': 1.0, 'max_value': 145.0, 'mean_value': 9.217372202, 'std_value': 6.984274209769116})\n",
      "2025-03-03 17:38:18,408 - snowflake_feature_store - INFO - Validated feature ORDERS_SINCE_LAST_PURCHASE (stats: {'timestamp': '2025-03-04T01:37:55.863574', 'row_count': 13307953, 'null_count': 0, 'null_ratio': 0.0, 'unique_count': 99, 'min_value': 0.0, 'max_value': 98.0, 'mean_value': 9.512767, 'std_value': 13.416951404846035})\n",
      "2025-03-03 17:38:51,105 - snowflake_feature_store - INFO - Validated feature UP_ORDERS_RATIO (stats: {'timestamp': '2025-03-04T01:38:26.493033', 'row_count': 13307953, 'null_count': 0, 'null_ratio': 0.0, 'unique_count': 99, 'min_value': 1.0, 'max_value': 99.0, 'mean_value': 2.437225995613, 'std_value': 3.554527520515631})\n",
      "2025-03-03 17:39:06,630 - snowflake_feature_store - INFO - Validated feature PURCHASE_RECENCY_BUCKET (stats: {'timestamp': '2025-03-04T01:38:59.048885', 'row_count': 13307953, 'null_count': 0, 'null_ratio': 0.0, 'unique_count': 3, 'min_value': None, 'max_value': None, 'mean_value': None, 'std_value': None})\n"
     ]
    },
    {
     "name": "stderr",
     "output_type": "stream",
     "text": [
      "/Users/jdemlow/miniconda3/envs/feature-store/lib/python3.11/site-packages/snowflake/ml/feature_store/feature_store.py:1877: UserWarning: Your pipeline won't be incrementally refreshed due to: \"This dynamic table contains a complex query. Refresh mode has been set to FULL. If you wish to override this automatic choice, please re-create the dynamic table and specify REFRESH_MODE=INCREMENTAL. For best results, we recommend reading https://docs.snowflake.com/user-guide/dynamic-table-performance-guide before setting the refresh mode to INCREMENTAL.\".\n",
      "  self._check_dynamic_table_refresh_mode(feature_view_name)\n"
     ]
    }
   ],
   "source": [
    "# Now try creating the feature view again\n",
    "user_product_feature_view = manager.add_feature_view(\n",
    "    config=user_product_config,\n",
    "    df=user_product_features_df,\n",
    "    entity_name=\"USER_PRODUCT\",\n",
    "    transforms=user_product_transforms,\n",
    "    collect_stats=True\n",
    ")"
   ]
  },
  {
   "cell_type": "markdown",
   "metadata": {},
   "source": [
    "\n",
    "# 7. Generate Training Dataset\n"
   ]
  },
  {
   "cell_type": "code",
   "execution_count": 56,
   "metadata": {},
   "outputs": [
    {
     "name": "stdout",
     "output_type": "stream",
     "text": [
      "------------------------------------------------------------------------------------------------------------\n",
      "|\"USER_ID\"  |\"PRODUCT_ID\"  |\"ORDER_ID\"  |\"ORDER_NUMBER\"  |\"ORDER_DOW\"  |\"ORDER_HOUR_OF_DAY\"  |\"REORDERED\"  |\n",
      "------------------------------------------------------------------------------------------------------------\n",
      "|112108     |49302         |1           |4               |4            |10                   |1            |\n",
      "|112108     |11109         |1           |4               |4            |10                   |1            |\n",
      "|112108     |10246         |1           |4               |4            |10                   |0            |\n",
      "|112108     |49683         |1           |4               |4            |10                   |0            |\n",
      "|112108     |43633         |1           |4               |4            |10                   |1            |\n",
      "------------------------------------------------------------------------------------------------------------\n",
      "\n"
     ]
    }
   ],
   "source": [
    "# Create spine for training data\n",
    "spine_df = conn.session.sql(\"\"\"\n",
    "SELECT \n",
    "    o.USER_ID,\n",
    "    op.PRODUCT_ID,\n",
    "    o.ORDER_ID,\n",
    "    o.ORDER_NUMBER,\n",
    "    o.ORDER_DOW,\n",
    "    o.ORDER_HOUR_OF_DAY,\n",
    "    op.REORDERED\n",
    "FROM INSTACART_RAW.ORDERS o\n",
    "JOIN INSTACART_RAW.ORDER_PRODUCTS op ON o.ORDER_ID = op.ORDER_ID\n",
    "WHERE o.EVAL_SET = 'train'\n",
    "\"\"\")\n",
    "\n",
    "spine_df.show(5)"
   ]
  },
  {
   "cell_type": "code",
   "execution_count": 57,
   "metadata": {},
   "outputs": [
    {
     "name": "stdout",
     "output_type": "stream",
     "text": [
      "2025-02-28 17:46:13,023 - snowflake_feature_store - INFO - Spine DataFrame columns: ['USER_ID', 'PRODUCT_ID', 'ORDER_ID', 'ORDER_NUMBER', 'ORDER_DOW', 'ORDER_HOUR_OF_DAY', 'REORDERED']\n",
      "2025-02-28 17:46:13,024 - snowflake_feature_store - INFO - Spine DataFrame schema: StructType([StructField('USER_ID', LongType(), nullable=True), StructField('PRODUCT_ID', LongType(), nullable=True), StructField('ORDER_ID', LongType(), nullable=True), StructField('ORDER_NUMBER', LongType(), nullable=True), StructField('ORDER_DOW', LongType(), nullable=True), StructField('ORDER_HOUR_OF_DAY', LongType(), nullable=True), StructField('REORDERED', LongType(), nullable=True)])\n",
      "2025-02-28 17:46:19,091 - snowflake_feature_store - INFO - Generating dataset with name: DATASET_20250301_014619_d1812ae8\n",
      "2025-02-28 17:46:19,092 - snowflake_feature_store - INFO - Label columns: ['\"REORDERED\"']\n",
      "2025-02-28 17:46:19,093 - snowflake_feature_store - INFO - Timestamp column: None\n"
     ]
    },
    {
     "ename": "FeatureStoreException",
     "evalue": "Error generating dataset: (1300) An error occurred during dataset generation: (1304): 01bab4ea-0004-a5f9-004d-de07052ae67a: 002028 (42601): SQL compilation error:\nambiguous column name 'ORDER_ID'.",
     "output_type": "error",
     "traceback": [
      "\u001b[0;31m---------------------------------------------------------------------------\u001b[0m",
      "\u001b[0;31mSnowparkSQLException\u001b[0m                      Traceback (most recent call last)",
      "File \u001b[0;32m~/miniconda3/envs/feature-store/lib/python3.11/site-packages/snowflake/ml/feature_store/feature_store.py:1665\u001b[0m, in \u001b[0;36mFeatureStore.generate_dataset\u001b[0;34m(self, name, spine_df, features, version, spine_timestamp_col, spine_label_cols, exclude_columns, include_feature_view_timestamp_col, desc, output_type)\u001b[0m\n\u001b[1;32m   1664\u001b[0m \u001b[38;5;66;03m# TODO: Add feature store tag once Dataset (version) supports tags\u001b[39;00m\n\u001b[0;32m-> 1665\u001b[0m ds: dataset\u001b[38;5;241m.\u001b[39mDataset \u001b[38;5;241m=\u001b[39m \u001b[43mdataset\u001b[49m\u001b[38;5;241;43m.\u001b[39;49m\u001b[43mcreate_from_dataframe\u001b[49m\u001b[43m(\u001b[49m\n\u001b[1;32m   1666\u001b[0m \u001b[43m    \u001b[49m\u001b[38;5;28;43mself\u001b[39;49m\u001b[38;5;241;43m.\u001b[39;49m\u001b[43m_session\u001b[49m\u001b[43m,\u001b[49m\n\u001b[1;32m   1667\u001b[0m \u001b[43m    \u001b[49m\u001b[43mname\u001b[49m\u001b[43m,\u001b[49m\n\u001b[1;32m   1668\u001b[0m \u001b[43m    \u001b[49m\u001b[43mversion\u001b[49m\u001b[43m,\u001b[49m\n\u001b[1;32m   1669\u001b[0m \u001b[43m    \u001b[49m\u001b[43minput_dataframe\u001b[49m\u001b[38;5;241;43m=\u001b[39;49m\u001b[43mresult_df\u001b[49m\u001b[43m,\u001b[49m\n\u001b[1;32m   1670\u001b[0m \u001b[43m    \u001b[49m\u001b[43mexclude_cols\u001b[49m\u001b[38;5;241;43m=\u001b[39;49m\u001b[43m[\u001b[49m\u001b[43mspine_timestamp_col\u001b[49m\u001b[43m]\u001b[49m\u001b[43m \u001b[49m\u001b[38;5;28;43;01mif\u001b[39;49;00m\u001b[43m \u001b[49m\u001b[43mspine_timestamp_col\u001b[49m\u001b[43m \u001b[49m\u001b[38;5;129;43;01mis\u001b[39;49;00m\u001b[43m \u001b[49m\u001b[38;5;129;43;01mnot\u001b[39;49;00m\u001b[43m \u001b[49m\u001b[38;5;28;43;01mNone\u001b[39;49;00m\u001b[43m \u001b[49m\u001b[38;5;28;43;01melse\u001b[39;49;00m\u001b[43m \u001b[49m\u001b[43m[\u001b[49m\u001b[43m]\u001b[49m\u001b[43m,\u001b[49m\n\u001b[1;32m   1671\u001b[0m \u001b[43m    \u001b[49m\u001b[43mlabel_cols\u001b[49m\u001b[38;5;241;43m=\u001b[39;49m\u001b[43mspine_label_cols\u001b[49m\u001b[43m,\u001b[49m\n\u001b[1;32m   1672\u001b[0m \u001b[43m    \u001b[49m\u001b[43mproperties\u001b[49m\u001b[38;5;241;43m=\u001b[39;49m\u001b[43mfs_meta\u001b[49m\u001b[43m,\u001b[49m\n\u001b[1;32m   1673\u001b[0m \u001b[43m    \u001b[49m\u001b[43mcomment\u001b[49m\u001b[38;5;241;43m=\u001b[39;49m\u001b[43mdesc\u001b[49m\u001b[43m,\u001b[49m\n\u001b[1;32m   1674\u001b[0m \u001b[43m\u001b[49m\u001b[43m)\u001b[49m\n\u001b[1;32m   1675\u001b[0m \u001b[38;5;28;01mreturn\u001b[39;00m ds\n",
      "File \u001b[0;32m~/miniconda3/envs/feature-store/lib/python3.11/site-packages/snowflake/ml/_internal/telemetry.py:542\u001b[0m, in \u001b[0;36msend_api_usage_telemetry.<locals>.decorator.<locals>.wrap\u001b[0;34m(*args, **kwargs)\u001b[0m\n\u001b[1;32m    541\u001b[0m \u001b[38;5;28;01mtry\u001b[39;00m:\n\u001b[0;32m--> 542\u001b[0m     \u001b[38;5;28;01mreturn\u001b[39;00m ctx\u001b[38;5;241m.\u001b[39mrun(execute_func_with_statement_params)\n\u001b[1;32m    543\u001b[0m \u001b[38;5;28;01mexcept\u001b[39;00m \u001b[38;5;167;01mException\u001b[39;00m \u001b[38;5;28;01mas\u001b[39;00m e:\n",
      "File \u001b[0;32m~/miniconda3/envs/feature-store/lib/python3.11/site-packages/snowflake/ml/_internal/telemetry.py:503\u001b[0m, in \u001b[0;36msend_api_usage_telemetry.<locals>.decorator.<locals>.wrap.<locals>.execute_func_with_statement_params\u001b[0;34m()\u001b[0m\n\u001b[1;32m    502\u001b[0m _patch_manager\u001b[38;5;241m.\u001b[39mset_statement_params(statement_params)\n\u001b[0;32m--> 503\u001b[0m result \u001b[38;5;241m=\u001b[39m \u001b[43mfunc\u001b[49m\u001b[43m(\u001b[49m\u001b[38;5;241;43m*\u001b[39;49m\u001b[43margs\u001b[49m\u001b[43m,\u001b[49m\u001b[43m \u001b[49m\u001b[38;5;241;43m*\u001b[39;49m\u001b[38;5;241;43m*\u001b[39;49m\u001b[43mkwargs\u001b[49m\u001b[43m)\u001b[49m\n\u001b[1;32m    504\u001b[0m \u001b[38;5;28;01mreturn\u001b[39;00m update_stmt_params_if_snowpark_df(result, statement_params)\n",
      "File \u001b[0;32m~/miniconda3/envs/feature-store/lib/python3.11/site-packages/snowflake/ml/dataset/dataset_factory.py:33\u001b[0m, in \u001b[0;36mcreate_from_dataframe\u001b[0;34m(session, name, version, input_dataframe, **version_kwargs)\u001b[0m\n\u001b[1;32m     32\u001b[0m ds: dataset\u001b[38;5;241m.\u001b[39mDataset \u001b[38;5;241m=\u001b[39m dataset\u001b[38;5;241m.\u001b[39mDataset\u001b[38;5;241m.\u001b[39mcreate(session, name, exist_ok\u001b[38;5;241m=\u001b[39m\u001b[38;5;28;01mTrue\u001b[39;00m)\n\u001b[0;32m---> 33\u001b[0m \u001b[43mds\u001b[49m\u001b[38;5;241;43m.\u001b[39;49m\u001b[43mcreate_version\u001b[49m\u001b[43m(\u001b[49m\u001b[43mversion\u001b[49m\u001b[43m,\u001b[49m\u001b[43m \u001b[49m\u001b[43minput_dataframe\u001b[49m\u001b[38;5;241;43m=\u001b[39;49m\u001b[43minput_dataframe\u001b[49m\u001b[43m,\u001b[49m\u001b[43m \u001b[49m\u001b[38;5;241;43m*\u001b[39;49m\u001b[38;5;241;43m*\u001b[39;49m\u001b[43mversion_kwargs\u001b[49m\u001b[43m)\u001b[49m\n\u001b[1;32m     34\u001b[0m ds \u001b[38;5;241m=\u001b[39m ds\u001b[38;5;241m.\u001b[39mselect_version(version)  \u001b[38;5;66;03m# select_version returns a new copy\u001b[39;00m\n",
      "File \u001b[0;32m~/miniconda3/envs/feature-store/lib/python3.11/site-packages/snowflake/ml/_internal/telemetry.py:542\u001b[0m, in \u001b[0;36msend_api_usage_telemetry.<locals>.decorator.<locals>.wrap\u001b[0;34m(*args, **kwargs)\u001b[0m\n\u001b[1;32m    541\u001b[0m \u001b[38;5;28;01mtry\u001b[39;00m:\n\u001b[0;32m--> 542\u001b[0m     \u001b[38;5;28;01mreturn\u001b[39;00m ctx\u001b[38;5;241m.\u001b[39mrun(execute_func_with_statement_params)\n\u001b[1;32m    543\u001b[0m \u001b[38;5;28;01mexcept\u001b[39;00m \u001b[38;5;167;01mException\u001b[39;00m \u001b[38;5;28;01mas\u001b[39;00m e:\n",
      "File \u001b[0;32m~/miniconda3/envs/feature-store/lib/python3.11/site-packages/snowflake/ml/_internal/telemetry.py:503\u001b[0m, in \u001b[0;36msend_api_usage_telemetry.<locals>.decorator.<locals>.wrap.<locals>.execute_func_with_statement_params\u001b[0;34m()\u001b[0m\n\u001b[1;32m    502\u001b[0m _patch_manager\u001b[38;5;241m.\u001b[39mset_statement_params(statement_params)\n\u001b[0;32m--> 503\u001b[0m result \u001b[38;5;241m=\u001b[39m \u001b[43mfunc\u001b[49m\u001b[43m(\u001b[49m\u001b[38;5;241;43m*\u001b[39;49m\u001b[43margs\u001b[49m\u001b[43m,\u001b[49m\u001b[43m \u001b[49m\u001b[38;5;241;43m*\u001b[39;49m\u001b[38;5;241;43m*\u001b[39;49m\u001b[43mkwargs\u001b[49m\u001b[43m)\u001b[49m\n\u001b[1;32m    504\u001b[0m \u001b[38;5;28;01mreturn\u001b[39;00m update_stmt_params_if_snowpark_df(result, statement_params)\n",
      "File \u001b[0;32m~/miniconda3/envs/feature-store/lib/python3.11/site-packages/snowflake/ml/dataset/dataset.py:368\u001b[0m, in \u001b[0;36mDataset.create_version\u001b[0;34m(self, version, input_dataframe, shuffle, exclude_cols, label_cols, properties, partition_by, comment)\u001b[0m\n\u001b[1;32m    367\u001b[0m sql_command \u001b[38;5;241m+\u001b[39m\u001b[38;5;241m=\u001b[39m \u001b[38;5;124mf\u001b[39m\u001b[38;5;124m\"\u001b[39m\u001b[38;5;124m METADATA=$$\u001b[39m\u001b[38;5;132;01m{\u001b[39;00mmetadata\u001b[38;5;241m.\u001b[39mto_json()\u001b[38;5;132;01m}\u001b[39;00m\u001b[38;5;124m$$\u001b[39m\u001b[38;5;124m\"\u001b[39m\n\u001b[0;32m--> 368\u001b[0m \u001b[38;5;28;43mself\u001b[39;49m\u001b[38;5;241;43m.\u001b[39;49m\u001b[43m_session\u001b[49m\u001b[38;5;241;43m.\u001b[39;49m\u001b[43msql\u001b[49m\u001b[43m(\u001b[49m\u001b[43msql_command\u001b[49m\u001b[43m)\u001b[49m\u001b[38;5;241;43m.\u001b[39;49m\u001b[43mcollect\u001b[49m\u001b[43m(\u001b[49m\u001b[43mstatement_params\u001b[49m\u001b[38;5;241;43m=\u001b[39;49m\u001b[43m_TELEMETRY_STATEMENT_PARAMS\u001b[49m\u001b[43m)\u001b[49m\n\u001b[1;32m    370\u001b[0m \u001b[38;5;28;01mreturn\u001b[39;00m Dataset(\u001b[38;5;28mself\u001b[39m\u001b[38;5;241m.\u001b[39m_session, \u001b[38;5;28mself\u001b[39m\u001b[38;5;241m.\u001b[39m_db, \u001b[38;5;28mself\u001b[39m\u001b[38;5;241m.\u001b[39m_schema, \u001b[38;5;28mself\u001b[39m\u001b[38;5;241m.\u001b[39m_name, version)\n",
      "File \u001b[0;32m~/miniconda3/envs/feature-store/lib/python3.11/site-packages/snowflake/snowpark/_internal/telemetry.py:174\u001b[0m, in \u001b[0;36mdf_collect_api_telemetry.<locals>.wrap\u001b[0;34m(*args, **kwargs)\u001b[0m\n\u001b[1;32m    173\u001b[0m \u001b[38;5;28;01mwith\u001b[39;00m args[\u001b[38;5;241m0\u001b[39m]\u001b[38;5;241m.\u001b[39m_session\u001b[38;5;241m.\u001b[39mquery_history() \u001b[38;5;28;01mas\u001b[39;00m query_history:\n\u001b[0;32m--> 174\u001b[0m     result \u001b[38;5;241m=\u001b[39m \u001b[43mfunc\u001b[49m\u001b[43m(\u001b[49m\u001b[38;5;241;43m*\u001b[39;49m\u001b[43margs\u001b[49m\u001b[43m,\u001b[49m\u001b[43m \u001b[49m\u001b[38;5;241;43m*\u001b[39;49m\u001b[38;5;241;43m*\u001b[39;49m\u001b[43mkwargs\u001b[49m\u001b[43m)\u001b[49m\n\u001b[1;32m    175\u001b[0m plan \u001b[38;5;241m=\u001b[39m args[\u001b[38;5;241m0\u001b[39m]\u001b[38;5;241m.\u001b[39m_select_statement \u001b[38;5;129;01mor\u001b[39;00m args[\u001b[38;5;241m0\u001b[39m]\u001b[38;5;241m.\u001b[39m_plan\n",
      "File \u001b[0;32m~/miniconda3/envs/feature-store/lib/python3.11/site-packages/snowflake/snowpark/_internal/utils.py:1029\u001b[0m, in \u001b[0;36mpublicapi.<locals>.call_wrapper\u001b[0;34m(*args, **kwargs)\u001b[0m\n\u001b[1;32m   1027\u001b[0m \u001b[38;5;66;03m# TODO: Could modify internal docstring to display that users should not modify the _emit_ast parameter.\u001b[39;00m\n\u001b[0;32m-> 1029\u001b[0m \u001b[38;5;28;01mreturn\u001b[39;00m \u001b[43mfunc\u001b[49m\u001b[43m(\u001b[49m\u001b[38;5;241;43m*\u001b[39;49m\u001b[43margs\u001b[49m\u001b[43m,\u001b[49m\u001b[43m \u001b[49m\u001b[38;5;241;43m*\u001b[39;49m\u001b[38;5;241;43m*\u001b[39;49m\u001b[43mkwargs\u001b[49m\u001b[43m)\u001b[49m\n",
      "File \u001b[0;32m~/miniconda3/envs/feature-store/lib/python3.11/site-packages/snowflake/snowpark/dataframe.py:713\u001b[0m, in \u001b[0;36mDataFrame.collect\u001b[0;34m(self, statement_params, block, log_on_exception, case_sensitive, _emit_ast)\u001b[0m\n\u001b[1;32m    712\u001b[0m \u001b[38;5;28;01mwith\u001b[39;00m open_telemetry_context_manager(\u001b[38;5;28mself\u001b[39m\u001b[38;5;241m.\u001b[39mcollect, \u001b[38;5;28mself\u001b[39m):\n\u001b[0;32m--> 713\u001b[0m     \u001b[38;5;28;01mreturn\u001b[39;00m \u001b[38;5;28;43mself\u001b[39;49m\u001b[38;5;241;43m.\u001b[39;49m\u001b[43m_internal_collect_with_tag_no_telemetry\u001b[49m\u001b[43m(\u001b[49m\n\u001b[1;32m    714\u001b[0m \u001b[43m        \u001b[49m\u001b[43mstatement_params\u001b[49m\u001b[38;5;241;43m=\u001b[39;49m\u001b[43mstatement_params\u001b[49m\u001b[43m,\u001b[49m\n\u001b[1;32m    715\u001b[0m \u001b[43m        \u001b[49m\u001b[43mblock\u001b[49m\u001b[38;5;241;43m=\u001b[39;49m\u001b[43mblock\u001b[49m\u001b[43m,\u001b[49m\n\u001b[1;32m    716\u001b[0m \u001b[43m        \u001b[49m\u001b[43mlog_on_exception\u001b[49m\u001b[38;5;241;43m=\u001b[39;49m\u001b[43mlog_on_exception\u001b[49m\u001b[43m,\u001b[49m\n\u001b[1;32m    717\u001b[0m \u001b[43m        \u001b[49m\u001b[43mcase_sensitive\u001b[49m\u001b[38;5;241;43m=\u001b[39;49m\u001b[43mcase_sensitive\u001b[49m\u001b[43m,\u001b[49m\n\u001b[1;32m    718\u001b[0m \u001b[43m        \u001b[49m\u001b[38;5;241;43m*\u001b[39;49m\u001b[38;5;241;43m*\u001b[39;49m\u001b[43mkwargs\u001b[49m\u001b[43m,\u001b[49m\n\u001b[1;32m    719\u001b[0m \u001b[43m    \u001b[49m\u001b[43m)\u001b[49m\n",
      "File \u001b[0;32m~/miniconda3/envs/feature-store/lib/python3.11/site-packages/snowflake/snowpark/dataframe.py:784\u001b[0m, in \u001b[0;36mDataFrame._internal_collect_with_tag_no_telemetry\u001b[0;34m(self, statement_params, block, data_type, log_on_exception, case_sensitive, **kwargs)\u001b[0m\n\u001b[1;32m    771\u001b[0m \u001b[38;5;28;01mdef\u001b[39;00m\u001b[38;5;250m \u001b[39m\u001b[38;5;21m_internal_collect_with_tag_no_telemetry\u001b[39m(\n\u001b[1;32m    772\u001b[0m     \u001b[38;5;28mself\u001b[39m,\n\u001b[1;32m    773\u001b[0m     \u001b[38;5;241m*\u001b[39m,\n\u001b[0;32m   (...)\u001b[0m\n\u001b[1;32m    782\u001b[0m     \u001b[38;5;66;03m# we should always call this method instead of collect(), to make sure the\u001b[39;00m\n\u001b[1;32m    783\u001b[0m     \u001b[38;5;66;03m# query tag is set properly.\u001b[39;00m\n\u001b[0;32m--> 784\u001b[0m     \u001b[38;5;28;01mreturn\u001b[39;00m \u001b[38;5;28;43mself\u001b[39;49m\u001b[38;5;241;43m.\u001b[39;49m\u001b[43m_session\u001b[49m\u001b[38;5;241;43m.\u001b[39;49m\u001b[43m_conn\u001b[49m\u001b[38;5;241;43m.\u001b[39;49m\u001b[43mexecute\u001b[49m\u001b[43m(\u001b[49m\n\u001b[1;32m    785\u001b[0m \u001b[43m        \u001b[49m\u001b[38;5;28;43mself\u001b[39;49m\u001b[38;5;241;43m.\u001b[39;49m\u001b[43m_plan\u001b[49m\u001b[43m,\u001b[49m\n\u001b[1;32m    786\u001b[0m \u001b[43m        \u001b[49m\u001b[43mblock\u001b[49m\u001b[38;5;241;43m=\u001b[39;49m\u001b[43mblock\u001b[49m\u001b[43m,\u001b[49m\n\u001b[1;32m    787\u001b[0m \u001b[43m        \u001b[49m\u001b[43mdata_type\u001b[49m\u001b[38;5;241;43m=\u001b[39;49m\u001b[43mdata_type\u001b[49m\u001b[43m,\u001b[49m\n\u001b[1;32m    788\u001b[0m \u001b[43m        \u001b[49m\u001b[43m_statement_params\u001b[49m\u001b[38;5;241;43m=\u001b[39;49m\u001b[43mcreate_or_update_statement_params_with_query_tag\u001b[49m\u001b[43m(\u001b[49m\n\u001b[1;32m    789\u001b[0m \u001b[43m            \u001b[49m\u001b[43mstatement_params\u001b[49m\u001b[43m \u001b[49m\u001b[38;5;129;43;01mor\u001b[39;49;00m\u001b[43m \u001b[49m\u001b[38;5;28;43mself\u001b[39;49m\u001b[38;5;241;43m.\u001b[39;49m\u001b[43m_statement_params\u001b[49m\u001b[43m,\u001b[49m\n\u001b[1;32m    790\u001b[0m \u001b[43m            \u001b[49m\u001b[38;5;28;43mself\u001b[39;49m\u001b[38;5;241;43m.\u001b[39;49m\u001b[43m_session\u001b[49m\u001b[38;5;241;43m.\u001b[39;49m\u001b[43mquery_tag\u001b[49m\u001b[43m,\u001b[49m\n\u001b[1;32m    791\u001b[0m \u001b[43m            \u001b[49m\u001b[43mSKIP_LEVELS_THREE\u001b[49m\u001b[43m,\u001b[49m\n\u001b[1;32m    792\u001b[0m \u001b[43m        \u001b[49m\u001b[43m)\u001b[49m\u001b[43m,\u001b[49m\n\u001b[1;32m    793\u001b[0m \u001b[43m        \u001b[49m\u001b[43mlog_on_exception\u001b[49m\u001b[38;5;241;43m=\u001b[39;49m\u001b[43mlog_on_exception\u001b[49m\u001b[43m,\u001b[49m\n\u001b[1;32m    794\u001b[0m \u001b[43m        \u001b[49m\u001b[43mcase_sensitive\u001b[49m\u001b[38;5;241;43m=\u001b[39;49m\u001b[43mcase_sensitive\u001b[49m\u001b[43m,\u001b[49m\n\u001b[1;32m    795\u001b[0m \u001b[43m        \u001b[49m\u001b[38;5;241;43m*\u001b[39;49m\u001b[38;5;241;43m*\u001b[39;49m\u001b[43mkwargs\u001b[49m\u001b[43m,\u001b[49m\n\u001b[1;32m    796\u001b[0m \u001b[43m    \u001b[49m\u001b[43m)\u001b[49m\n",
      "File \u001b[0;32m~/miniconda3/envs/feature-store/lib/python3.11/site-packages/snowflake/snowpark/_internal/server_connection.py:609\u001b[0m, in \u001b[0;36mServerConnection.execute\u001b[0;34m(self, plan, to_pandas, to_iter, block, data_type, log_on_exception, case_sensitive, **kwargs)\u001b[0m\n\u001b[1;32m    606\u001b[0m     \u001b[38;5;28;01mraise\u001b[39;00m \u001b[38;5;167;01mNotImplementedError\u001b[39;00m(\n\u001b[1;32m    607\u001b[0m         \u001b[38;5;124m\"\u001b[39m\u001b[38;5;124mAsync query is not supported in stored procedure yet\u001b[39m\u001b[38;5;124m\"\u001b[39m\n\u001b[1;32m    608\u001b[0m     )\n\u001b[0;32m--> 609\u001b[0m result_set, result_meta \u001b[38;5;241m=\u001b[39m \u001b[38;5;28;43mself\u001b[39;49m\u001b[38;5;241;43m.\u001b[39;49m\u001b[43mget_result_set\u001b[49m\u001b[43m(\u001b[49m\n\u001b[1;32m    610\u001b[0m \u001b[43m    \u001b[49m\u001b[43mplan\u001b[49m\u001b[43m,\u001b[49m\n\u001b[1;32m    611\u001b[0m \u001b[43m    \u001b[49m\u001b[43mto_pandas\u001b[49m\u001b[43m,\u001b[49m\n\u001b[1;32m    612\u001b[0m \u001b[43m    \u001b[49m\u001b[43mto_iter\u001b[49m\u001b[43m,\u001b[49m\n\u001b[1;32m    613\u001b[0m \u001b[43m    \u001b[49m\u001b[38;5;241;43m*\u001b[39;49m\u001b[38;5;241;43m*\u001b[39;49m\u001b[43mkwargs\u001b[49m\u001b[43m,\u001b[49m\n\u001b[1;32m    614\u001b[0m \u001b[43m    \u001b[49m\u001b[43mblock\u001b[49m\u001b[38;5;241;43m=\u001b[39;49m\u001b[43mblock\u001b[49m\u001b[43m,\u001b[49m\n\u001b[1;32m    615\u001b[0m \u001b[43m    \u001b[49m\u001b[43mdata_type\u001b[49m\u001b[38;5;241;43m=\u001b[39;49m\u001b[43mdata_type\u001b[49m\u001b[43m,\u001b[49m\n\u001b[1;32m    616\u001b[0m \u001b[43m    \u001b[49m\u001b[43mlog_on_exception\u001b[49m\u001b[38;5;241;43m=\u001b[39;49m\u001b[43mlog_on_exception\u001b[49m\u001b[43m,\u001b[49m\n\u001b[1;32m    617\u001b[0m \u001b[43m    \u001b[49m\u001b[43mcase_sensitive\u001b[49m\u001b[38;5;241;43m=\u001b[39;49m\u001b[43mcase_sensitive\u001b[49m\u001b[43m,\u001b[49m\n\u001b[1;32m    618\u001b[0m \u001b[43m\u001b[49m\u001b[43m)\u001b[49m\n\u001b[1;32m    619\u001b[0m \u001b[38;5;28;01mif\u001b[39;00m \u001b[38;5;129;01mnot\u001b[39;00m block:\n",
      "File \u001b[0;32m~/miniconda3/envs/feature-store/lib/python3.11/site-packages/snowflake/snowpark/_internal/analyzer/snowflake_plan.py:205\u001b[0m, in \u001b[0;36mSnowflakePlan.Decorator.wrap_exception.<locals>.wrap\u001b[0;34m(*args, **kwargs)\u001b[0m\n\u001b[1;32m    202\u001b[0m ne \u001b[38;5;241m=\u001b[39m SnowparkClientExceptionMessages\u001b[38;5;241m.\u001b[39mSQL_EXCEPTION_FROM_PROGRAMMING_ERROR(\n\u001b[1;32m    203\u001b[0m     e\n\u001b[1;32m    204\u001b[0m )\n\u001b[0;32m--> 205\u001b[0m \u001b[38;5;28;01mraise\u001b[39;00m ne\u001b[38;5;241m.\u001b[39mwith_traceback(tb) \u001b[38;5;28;01mfrom\u001b[39;00m\u001b[38;5;250m \u001b[39m\u001b[38;5;28;01mNone\u001b[39;00m\n",
      "File \u001b[0;32m~/miniconda3/envs/feature-store/lib/python3.11/site-packages/snowflake/snowpark/_internal/analyzer/snowflake_plan.py:136\u001b[0m, in \u001b[0;36mSnowflakePlan.Decorator.wrap_exception.<locals>.wrap\u001b[0;34m(*args, **kwargs)\u001b[0m\n\u001b[1;32m    135\u001b[0m \u001b[38;5;28;01mtry\u001b[39;00m:\n\u001b[0;32m--> 136\u001b[0m     \u001b[38;5;28;01mreturn\u001b[39;00m \u001b[43mfunc\u001b[49m\u001b[43m(\u001b[49m\u001b[38;5;241;43m*\u001b[39;49m\u001b[43margs\u001b[49m\u001b[43m,\u001b[49m\u001b[43m \u001b[49m\u001b[38;5;241;43m*\u001b[39;49m\u001b[38;5;241;43m*\u001b[39;49m\u001b[43mkwargs\u001b[49m\u001b[43m)\u001b[49m\n\u001b[1;32m    137\u001b[0m \u001b[38;5;28;01mexcept\u001b[39;00m snowflake\u001b[38;5;241m.\u001b[39mconnector\u001b[38;5;241m.\u001b[39merrors\u001b[38;5;241m.\u001b[39mProgrammingError \u001b[38;5;28;01mas\u001b[39;00m e:\n",
      "File \u001b[0;32m~/miniconda3/envs/feature-store/lib/python3.11/site-packages/snowflake/snowpark/_internal/server_connection.py:727\u001b[0m, in \u001b[0;36mServerConnection.get_result_set\u001b[0;34m(self, plan, to_pandas, to_iter, block, data_type, log_on_exception, case_sensitive, ignore_results, **kwargs)\u001b[0m\n\u001b[1;32m    726\u001b[0m     kwargs[DATAFRAME_AST_PARAMETER] \u001b[38;5;241m=\u001b[39m dataframe_ast\n\u001b[0;32m--> 727\u001b[0m result \u001b[38;5;241m=\u001b[39m \u001b[38;5;28;43mself\u001b[39;49m\u001b[38;5;241;43m.\u001b[39;49m\u001b[43mrun_query\u001b[49m\u001b[43m(\u001b[49m\n\u001b[1;32m    728\u001b[0m \u001b[43m    \u001b[49m\u001b[43mfinal_query\u001b[49m\u001b[43m,\u001b[49m\n\u001b[1;32m    729\u001b[0m \u001b[43m    \u001b[49m\u001b[43mto_pandas\u001b[49m\u001b[43m,\u001b[49m\n\u001b[1;32m    730\u001b[0m \u001b[43m    \u001b[49m\u001b[43mto_iter\u001b[49m\u001b[43m \u001b[49m\u001b[38;5;129;43;01mand\u001b[39;49;00m\u001b[43m \u001b[49m\u001b[43m(\u001b[49m\u001b[43mi\u001b[49m\u001b[43m \u001b[49m\u001b[38;5;241;43m==\u001b[39;49m\u001b[43m \u001b[49m\u001b[38;5;28;43mlen\u001b[39;49m\u001b[43m(\u001b[49m\u001b[43mmain_queries\u001b[49m\u001b[43m)\u001b[49m\u001b[43m \u001b[49m\u001b[38;5;241;43m-\u001b[39;49m\u001b[43m \u001b[49m\u001b[38;5;241;43m1\u001b[39;49m\u001b[43m)\u001b[49m\u001b[43m,\u001b[49m\n\u001b[1;32m    731\u001b[0m \u001b[43m    \u001b[49m\u001b[43mis_ddl_on_temp_object\u001b[49m\u001b[38;5;241;43m=\u001b[39;49m\u001b[43mquery\u001b[49m\u001b[38;5;241;43m.\u001b[39;49m\u001b[43mis_ddl_on_temp_object\u001b[49m\u001b[43m,\u001b[49m\n\u001b[1;32m    732\u001b[0m \u001b[43m    \u001b[49m\u001b[43mblock\u001b[49m\u001b[38;5;241;43m=\u001b[39;49m\u001b[38;5;129;43;01mnot\u001b[39;49;00m\u001b[43m \u001b[49m\u001b[43mis_last\u001b[49m\u001b[43m,\u001b[49m\n\u001b[1;32m    733\u001b[0m \u001b[43m    \u001b[49m\u001b[43mdata_type\u001b[49m\u001b[38;5;241;43m=\u001b[39;49m\u001b[43mdata_type\u001b[49m\u001b[43m,\u001b[49m\n\u001b[1;32m    734\u001b[0m \u001b[43m    \u001b[49m\u001b[43masync_job_plan\u001b[49m\u001b[38;5;241;43m=\u001b[39;49m\u001b[43mplan\u001b[49m\u001b[43m,\u001b[49m\n\u001b[1;32m    735\u001b[0m \u001b[43m    \u001b[49m\u001b[43mlog_on_exception\u001b[49m\u001b[38;5;241;43m=\u001b[39;49m\u001b[43mlog_on_exception\u001b[49m\u001b[43m,\u001b[49m\n\u001b[1;32m    736\u001b[0m \u001b[43m    \u001b[49m\u001b[43mcase_sensitive\u001b[49m\u001b[38;5;241;43m=\u001b[39;49m\u001b[43mcase_sensitive\u001b[49m\u001b[43m,\u001b[49m\n\u001b[1;32m    737\u001b[0m \u001b[43m    \u001b[49m\u001b[43mparams\u001b[49m\u001b[38;5;241;43m=\u001b[39;49m\u001b[43mquery\u001b[49m\u001b[38;5;241;43m.\u001b[39;49m\u001b[43mparams\u001b[49m\u001b[43m,\u001b[49m\n\u001b[1;32m    738\u001b[0m \u001b[43m    \u001b[49m\u001b[43mignore_results\u001b[49m\u001b[38;5;241;43m=\u001b[39;49m\u001b[43mignore_results\u001b[49m\u001b[43m,\u001b[49m\n\u001b[1;32m    739\u001b[0m \u001b[43m    \u001b[49m\u001b[43masync_post_actions\u001b[49m\u001b[38;5;241;43m=\u001b[39;49m\u001b[43mpost_actions\u001b[49m\u001b[43m,\u001b[49m\n\u001b[1;32m    740\u001b[0m \u001b[43m    \u001b[49m\u001b[38;5;241;43m*\u001b[39;49m\u001b[38;5;241;43m*\u001b[39;49m\u001b[43mkwargs\u001b[49m\u001b[43m,\u001b[49m\n\u001b[1;32m    741\u001b[0m \u001b[43m\u001b[49m\u001b[43m)\u001b[49m\n\u001b[1;32m    742\u001b[0m placeholders[query\u001b[38;5;241m.\u001b[39mquery_id_place_holder] \u001b[38;5;241m=\u001b[39m (\n\u001b[1;32m    743\u001b[0m     result[\u001b[38;5;124m\"\u001b[39m\u001b[38;5;124msfqid\u001b[39m\u001b[38;5;124m\"\u001b[39m] \u001b[38;5;28;01mif\u001b[39;00m \u001b[38;5;129;01mnot\u001b[39;00m is_last \u001b[38;5;28;01melse\u001b[39;00m result\u001b[38;5;241m.\u001b[39mquery_id\n\u001b[1;32m    744\u001b[0m )\n",
      "File \u001b[0;32m~/miniconda3/envs/feature-store/lib/python3.11/site-packages/snowflake/snowpark/_internal/server_connection.py:130\u001b[0m, in \u001b[0;36mServerConnection._Decorator.wrap_exception.<locals>.wrap\u001b[0;34m(*args, **kwargs)\u001b[0m\n\u001b[1;32m    129\u001b[0m \u001b[38;5;28;01mexcept\u001b[39;00m \u001b[38;5;167;01mException\u001b[39;00m \u001b[38;5;28;01mas\u001b[39;00m ex:\n\u001b[0;32m--> 130\u001b[0m     \u001b[38;5;28;01mraise\u001b[39;00m ex\n",
      "File \u001b[0;32m~/miniconda3/envs/feature-store/lib/python3.11/site-packages/snowflake/snowpark/_internal/server_connection.py:124\u001b[0m, in \u001b[0;36mServerConnection._Decorator.wrap_exception.<locals>.wrap\u001b[0;34m(*args, **kwargs)\u001b[0m\n\u001b[1;32m    123\u001b[0m \u001b[38;5;28;01mtry\u001b[39;00m:\n\u001b[0;32m--> 124\u001b[0m     \u001b[38;5;28;01mreturn\u001b[39;00m \u001b[43mfunc\u001b[49m\u001b[43m(\u001b[49m\u001b[38;5;241;43m*\u001b[39;49m\u001b[43margs\u001b[49m\u001b[43m,\u001b[49m\u001b[43m \u001b[49m\u001b[38;5;241;43m*\u001b[39;49m\u001b[38;5;241;43m*\u001b[39;49m\u001b[43mkwargs\u001b[49m\u001b[43m)\u001b[49m\n\u001b[1;32m    125\u001b[0m \u001b[38;5;28;01mexcept\u001b[39;00m ReauthenticationRequest \u001b[38;5;28;01mas\u001b[39;00m ex:\n",
      "File \u001b[0;32m~/miniconda3/envs/feature-store/lib/python3.11/site-packages/snowflake/snowpark/_internal/server_connection.py:516\u001b[0m, in \u001b[0;36mServerConnection.run_query\u001b[0;34m(self, query, to_pandas, to_iter, is_ddl_on_temp_object, block, data_type, async_job_plan, log_on_exception, case_sensitive, params, num_statements, ignore_results, async_post_actions, **kwargs)\u001b[0m\n\u001b[1;32m    515\u001b[0m         logger\u001b[38;5;241m.\u001b[39merror(\u001b[38;5;124mf\u001b[39m\u001b[38;5;124m\"\u001b[39m\u001b[38;5;124mFailed to execute query\u001b[39m\u001b[38;5;132;01m{\u001b[39;00mquery_id_log\u001b[38;5;132;01m}\u001b[39;00m\u001b[38;5;124m \u001b[39m\u001b[38;5;132;01m{\u001b[39;00mquery\u001b[38;5;132;01m}\u001b[39;00m\u001b[38;5;130;01m\\n\u001b[39;00m\u001b[38;5;132;01m{\u001b[39;00mex\u001b[38;5;132;01m}\u001b[39;00m\u001b[38;5;124m\"\u001b[39m)\n\u001b[0;32m--> 516\u001b[0m     \u001b[38;5;28;01mraise\u001b[39;00m ex\n\u001b[1;32m    518\u001b[0m \u001b[38;5;66;03m# fetch_pandas_all/batches() only works for SELECT statements\u001b[39;00m\n\u001b[1;32m    519\u001b[0m \u001b[38;5;66;03m# We call fetchall() if fetch_pandas_all/batches() fails,\u001b[39;00m\n\u001b[1;32m    520\u001b[0m \u001b[38;5;66;03m# because when the query plan has multiple queries, it will\u001b[39;00m\n\u001b[1;32m    521\u001b[0m \u001b[38;5;66;03m# have non-select statements, and it shouldn't fail if the user\u001b[39;00m\n\u001b[1;32m    522\u001b[0m \u001b[38;5;66;03m# calls to_pandas() to execute the query.\u001b[39;00m\n",
      "File \u001b[0;32m~/miniconda3/envs/feature-store/lib/python3.11/site-packages/snowflake/snowpark/_internal/server_connection.py:501\u001b[0m, in \u001b[0;36mServerConnection.run_query\u001b[0;34m(self, query, to_pandas, to_iter, is_ddl_on_temp_object, block, data_type, async_job_plan, log_on_exception, case_sensitive, params, num_statements, ignore_results, async_post_actions, **kwargs)\u001b[0m\n\u001b[1;32m    500\u001b[0m \u001b[38;5;28;01mif\u001b[39;00m block:\n\u001b[0;32m--> 501\u001b[0m     results_cursor \u001b[38;5;241m=\u001b[39m \u001b[38;5;28;43mself\u001b[39;49m\u001b[38;5;241;43m.\u001b[39;49m\u001b[43mexecute_and_notify_query_listener\u001b[49m\u001b[43m(\u001b[49m\n\u001b[1;32m    502\u001b[0m \u001b[43m        \u001b[49m\u001b[43mquery\u001b[49m\u001b[43m,\u001b[49m\u001b[43m \u001b[49m\u001b[43mparams\u001b[49m\u001b[38;5;241;43m=\u001b[39;49m\u001b[43mparams\u001b[49m\u001b[43m,\u001b[49m\u001b[43m \u001b[49m\u001b[38;5;241;43m*\u001b[39;49m\u001b[38;5;241;43m*\u001b[39;49m\u001b[43mkwargs\u001b[49m\n\u001b[1;32m    503\u001b[0m \u001b[43m    \u001b[49m\u001b[43m)\u001b[49m\n\u001b[1;32m    504\u001b[0m     logger\u001b[38;5;241m.\u001b[39mdebug(\u001b[38;5;124mf\u001b[39m\u001b[38;5;124m\"\u001b[39m\u001b[38;5;124mExecute query [queryID: \u001b[39m\u001b[38;5;132;01m{\u001b[39;00mresults_cursor\u001b[38;5;241m.\u001b[39msfqid\u001b[38;5;132;01m}\u001b[39;00m\u001b[38;5;124m] \u001b[39m\u001b[38;5;132;01m{\u001b[39;00mquery\u001b[38;5;132;01m}\u001b[39;00m\u001b[38;5;124m\"\u001b[39m)\n",
      "File \u001b[0;32m~/miniconda3/envs/feature-store/lib/python3.11/site-packages/snowflake/ml/_internal/telemetry.py:183\u001b[0m, in \u001b[0;36m_StatementParamsPatchManager._patch_with_statement_params.<locals>.wrapper\u001b[0;34m(*args, **kwargs)\u001b[0m\n\u001b[1;32m    182\u001b[0m \u001b[38;5;28;01mtry\u001b[39;00m:\n\u001b[0;32m--> 183\u001b[0m     \u001b[38;5;28;01mreturn\u001b[39;00m \u001b[43mfunc\u001b[49m\u001b[43m(\u001b[49m\u001b[38;5;241;43m*\u001b[39;49m\u001b[43margs\u001b[49m\u001b[43m,\u001b[49m\u001b[43m \u001b[49m\u001b[38;5;241;43m*\u001b[39;49m\u001b[38;5;241;43m*\u001b[39;49m\u001b[43mkwargs\u001b[49m\u001b[43m)\u001b[49m\n\u001b[1;32m    184\u001b[0m \u001b[38;5;28;01mexcept\u001b[39;00m \u001b[38;5;167;01mTypeError\u001b[39;00m \u001b[38;5;28;01mas\u001b[39;00m e:\n",
      "File \u001b[0;32m~/miniconda3/envs/feature-store/lib/python3.11/site-packages/snowflake/snowpark/_internal/server_connection.py:443\u001b[0m, in \u001b[0;36mServerConnection.execute_and_notify_query_listener\u001b[0;34m(self, query, **kwargs)\u001b[0m\n\u001b[1;32m    440\u001b[0m     \u001b[38;5;28mself\u001b[39m\u001b[38;5;241m.\u001b[39mnotify_query_listeners(\n\u001b[1;32m    441\u001b[0m         QueryRecord(sfqid, err_query, \u001b[38;5;28;01mFalse\u001b[39;00m), is_error\u001b[38;5;241m=\u001b[39m\u001b[38;5;28;01mTrue\u001b[39;00m, \u001b[38;5;241m*\u001b[39m\u001b[38;5;241m*\u001b[39mnotify_kwargs\n\u001b[1;32m    442\u001b[0m     )\n\u001b[0;32m--> 443\u001b[0m     \u001b[38;5;28;01mraise\u001b[39;00m ex\n\u001b[1;32m    445\u001b[0m notify_kwargs[\u001b[38;5;124m\"\u001b[39m\u001b[38;5;124mrequestId\u001b[39m\u001b[38;5;124m\"\u001b[39m] \u001b[38;5;241m=\u001b[39m \u001b[38;5;28mstr\u001b[39m(results_cursor\u001b[38;5;241m.\u001b[39m_request_id)\n",
      "File \u001b[0;32m~/miniconda3/envs/feature-store/lib/python3.11/site-packages/snowflake/snowpark/_internal/server_connection.py:434\u001b[0m, in \u001b[0;36mServerConnection.execute_and_notify_query_listener\u001b[0;34m(self, query, **kwargs)\u001b[0m\n\u001b[1;32m    433\u001b[0m \u001b[38;5;28;01mtry\u001b[39;00m:\n\u001b[0;32m--> 434\u001b[0m     results_cursor \u001b[38;5;241m=\u001b[39m \u001b[38;5;28;43mself\u001b[39;49m\u001b[38;5;241;43m.\u001b[39;49m\u001b[43m_cursor\u001b[49m\u001b[38;5;241;43m.\u001b[39;49m\u001b[43mexecute\u001b[49m\u001b[43m(\u001b[49m\u001b[43mquery\u001b[49m\u001b[43m,\u001b[49m\u001b[43m \u001b[49m\u001b[38;5;241;43m*\u001b[39;49m\u001b[38;5;241;43m*\u001b[39;49m\u001b[43mkwargs\u001b[49m\u001b[43m)\u001b[49m\n\u001b[1;32m    435\u001b[0m \u001b[38;5;28;01mexcept\u001b[39;00m \u001b[38;5;167;01mException\u001b[39;00m \u001b[38;5;28;01mas\u001b[39;00m ex:\n",
      "File \u001b[0;32m~/miniconda3/envs/feature-store/lib/python3.11/site-packages/snowflake/connector/cursor.py:1103\u001b[0m, in \u001b[0;36mSnowflakeCursor.execute\u001b[0;34m(self, command, params, _bind_stage, timeout, _exec_async, _no_retry, _do_reset, _put_callback, _put_azure_callback, _put_callback_output_stream, _get_callback, _get_azure_callback, _get_callback_output_stream, _show_progress_bar, _statement_params, _is_internal, _describe_only, _no_results, _is_put_get, _raise_put_get_error, _force_put_overwrite, _skip_upload_on_content_match, file_stream, num_statements, _force_qmark_paramstyle, _dataframe_ast)\u001b[0m\n\u001b[1;32m   1102\u001b[0m     error_class \u001b[38;5;241m=\u001b[39m IntegrityError \u001b[38;5;28;01mif\u001b[39;00m is_integrity_error \u001b[38;5;28;01melse\u001b[39;00m ProgrammingError\n\u001b[0;32m-> 1103\u001b[0m     \u001b[43mError\u001b[49m\u001b[38;5;241;43m.\u001b[39;49m\u001b[43merrorhandler_wrapper\u001b[49m\u001b[43m(\u001b[49m\u001b[38;5;28;43mself\u001b[39;49m\u001b[38;5;241;43m.\u001b[39;49m\u001b[43mconnection\u001b[49m\u001b[43m,\u001b[49m\u001b[43m \u001b[49m\u001b[38;5;28;43mself\u001b[39;49m\u001b[43m,\u001b[49m\u001b[43m \u001b[49m\u001b[43merror_class\u001b[49m\u001b[43m,\u001b[49m\u001b[43m \u001b[49m\u001b[43merrvalue\u001b[49m\u001b[43m)\u001b[49m\n\u001b[1;32m   1104\u001b[0m \u001b[38;5;28;01mreturn\u001b[39;00m \u001b[38;5;28mself\u001b[39m\n",
      "File \u001b[0;32m~/miniconda3/envs/feature-store/lib/python3.11/site-packages/snowflake/connector/errors.py:283\u001b[0m, in \u001b[0;36mError.errorhandler_wrapper\u001b[0;34m(connection, cursor, error_class, error_value)\u001b[0m\n\u001b[1;32m    267\u001b[0m \u001b[38;5;250m\u001b[39m\u001b[38;5;124;03m\"\"\"Error handler wrapper that calls the errorhandler method.\u001b[39;00m\n\u001b[1;32m    268\u001b[0m \n\u001b[1;32m    269\u001b[0m \u001b[38;5;124;03mArgs:\u001b[39;00m\n\u001b[0;32m   (...)\u001b[0m\n\u001b[1;32m    280\u001b[0m \u001b[38;5;124;03m    exception to the first handler in that order.\u001b[39;00m\n\u001b[1;32m    281\u001b[0m \u001b[38;5;124;03m\"\"\"\u001b[39;00m\n\u001b[0;32m--> 283\u001b[0m handed_over \u001b[38;5;241m=\u001b[39m \u001b[43mError\u001b[49m\u001b[38;5;241;43m.\u001b[39;49m\u001b[43mhand_to_other_handler\u001b[49m\u001b[43m(\u001b[49m\n\u001b[1;32m    284\u001b[0m \u001b[43m    \u001b[49m\u001b[43mconnection\u001b[49m\u001b[43m,\u001b[49m\n\u001b[1;32m    285\u001b[0m \u001b[43m    \u001b[49m\u001b[43mcursor\u001b[49m\u001b[43m,\u001b[49m\n\u001b[1;32m    286\u001b[0m \u001b[43m    \u001b[49m\u001b[43merror_class\u001b[49m\u001b[43m,\u001b[49m\n\u001b[1;32m    287\u001b[0m \u001b[43m    \u001b[49m\u001b[43merror_value\u001b[49m\u001b[43m,\u001b[49m\n\u001b[1;32m    288\u001b[0m \u001b[43m\u001b[49m\u001b[43m)\u001b[49m\n\u001b[1;32m    289\u001b[0m \u001b[38;5;28;01mif\u001b[39;00m \u001b[38;5;129;01mnot\u001b[39;00m handed_over:\n",
      "File \u001b[0;32m~/miniconda3/envs/feature-store/lib/python3.11/site-packages/snowflake/connector/errors.py:338\u001b[0m, in \u001b[0;36mError.hand_to_other_handler\u001b[0;34m(connection, cursor, error_class, error_value)\u001b[0m\n\u001b[1;32m    337\u001b[0m cursor\u001b[38;5;241m.\u001b[39mmessages\u001b[38;5;241m.\u001b[39mappend((error_class, error_value))\n\u001b[0;32m--> 338\u001b[0m \u001b[43mcursor\u001b[49m\u001b[38;5;241;43m.\u001b[39;49m\u001b[43merrorhandler\u001b[49m\u001b[43m(\u001b[49m\u001b[43mconnection\u001b[49m\u001b[43m,\u001b[49m\u001b[43m \u001b[49m\u001b[43mcursor\u001b[49m\u001b[43m,\u001b[49m\u001b[43m \u001b[49m\u001b[43merror_class\u001b[49m\u001b[43m,\u001b[49m\u001b[43m \u001b[49m\u001b[43merror_value\u001b[49m\u001b[43m)\u001b[49m\n\u001b[1;32m    339\u001b[0m \u001b[38;5;28;01mreturn\u001b[39;00m \u001b[38;5;28;01mTrue\u001b[39;00m\n",
      "File \u001b[0;32m~/miniconda3/envs/feature-store/lib/python3.11/site-packages/snowflake/connector/errors.py:214\u001b[0m, in \u001b[0;36mError.default_errorhandler\u001b[0;34m(connection, cursor, error_class, error_value)\u001b[0m\n\u001b[1;32m    213\u001b[0m done_format_msg \u001b[38;5;241m=\u001b[39m error_value\u001b[38;5;241m.\u001b[39mget(\u001b[38;5;124m\"\u001b[39m\u001b[38;5;124mdone_format_msg\u001b[39m\u001b[38;5;124m\"\u001b[39m)\n\u001b[0;32m--> 214\u001b[0m \u001b[38;5;28;01mraise\u001b[39;00m error_class(\n\u001b[1;32m    215\u001b[0m     msg\u001b[38;5;241m=\u001b[39merror_value\u001b[38;5;241m.\u001b[39mget(\u001b[38;5;124m\"\u001b[39m\u001b[38;5;124mmsg\u001b[39m\u001b[38;5;124m\"\u001b[39m),\n\u001b[1;32m    216\u001b[0m     errno\u001b[38;5;241m=\u001b[39m\u001b[38;5;28;01mNone\u001b[39;00m \u001b[38;5;28;01mif\u001b[39;00m errno \u001b[38;5;129;01mis\u001b[39;00m \u001b[38;5;28;01mNone\u001b[39;00m \u001b[38;5;28;01melse\u001b[39;00m \u001b[38;5;28mint\u001b[39m(errno),\n\u001b[1;32m    217\u001b[0m     sqlstate\u001b[38;5;241m=\u001b[39merror_value\u001b[38;5;241m.\u001b[39mget(\u001b[38;5;124m\"\u001b[39m\u001b[38;5;124msqlstate\u001b[39m\u001b[38;5;124m\"\u001b[39m),\n\u001b[1;32m    218\u001b[0m     sfqid\u001b[38;5;241m=\u001b[39merror_value\u001b[38;5;241m.\u001b[39mget(\u001b[38;5;124m\"\u001b[39m\u001b[38;5;124msfqid\u001b[39m\u001b[38;5;124m\"\u001b[39m),\n\u001b[1;32m    219\u001b[0m     query\u001b[38;5;241m=\u001b[39merror_value\u001b[38;5;241m.\u001b[39mget(\u001b[38;5;124m\"\u001b[39m\u001b[38;5;124mquery\u001b[39m\u001b[38;5;124m\"\u001b[39m),\n\u001b[1;32m    220\u001b[0m     done_format_msg\u001b[38;5;241m=\u001b[39m(\n\u001b[1;32m    221\u001b[0m         \u001b[38;5;28;01mNone\u001b[39;00m \u001b[38;5;28;01mif\u001b[39;00m done_format_msg \u001b[38;5;129;01mis\u001b[39;00m \u001b[38;5;28;01mNone\u001b[39;00m \u001b[38;5;28;01melse\u001b[39;00m \u001b[38;5;28mbool\u001b[39m(done_format_msg)\n\u001b[1;32m    222\u001b[0m     ),\n\u001b[1;32m    223\u001b[0m     connection\u001b[38;5;241m=\u001b[39mconnection,\n\u001b[1;32m    224\u001b[0m     cursor\u001b[38;5;241m=\u001b[39mcursor,\n\u001b[1;32m    225\u001b[0m )\n",
      "\u001b[0;31mSnowparkSQLException\u001b[0m: (1304): 01bab4ea-0004-a5f9-004d-de07052ae67a: 002028 (42601): SQL compilation error:\nambiguous column name 'ORDER_ID'",
      "\nThe above exception was the direct cause of the following exception:\n",
      "\u001b[0;31mSnowflakeMLException\u001b[0m                      Traceback (most recent call last)",
      "File \u001b[0;32m~/miniconda3/envs/feature-store/lib/python3.11/site-packages/snowflake/ml/_internal/telemetry.py:542\u001b[0m, in \u001b[0;36msend_api_usage_telemetry.<locals>.decorator.<locals>.wrap\u001b[0;34m(*args, **kwargs)\u001b[0m\n\u001b[1;32m    541\u001b[0m \u001b[38;5;28;01mtry\u001b[39;00m:\n\u001b[0;32m--> 542\u001b[0m     \u001b[38;5;28;01mreturn\u001b[39;00m ctx\u001b[38;5;241m.\u001b[39mrun(execute_func_with_statement_params)\n\u001b[1;32m    543\u001b[0m \u001b[38;5;28;01mexcept\u001b[39;00m \u001b[38;5;167;01mException\u001b[39;00m \u001b[38;5;28;01mas\u001b[39;00m e:\n",
      "File \u001b[0;32m~/miniconda3/envs/feature-store/lib/python3.11/site-packages/snowflake/ml/_internal/telemetry.py:503\u001b[0m, in \u001b[0;36msend_api_usage_telemetry.<locals>.decorator.<locals>.wrap.<locals>.execute_func_with_statement_params\u001b[0;34m()\u001b[0m\n\u001b[1;32m    502\u001b[0m _patch_manager\u001b[38;5;241m.\u001b[39mset_statement_params(statement_params)\n\u001b[0;32m--> 503\u001b[0m result \u001b[38;5;241m=\u001b[39m \u001b[43mfunc\u001b[49m\u001b[43m(\u001b[49m\u001b[38;5;241;43m*\u001b[39;49m\u001b[43margs\u001b[49m\u001b[43m,\u001b[49m\u001b[43m \u001b[49m\u001b[38;5;241;43m*\u001b[39;49m\u001b[38;5;241;43m*\u001b[39;49m\u001b[43mkwargs\u001b[49m\u001b[43m)\u001b[49m\n\u001b[1;32m    504\u001b[0m \u001b[38;5;28;01mreturn\u001b[39;00m update_stmt_params_if_snowpark_df(result, statement_params)\n",
      "File \u001b[0;32m~/miniconda3/envs/feature-store/lib/python3.11/site-packages/snowflake/ml/feature_store/feature_store.py:178\u001b[0m, in \u001b[0;36mswitch_warehouse.<locals>.wrapper\u001b[0;34m(self, *args, **kargs)\u001b[0m\n\u001b[1;32m    177\u001b[0m         warehouse_updated \u001b[38;5;241m=\u001b[39m \u001b[38;5;28;01mTrue\u001b[39;00m\n\u001b[0;32m--> 178\u001b[0m     \u001b[38;5;28;01mreturn\u001b[39;00m \u001b[43mf\u001b[49m\u001b[43m(\u001b[49m\u001b[38;5;28;43mself\u001b[39;49m\u001b[43m,\u001b[49m\u001b[43m \u001b[49m\u001b[38;5;241;43m*\u001b[39;49m\u001b[43margs\u001b[49m\u001b[43m,\u001b[49m\u001b[43m \u001b[49m\u001b[38;5;241;43m*\u001b[39;49m\u001b[38;5;241;43m*\u001b[39;49m\u001b[43mkargs\u001b[49m\u001b[43m)\u001b[49m\n\u001b[1;32m    179\u001b[0m \u001b[38;5;28;01mfinally\u001b[39;00m:\n",
      "File \u001b[0;32m~/miniconda3/envs/feature-store/lib/python3.11/site-packages/snowflake/ml/feature_store/feature_store.py:197\u001b[0m, in \u001b[0;36mdispatch_decorator.<locals>.decorator.<locals>.wrap\u001b[0;34m(self, *args, **kargs)\u001b[0m\n\u001b[1;32m    193\u001b[0m \u001b[38;5;129m@telemetry\u001b[39m\u001b[38;5;241m.\u001b[39msend_api_usage_telemetry(project\u001b[38;5;241m=\u001b[39m_PROJECT)\n\u001b[1;32m    194\u001b[0m \u001b[38;5;129m@switch_warehouse\u001b[39m\n\u001b[1;32m    195\u001b[0m \u001b[38;5;129m@functools\u001b[39m\u001b[38;5;241m.\u001b[39mwraps(f)\n\u001b[1;32m    196\u001b[0m \u001b[38;5;28;01mdef\u001b[39;00m\u001b[38;5;250m \u001b[39m\u001b[38;5;21mwrap\u001b[39m(\u001b[38;5;28mself\u001b[39m: FeatureStore, \u001b[38;5;241m/\u001b[39m, \u001b[38;5;241m*\u001b[39margs: _Args\u001b[38;5;241m.\u001b[39margs, \u001b[38;5;241m*\u001b[39m\u001b[38;5;241m*\u001b[39mkargs: _Args\u001b[38;5;241m.\u001b[39mkwargs) \u001b[38;5;241m-\u001b[39m\u001b[38;5;241m>\u001b[39m _RT:\n\u001b[0;32m--> 197\u001b[0m     \u001b[38;5;28;01mreturn\u001b[39;00m \u001b[43mf\u001b[49m\u001b[43m(\u001b[49m\u001b[38;5;28;43mself\u001b[39;49m\u001b[43m,\u001b[49m\u001b[43m \u001b[49m\u001b[38;5;241;43m*\u001b[39;49m\u001b[43margs\u001b[49m\u001b[43m,\u001b[49m\u001b[43m \u001b[49m\u001b[38;5;241;43m*\u001b[39;49m\u001b[38;5;241;43m*\u001b[39;49m\u001b[43mkargs\u001b[49m\u001b[43m)\u001b[49m\n",
      "File \u001b[0;32m~/miniconda3/envs/feature-store/lib/python3.11/site-packages/snowflake/ml/feature_store/feature_store.py:1683\u001b[0m, in \u001b[0;36mFeatureStore.generate_dataset\u001b[0;34m(self, name, spine_df, features, version, spine_timestamp_col, spine_label_cols, exclude_columns, include_feature_view_timestamp_col, desc, output_type)\u001b[0m\n\u001b[1;32m   1682\u001b[0m \u001b[38;5;28;01mexcept\u001b[39;00m SnowparkSQLException \u001b[38;5;28;01mas\u001b[39;00m e:\n\u001b[0;32m-> 1683\u001b[0m     \u001b[38;5;28;01mraise\u001b[39;00m snowml_exceptions\u001b[38;5;241m.\u001b[39mSnowflakeMLException(\n\u001b[1;32m   1684\u001b[0m         error_code\u001b[38;5;241m=\u001b[39merror_codes\u001b[38;5;241m.\u001b[39mINTERNAL_SNOWPARK_ERROR,\n\u001b[1;32m   1685\u001b[0m         original_exception\u001b[38;5;241m=\u001b[39m\u001b[38;5;167;01mRuntimeError\u001b[39;00m(\u001b[38;5;124mf\u001b[39m\u001b[38;5;124m\"\u001b[39m\u001b[38;5;124mAn error occurred during dataset generation: \u001b[39m\u001b[38;5;132;01m{\u001b[39;00me\u001b[38;5;132;01m}\u001b[39;00m\u001b[38;5;124m.\u001b[39m\u001b[38;5;124m\"\u001b[39m),\n\u001b[1;32m   1686\u001b[0m     ) \u001b[38;5;28;01mfrom\u001b[39;00m\u001b[38;5;250m \u001b[39m\u001b[38;5;21;01me\u001b[39;00m\n",
      "\u001b[0;31mSnowflakeMLException\u001b[0m: RuntimeError(\"(1300) An error occurred during dataset generation: (1304): 01bab4ea-0004-a5f9-004d-de07052ae67a: 002028 (42601): SQL compilation error:\\nambiguous column name 'ORDER_ID'.\")",
      "\nThe above exception was the direct cause of the following exception:\n",
      "\u001b[0;31mRuntimeError\u001b[0m                              Traceback (most recent call last)",
      "File \u001b[0;32m~/github/sf-feature-store/nbs/snowflake_feature_store/manager.py:477\u001b[0m, in \u001b[0;36mFeatureStoreManager.get_features\u001b[0;34m(self, spine_df, feature_views, label_cols, dataset_name, spine_timestamp_col, **kwargs)\u001b[0m\n\u001b[1;32m    475\u001b[0m logger\u001b[38;5;241m.\u001b[39minfo(\u001b[38;5;124mf\u001b[39m\u001b[38;5;124m\"\u001b[39m\u001b[38;5;124mTimestamp column: \u001b[39m\u001b[38;5;132;01m{\u001b[39;00mspine_timestamp_col\u001b[38;5;132;01m}\u001b[39;00m\u001b[38;5;124m\"\u001b[39m)\n\u001b[0;32m--> 477\u001b[0m dataset \u001b[38;5;241m=\u001b[39m \u001b[38;5;28;43mself\u001b[39;49m\u001b[38;5;241;43m.\u001b[39;49m\u001b[43mfeature_store\u001b[49m\u001b[38;5;241;43m.\u001b[39;49m\u001b[43mgenerate_dataset\u001b[49m\u001b[43m(\u001b[49m\n\u001b[1;32m    478\u001b[0m \u001b[43m    \u001b[49m\u001b[43mname\u001b[49m\u001b[38;5;241;43m=\u001b[39;49m\u001b[43mdataset_name\u001b[49m\u001b[43m,\u001b[49m\n\u001b[1;32m    479\u001b[0m \u001b[43m    \u001b[49m\u001b[43mspine_df\u001b[49m\u001b[38;5;241;43m=\u001b[39;49m\u001b[43mspine_df\u001b[49m\u001b[43m,\u001b[49m\n\u001b[1;32m    480\u001b[0m \u001b[43m    \u001b[49m\u001b[43mfeatures\u001b[49m\u001b[38;5;241;43m=\u001b[39;49m\u001b[43mviews\u001b[49m\u001b[43m,\u001b[49m\n\u001b[1;32m    481\u001b[0m \u001b[43m    \u001b[49m\u001b[43mspine_label_cols\u001b[49m\u001b[38;5;241;43m=\u001b[39;49m\u001b[43mlabel_cols\u001b[49m\u001b[43m,\u001b[49m\n\u001b[1;32m    482\u001b[0m \u001b[43m    \u001b[49m\u001b[43mspine_timestamp_col\u001b[49m\u001b[38;5;241;43m=\u001b[39;49m\u001b[43mspine_timestamp_col\u001b[49m\u001b[43m,\u001b[49m\n\u001b[1;32m    483\u001b[0m \u001b[43m    \u001b[49m\u001b[38;5;241;43m*\u001b[39;49m\u001b[38;5;241;43m*\u001b[39;49m\u001b[43mkwargs\u001b[49m\n\u001b[1;32m    484\u001b[0m \u001b[43m\u001b[49m\u001b[43m)\u001b[49m\n\u001b[1;32m    486\u001b[0m \u001b[38;5;28;01mreturn\u001b[39;00m dataset\u001b[38;5;241m.\u001b[39mread\u001b[38;5;241m.\u001b[39mto_snowpark_dataframe()\n",
      "File \u001b[0;32m~/miniconda3/envs/feature-store/lib/python3.11/site-packages/snowflake/ml/_internal/telemetry.py:566\u001b[0m, in \u001b[0;36msend_api_usage_telemetry.<locals>.decorator.<locals>.wrap\u001b[0;34m(*args, **kwargs)\u001b[0m\n\u001b[1;32m    565\u001b[0m     \u001b[38;5;28;01melse\u001b[39;00m:\n\u001b[0;32m--> 566\u001b[0m         \u001b[38;5;28;01mraise\u001b[39;00m me\u001b[38;5;241m.\u001b[39moriginal_exception \u001b[38;5;28;01mfrom\u001b[39;00m\u001b[38;5;250m \u001b[39m\u001b[38;5;21;01me\u001b[39;00m\n\u001b[1;32m    567\u001b[0m \u001b[38;5;28;01mfinally\u001b[39;00m:\n",
      "\u001b[0;31mRuntimeError\u001b[0m: (1300) An error occurred during dataset generation: (1304): 01bab4ea-0004-a5f9-004d-de07052ae67a: 002028 (42601): SQL compilation error:\nambiguous column name 'ORDER_ID'.",
      "\nDuring handling of the above exception, another exception occurred:\n",
      "\u001b[0;31mFeatureStoreException\u001b[0m                     Traceback (most recent call last)",
      "Cell \u001b[0;32mIn[57], line 2\u001b[0m\n\u001b[1;32m      1\u001b[0m \u001b[38;5;66;03m# Generate training dataset with all features\u001b[39;00m\n\u001b[0;32m----> 2\u001b[0m training_data \u001b[38;5;241m=\u001b[39m \u001b[43mmanager\u001b[49m\u001b[38;5;241;43m.\u001b[39;49m\u001b[43mget_features\u001b[49m\u001b[43m(\u001b[49m\n\u001b[1;32m      3\u001b[0m \u001b[43m    \u001b[49m\u001b[43mspine_df\u001b[49m\u001b[38;5;241;43m=\u001b[39;49m\u001b[43mspine_df\u001b[49m\u001b[43m,\u001b[49m\n\u001b[1;32m      4\u001b[0m \u001b[43m    \u001b[49m\u001b[43mfeature_views\u001b[49m\u001b[38;5;241;43m=\u001b[39;49m\u001b[43m[\u001b[49m\u001b[43muser_config\u001b[49m\u001b[43m,\u001b[49m\u001b[43m \u001b[49m\u001b[43mproduct_config\u001b[49m\u001b[43m,\u001b[49m\u001b[43m \u001b[49m\u001b[43muser_product_config\u001b[49m\u001b[43m]\u001b[49m\u001b[43m,\u001b[49m\n\u001b[1;32m      5\u001b[0m \u001b[43m    \u001b[49m\u001b[43mlabel_cols\u001b[49m\u001b[38;5;241;43m=\u001b[39;49m\u001b[43m[\u001b[49m\u001b[38;5;124;43m\"\u001b[39;49m\u001b[38;5;124;43mREORDERED\u001b[39;49m\u001b[38;5;124;43m\"\u001b[39;49m\u001b[43m]\u001b[49m\u001b[43m,\u001b[49m\n\u001b[1;32m      6\u001b[0m \u001b[43m    \u001b[49m\u001b[43mspine_timestamp_col\u001b[49m\u001b[38;5;241;43m=\u001b[39;49m\u001b[38;5;28;43;01mNone\u001b[39;49;00m\u001b[43m  \u001b[49m\u001b[38;5;66;43;03m# No timestamp needed for this dataset\u001b[39;49;00m\n\u001b[1;32m      7\u001b[0m \u001b[43m)\u001b[49m\n\u001b[1;32m      8\u001b[0m training_data\u001b[38;5;241m.\u001b[39mshow(\u001b[38;5;241m5\u001b[39m)\n",
      "File \u001b[0;32m~/github/sf-feature-store/nbs/snowflake_feature_store/manager.py:492\u001b[0m, in \u001b[0;36mFeatureStoreManager.get_features\u001b[0;34m(self, spine_df, feature_views, label_cols, dataset_name, spine_timestamp_col, **kwargs)\u001b[0m\n\u001b[1;32m    490\u001b[0m \u001b[38;5;28;01mfor\u001b[39;00m cb \u001b[38;5;129;01min\u001b[39;00m \u001b[38;5;28mself\u001b[39m\u001b[38;5;241m.\u001b[39mcallbacks:\n\u001b[1;32m    491\u001b[0m     cb\u001b[38;5;241m.\u001b[39mon_error(error_msg)\n\u001b[0;32m--> 492\u001b[0m \u001b[38;5;28;01mraise\u001b[39;00m FeatureStoreException(error_msg)\n",
      "\u001b[0;31mFeatureStoreException\u001b[0m: Error generating dataset: (1300) An error occurred during dataset generation: (1304): 01bab4ea-0004-a5f9-004d-de07052ae67a: 002028 (42601): SQL compilation error:\nambiguous column name 'ORDER_ID'."
     ]
    }
   ],
   "source": [
    "# Generate training dataset with all features\n",
    "training_data = manager.get_features(\n",
    "    spine_df=spine_df,\n",
    "    feature_views=[user_config, product_config, user_product_config],\n",
    "    label_cols=[\"REORDERED\"],\n",
    "    spine_timestamp_col=None  # No timestamp needed for this dataset\n",
    ")\n",
    "training_data.show(5)"
   ]
  },
  {
   "cell_type": "code",
   "execution_count": 43,
   "metadata": {},
   "outputs": [
    {
     "name": "stdout",
     "output_type": "stream",
     "text": [
      "User feature columns: ['USER_ID', 'USER_TOTAL_ORDERS', 'AVG_DAYS_BETWEEN_ORDERS', 'TYPICAL_ORDER_HOUR', 'PREFERRED_ORDER_DAY', 'AVG_BASKET_SIZE', 'DISTINCT_PRODUCTS_COUNT', 'USER_REORDER_RATE']\n",
      "Product feature columns: ['PRODUCT_ID', 'AISLE_ID', 'DEPARTMENT_ID', 'PRODUCT_ORDERS', 'PRODUCT_REORDERS', 'PRODUCT_REORDER_RATE', 'PRODUCT_AVG_CART_POSITION']\n",
      "User-Product feature columns: ['USER_ID', 'PRODUCT_ID', 'ORDER_ID', 'ORDER_NUMBER', 'ORDER_DOW', 'ORDER_HOUR_OF_DAY', 'REORDERED', 'UP_ORDERS', 'UP_AVG_CART_POSITION', 'ORDERS_SINCE_LAST_PURCHASE']\n"
     ]
    }
   ],
   "source": [
    "# 1. First, let's check the column names in each feature view DataFrame\n",
    "print(\"User feature columns:\", user_features_df.columns)\n",
    "print(\"Product feature columns:\", product_features_df.columns)\n",
    "print(\"User-Product feature columns:\", user_product_features_df.columns)"
   ]
  },
  {
   "cell_type": "code",
   "execution_count": null,
   "metadata": {},
   "outputs": [],
   "source": [
    "\n",
    "# Add additional basket-level features\n",
    "training_data = training_data.with_columns([\n",
    "    F.count(\"*\").over(F.Window.partition_by(\"ORDER_ID\")).alias(\"BASKET_SIZE\"),\n",
    "    F.sum(F.col(\"REORDERED\")).over(F.Window.partition_by(\"USER_ID\")) / \n",
    "    F.count(\"*\").over(F.Window.partition_by(\"USER_ID\")).alias(\"REORDER_RATIO\"),\n",
    "    F.count_distinct(\"AISLE_ID\").over(F.Window.partition_by(\"ORDER_ID\")).alias(\"UNIQUE_AISLES\"),\n",
    "    F.count_distinct(\"DEPARTMENT_ID\").over(F.Window.partition_by(\"ORDER_ID\")).alias(\"UNIQUE_DEPARTMENTS\"),\n",
    "    F.when(F.col(\"ORDER_HOUR_OF_DAY\") < 6, F.lit(\"night\"))\n",
    "     .when(F.col(\"ORDER_HOUR_OF_DAY\") < 12, F.lit(\"morning\"))\n",
    "     .when(F.col(\"ORDER_HOUR_OF_DAY\") < 18, F.lit(\"midday\"))\n",
    "     .otherwise(F.lit(\"evening\")).alias(\"DAY_PART\")\n",
    "])\n"
   ]
  },
  {
   "cell_type": "markdown",
   "metadata": {},
   "source": [
    "\n",
    "# 8. Save the training dataset\n"
   ]
  },
  {
   "cell_type": "code",
   "execution_count": null,
   "metadata": {},
   "outputs": [],
   "source": [
    "training_data.write.mode(\"overwrite\").save_as_table(\"INSTACART_FEATURES.TRAINING_DATA\")\n"
   ]
  },
  {
   "cell_type": "markdown",
   "metadata": {},
   "source": [
    "\n",
    "# 9. (Optional) Monitor Feature Drift\n"
   ]
  },
  {
   "cell_type": "code",
   "execution_count": 37,
   "metadata": {},
   "outputs": [],
   "source": [
    "# Create a simple monitoring function\n",
    "def check_feature_drift(manager, feature_view_name, new_data):\n",
    "    \"\"\"Check for feature drift in new data\"\"\"\n",
    "    drift_results = manager.check_feature_drift(\n",
    "        feature_view_name=feature_view_name,\n",
    "        new_data=new_data\n",
    "    )\n",
    "    \n",
    "    if drift_results:\n",
    "        logger.warning(f\"Drift detected in {feature_view_name}:\")\n",
    "        for feature, metrics in drift_results.items():\n",
    "            logger.warning(f\"  {feature}: {metrics}\")\n",
    "    else:\n",
    "        logger.info(f\"No significant drift detected in {feature_view_name}\")\n",
    "    \n",
    "    return drift_results"
   ]
  },
  {
   "cell_type": "code",
   "execution_count": null,
   "metadata": {},
   "outputs": [],
   "source": [
    "\n",
    "# Example usage for monitoring\n",
    "# check_feature_drift(manager, \"user_features\", new_user_data)\n"
   ]
  },
  {
   "cell_type": "markdown",
   "metadata": {},
   "source": [
    "\n",
    "# 10. Define prediction function\n"
   ]
  },
  {
   "cell_type": "code",
   "execution_count": null,
   "metadata": {},
   "outputs": [],
   "source": [
    "def predict_next_order(user_id, model_path=None):\n",
    "    \"\"\"Predict items for a user's next order\"\"\"\n",
    "    # Get user features\n",
    "    user_features = manager.get_features(\n",
    "        spine_df=conn.session.create_dataframe([[user_id]], schema=[\"USER_ID\"]),\n",
    "        feature_views=[user_config]\n",
    "    )\n",
    "    \n",
    "    # Get user-product features for this user\n",
    "    user_products = conn.session.sql(f\"\"\"\n",
    "    SELECT USER_ID, PRODUCT_ID \n",
    "    FROM INSTACART_RAW.ORDER_PRODUCTS op\n",
    "    JOIN INSTACART_RAW.ORDERS o ON op.ORDER_ID = o.ORDER_ID\n",
    "    WHERE USER_ID = {user_id}\n",
    "    \"\"\")\n",
    "    \n",
    "    # Get full features for user-products\n",
    "    user_product_features = manager.get_features(\n",
    "        spine_df=user_products,\n",
    "        feature_views=[user_config, product_config, user_product_config]\n",
    "    )\n",
    "    \n",
    "    # Load model and predict (placeholder)\n",
    "    if model_path:\n",
    "        # In a real implementation, you would load your trained model\n",
    "        # and make predictions here\n",
    "        pass\n",
    "    \n",
    "    # For demo, just return products with highest reorder rate\n",
    "    top_products = user_product_features.sort(F.col(\"PRODUCT_REORDER_RATE\").desc()).limit(10)\n",
    "    \n",
    "    return top_products"
   ]
  }
 ],
 "metadata": {
  "kernelspec": {
   "display_name": "feature-store",
   "language": "python",
   "name": "python3"
  },
  "language_info": {
   "codemirror_mode": {
    "name": "ipython",
    "version": 3
   },
   "file_extension": ".py",
   "mimetype": "text/x-python",
   "name": "python",
   "nbconvert_exporter": "python",
   "pygments_lexer": "ipython3",
   "version": "3.11.11"
  }
 },
 "nbformat": 4,
 "nbformat_minor": 4
}
