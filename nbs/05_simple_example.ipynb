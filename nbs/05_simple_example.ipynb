{
 "cells": [
  {
   "cell_type": "markdown",
   "metadata": {},
   "source": [
    "# Example: End-to-end feature store usage\n"
   ]
  },
  {
   "cell_type": "code",
   "execution_count": 10,
   "metadata": {},
   "outputs": [
    {
     "name": "stdout",
     "output_type": "stream",
     "text": [
      "Loading example datasets...\n",
      "Added 1000 customers to table: \"CONTAINER_DEMO_DB\".FEATURE_STORE_20250211_010928_0478c271.CUSTOMER_LIFE_TIME_VALUE\n",
      "Added 1000 customers to table: \"CONTAINER_DEMO_DB\".FEATURE_STORE_20250211_010928_0478c271.CUSTOMER_GENERAL_DATA\n",
      "Added 1000 customers to table: \"CONTAINER_DEMO_DB\".FEATURE_STORE_20250211_010928_0478c271.CUSTOMER_BEHAVIOR_DATA\n",
      "\n",
      "Ltv Data:\n",
      "-----------------------------------------------------------------\n",
      "|\"EMAIL\"               |\"CAST (\"\"LIFE_TIME_VALUE\"\" AS DOUBLE)\"  |\n",
      "-----------------------------------------------------------------\n",
      "|qisrVQ3yPj@Ue9wz.com  |178.23                                  |\n",
      "|VFPATq1FiX@nVB6l.com  |339.53                                  |\n",
      "-----------------------------------------------------------------\n",
      "\n",
      "Ltv Schema: StructType([StructField('EMAIL', StringType(16777216), nullable=False), StructField('\"CAST (\"\"LIFE_TIME_VALUE\"\" AS DOUBLE)\"', DoubleType(), nullable=False)])\n",
      "\n",
      "Behavior Data:\n",
      "----------------------------------------------------------------------------------------------------------------------------------------------------------------------\n",
      "|\"EMAIL\"               |\"CAST (\"\"AVG_SESSION_LENGTH_MIN\"\" AS DOUBLE)\"  |\"CAST (\"\"AVG_TIME_ON_APP_MIN\"\" AS DOUBLE)\"  |\"CAST (\"\"AVG_TIME_ON_WEBSITE_MIN\"\" AS DOUBLE)\"  |\n",
      "----------------------------------------------------------------------------------------------------------------------------------------------------------------------\n",
      "|qisrVQ3yPj@Ue9wz.com  |4.7823                                         |6.7823                                      |NULL                                            |\n",
      "|VFPATq1FiX@nVB6l.com  |7.3953                                         |NULL                                        |8.395299999999999                               |\n",
      "----------------------------------------------------------------------------------------------------------------------------------------------------------------------\n",
      "\n",
      "Behavior Schema: StructType([StructField('EMAIL', StringType(16777216), nullable=False), StructField('\"CAST (\"\"AVG_SESSION_LENGTH_MIN\"\" AS DOUBLE)\"', DoubleType(), nullable=True), StructField('\"CAST (\"\"AVG_TIME_ON_APP_MIN\"\" AS DOUBLE)\"', DoubleType(), nullable=True), StructField('\"CAST (\"\"AVG_TIME_ON_WEBSITE_MIN\"\" AS DOUBLE)\"', DoubleType(), nullable=True)])\n",
      "\n",
      "Customer Data:\n",
      "-------------------------------------------------------------------------------------------------\n",
      "|\"EMAIL\"               |\"GENDER\"  |\"MEMBERSHIP_STATUS\"  |\"CAST (\"\"MEMBER_JOIN_DATE\"\" AS DATE)\"  |\n",
      "-------------------------------------------------------------------------------------------------\n",
      "|qisrVQ3yPj@Ue9wz.com  |MALE      |BRONZE               |2024-04-21                             |\n",
      "|VFPATq1FiX@nVB6l.com  |MALE      |SILVER               |2024-04-03                             |\n",
      "-------------------------------------------------------------------------------------------------\n",
      "\n",
      "Customer Schema: StructType([StructField('EMAIL', StringType(16777216), nullable=False), StructField('GENDER', StringType(6), nullable=False), StructField('MEMBERSHIP_STATUS', StringType(7), nullable=False), StructField('\"CAST (\"\"MEMBER_JOIN_DATE\"\" AS DATE)\"', DateType(), nullable=False)])\n",
      "Created entity: CUSTOMER with keys: ['EMAIL']\n",
      "Available columns: ['EMAIL', '\"CAST (\"\"AVG_SESSION_LENGTH_MIN\"\" AS DOUBLE)\"', '\"CAST (\"\"AVG_TIME_ON_APP_MIN\"\" AS DOUBLE)\"', '\"CAST (\"\"AVG_TIME_ON_WEBSITE_MIN\"\" AS DOUBLE)\"']\n",
      "Error: Error creating feature view FV_RETAIL_CUSTOMER_BEHAVIOR: 'No StructField named AVG_TIME_ON_WEBSITE_MIN'\n"
     ]
    },
    {
     "ename": "KeyError",
     "evalue": "'No StructField named AVG_TIME_ON_WEBSITE_MIN'",
     "output_type": "error",
     "traceback": [
      "\u001b[0;31m---------------------------------------------------------------------------\u001b[0m",
      "\u001b[0;31mKeyError\u001b[0m                                  Traceback (most recent call last)",
      "Cell \u001b[0;32mIn[10], line 32\u001b[0m\n\u001b[1;32m     29\u001b[0m \u001b[38;5;28mprint\u001b[39m(\u001b[38;5;124m\"\u001b[39m\u001b[38;5;124mAvailable columns:\u001b[39m\u001b[38;5;124m\"\u001b[39m, behavior_df\u001b[38;5;241m.\u001b[39mcolumns)\n\u001b[1;32m     31\u001b[0m \u001b[38;5;66;03m# Create feature views with transforms using correct column names\u001b[39;00m\n\u001b[0;32m---> 32\u001b[0m behavior_view \u001b[38;5;241m=\u001b[39m \u001b[43mmanager\u001b[49m\u001b[38;5;241;43m.\u001b[39;49m\u001b[43madd_feature_view\u001b[49m\u001b[43m(\u001b[49m\n\u001b[1;32m     33\u001b[0m \u001b[43m    \u001b[49m\u001b[43mconfig\u001b[49m\u001b[38;5;241;43m=\u001b[39;49m\u001b[43mbehavior_config\u001b[49m\u001b[43m,\u001b[49m\n\u001b[1;32m     34\u001b[0m \u001b[43m    \u001b[49m\u001b[43mdf\u001b[49m\u001b[38;5;241;43m=\u001b[39;49m\u001b[43mbehavior_df\u001b[49m\u001b[43m,\u001b[49m\n\u001b[1;32m     35\u001b[0m \u001b[43m    \u001b[49m\u001b[43mentity_name\u001b[49m\u001b[38;5;241;43m=\u001b[39;49m\u001b[38;5;124;43m\"\u001b[39;49m\u001b[38;5;124;43mCUSTOMER\u001b[39;49m\u001b[38;5;124;43m\"\u001b[39;49m\u001b[43m,\u001b[49m\n\u001b[1;32m     36\u001b[0m \u001b[43m    \u001b[49m\u001b[43mtransforms\u001b[49m\u001b[38;5;241;43m=\u001b[39;49m\u001b[43m[\u001b[49m\u001b[43mfill_na\u001b[49m\u001b[43m(\u001b[49m\u001b[43m[\u001b[49m\u001b[38;5;124;43m'\u001b[39;49m\u001b[38;5;124;43mAVG_TIME_ON_WEBSITE_MIN\u001b[39;49m\u001b[38;5;124;43m'\u001b[39;49m\u001b[43m]\u001b[49m\u001b[43m,\u001b[49m\u001b[43m \u001b[49m\u001b[38;5;241;43m0\u001b[39;49m\u001b[43m)\u001b[49m\u001b[43m]\u001b[49m\u001b[43m  \u001b[49m\u001b[38;5;66;43;03m# Column name will be matched case-insensitively\u001b[39;49;00m\n\u001b[1;32m     37\u001b[0m \u001b[43m\u001b[49m\u001b[43m)\u001b[49m\n\u001b[1;32m     40\u001b[0m profile_view \u001b[38;5;241m=\u001b[39m manager\u001b[38;5;241m.\u001b[39madd_feature_view(\n\u001b[1;32m     41\u001b[0m     config\u001b[38;5;241m=\u001b[39mprofile_config,\n\u001b[1;32m     42\u001b[0m     df\u001b[38;5;241m=\u001b[39mcust_df,\n\u001b[0;32m   (...)\u001b[0m\n\u001b[1;32m     47\u001b[0m     ]\n\u001b[1;32m     48\u001b[0m )\n\u001b[1;32m     50\u001b[0m \u001b[38;5;66;03m# Get training dataset\u001b[39;00m\n",
      "File \u001b[0;32m~/github/sf-feature-store/nbs/snowflake_feature_store/manager.py:115\u001b[0m, in \u001b[0;36mFeatureStoreManager.add_feature_view\u001b[0;34m(self, config, df, entity_name, transforms)\u001b[0m\n\u001b[1;32m    113\u001b[0m \u001b[38;5;66;03m# Apply transforms if provided\u001b[39;00m\n\u001b[1;32m    114\u001b[0m \u001b[38;5;28;01mif\u001b[39;00m transforms:\n\u001b[0;32m--> 115\u001b[0m     df \u001b[38;5;241m=\u001b[39m \u001b[43mapply_transforms\u001b[49m\u001b[43m(\u001b[49m\u001b[43mdf\u001b[49m\u001b[43m,\u001b[49m\u001b[43m \u001b[49m\u001b[43mtransforms\u001b[49m\u001b[43m)\u001b[49m\n\u001b[1;32m    117\u001b[0m \u001b[38;5;28mself\u001b[39m\u001b[38;5;241m.\u001b[39m_validate_sql(df)\n\u001b[1;32m    119\u001b[0m \u001b[38;5;66;03m# Get entity\u001b[39;00m\n",
      "File \u001b[0;32m~/github/sf-feature-store/nbs/snowflake_feature_store/transforms.py:244\u001b[0m, in \u001b[0;36mapply_transforms\u001b[0;34m(df, transforms)\u001b[0m\n\u001b[1;32m    227\u001b[0m \u001b[38;5;250m\u001b[39m\u001b[38;5;124;03m\"\"\"Apply a list of transformations to a DataFrame\u001b[39;00m\n\u001b[1;32m    228\u001b[0m \u001b[38;5;124;03m\u001b[39;00m\n\u001b[1;32m    229\u001b[0m \u001b[38;5;124;03mArgs:\u001b[39;00m\n\u001b[0;32m   (...)\u001b[0m\n\u001b[1;32m    241\u001b[0m \u001b[38;5;124;03m    >>> apply_transforms(df, transforms)\u001b[39;00m\n\u001b[1;32m    242\u001b[0m \u001b[38;5;124;03m\"\"\"\u001b[39;00m\n\u001b[1;32m    243\u001b[0m \u001b[38;5;28;01mfor\u001b[39;00m transform \u001b[38;5;129;01min\u001b[39;00m transforms:\n\u001b[0;32m--> 244\u001b[0m     df \u001b[38;5;241m=\u001b[39m \u001b[43mtransform\u001b[49m\u001b[43m(\u001b[49m\u001b[43mdf\u001b[49m\u001b[43m)\u001b[49m\n\u001b[1;32m    245\u001b[0m \u001b[38;5;28;01mreturn\u001b[39;00m df\n",
      "File \u001b[0;32m~/github/sf-feature-store/nbs/snowflake_feature_store/transforms.py:107\u001b[0m, in \u001b[0;36mfill_na.<locals>._inner\u001b[0;34m(df)\u001b[0m\n\u001b[1;32m    104\u001b[0m col \u001b[38;5;241m=\u001b[39m col\u001b[38;5;241m.\u001b[39mupper()\n\u001b[1;32m    106\u001b[0m \u001b[38;5;66;03m# Get column type\u001b[39;00m\n\u001b[0;32m--> 107\u001b[0m col_type \u001b[38;5;241m=\u001b[39m \u001b[43mdf\u001b[49m\u001b[38;5;241;43m.\u001b[39;49m\u001b[43mschema\u001b[49m\u001b[43m[\u001b[49m\u001b[43mcol\u001b[49m\u001b[43m]\u001b[49m\u001b[38;5;241m.\u001b[39mdatatype\n\u001b[1;32m    109\u001b[0m \u001b[38;5;66;03m# Cast fill value to match column type\u001b[39;00m\n\u001b[1;32m    110\u001b[0m typed_value \u001b[38;5;241m=\u001b[39m (\n\u001b[1;32m    111\u001b[0m     \u001b[38;5;28mint\u001b[39m(fill_value) \u001b[38;5;28;01mif\u001b[39;00m \u001b[38;5;28mstr\u001b[39m(col_type)\u001b[38;5;241m.\u001b[39mstartswith((\u001b[38;5;124m'\u001b[39m\u001b[38;5;124mLong\u001b[39m\u001b[38;5;124m'\u001b[39m, \u001b[38;5;124m'\u001b[39m\u001b[38;5;124mInt\u001b[39m\u001b[38;5;124m'\u001b[39m)) \n\u001b[1;32m    112\u001b[0m     \u001b[38;5;28;01melse\u001b[39;00m \u001b[38;5;28mfloat\u001b[39m(fill_value) \u001b[38;5;28;01mif\u001b[39;00m \u001b[38;5;28mstr\u001b[39m(col_type)\u001b[38;5;241m.\u001b[39mstartswith(\u001b[38;5;124m'\u001b[39m\u001b[38;5;124mDouble\u001b[39m\u001b[38;5;124m'\u001b[39m) \n\u001b[1;32m    113\u001b[0m     \u001b[38;5;28;01melse\u001b[39;00m \u001b[38;5;28mstr\u001b[39m(fill_value)\n\u001b[1;32m    114\u001b[0m )\n",
      "File \u001b[0;32m~/miniconda3/envs/feature_store/lib/python3.9/site-packages/snowflake/snowpark/types.py:417\u001b[0m, in \u001b[0;36mStructType.__getitem__\u001b[0;34m(self, item)\u001b[0m\n\u001b[1;32m    415\u001b[0m         \u001b[38;5;28;01mif\u001b[39;00m field\u001b[38;5;241m.\u001b[39mname \u001b[38;5;241m==\u001b[39m item:\n\u001b[1;32m    416\u001b[0m             \u001b[38;5;28;01mreturn\u001b[39;00m field\n\u001b[0;32m--> 417\u001b[0m     \u001b[38;5;28;01mraise\u001b[39;00m \u001b[38;5;167;01mKeyError\u001b[39;00m(\u001b[38;5;124mf\u001b[39m\u001b[38;5;124m\"\u001b[39m\u001b[38;5;124mNo StructField named \u001b[39m\u001b[38;5;132;01m{\u001b[39;00mitem\u001b[38;5;132;01m}\u001b[39;00m\u001b[38;5;124m\"\u001b[39m)\n\u001b[1;32m    418\u001b[0m \u001b[38;5;28;01melif\u001b[39;00m \u001b[38;5;28misinstance\u001b[39m(item, \u001b[38;5;28mint\u001b[39m):\n\u001b[1;32m    419\u001b[0m     \u001b[38;5;28;01mreturn\u001b[39;00m \u001b[38;5;28mself\u001b[39m\u001b[38;5;241m.\u001b[39mfields[item]  \u001b[38;5;66;03m# may throw ValueError\u001b[39;00m\n",
      "\u001b[0;31mKeyError\u001b[0m: 'No StructField named AVG_TIME_ON_WEBSITE_MIN'"
     ]
    }
   ],
   "source": [
    "from datetime import datetime\n",
    "from snowflake_feature_store.examples import *\n",
    "from snowflake_feature_store.connection import get_connection\n",
    "from snowflake_feature_store.manager import feature_store_session\n",
    "from snowflake_feature_store.transforms import fill_na, date_diff\n",
    "\n",
    "conn = get_connection()\n",
    "\n",
    "with feature_store_session(conn) as manager:\n",
    "    \n",
    "    current_schema = manager.connection.schema\n",
    "    # Load example data into the feature store schema\n",
    "    ltv_df, cust_df, behavior_df = get_example_data(\n",
    "        manager.connection.session,\n",
    "        current_schema  # Pass the current feature store schema\n",
    "    )\n",
    "\n",
    "    # Create feature configurations\n",
    "    behavior_config, profile_config = create_feature_configs()\n",
    "\n",
    "    # Create customer entity\n",
    "    manager.add_entity(\n",
    "        name=\"CUSTOMER\",\n",
    "        join_keys=[\"EMAIL\"],\n",
    "        description=\"Customer entity for retail domain\"\n",
    "    )\n",
    "\n",
    "    # Show actual column names\n",
    "    print(\"Available columns:\", behavior_df.columns)\n",
    "\n",
    "    # Create feature views with transforms using correct column names\n",
    "    behavior_view = manager.add_feature_view(\n",
    "        config=behavior_config,\n",
    "        df=behavior_df,\n",
    "        entity_name=\"CUSTOMER\",\n",
    "        transforms=[fill_na(['AVG_TIME_ON_WEBSITE_MIN'], 0)]  # Column name will be matched case-insensitively\n",
    "    )\n",
    "\n",
    "\n",
    "    profile_view = manager.add_feature_view(\n",
    "        config=profile_config,\n",
    "        df=cust_df,\n",
    "        entity_name=\"CUSTOMER\",\n",
    "        transforms=[\n",
    "            date_diff('MEMBER_JOIN_DATE', 'MEMBERSHIP_LENGTH_DAYS', \n",
    "                    str(datetime.now().strftime('%Y-%m-%d')))\n",
    "        ]\n",
    "    )\n",
    "\n",
    "    # Get training dataset\n",
    "    training_data = manager.get_features(\n",
    "        spine_df=ltv_df,\n",
    "        feature_views=[behavior_config, profile_config],\n",
    "        label_cols=[\"LIFE_TIME_VALUE\"]\n",
    "    )\n",
    "\n",
    "    print(\"\\nTraining data shape:\", training_data.count(), len(training_data.columns))\n",
    "    print(\"\\nFeature columns:\", [\n",
    "        col for col in training_data.columns \n",
    "        if col not in [\"EMAIL\", \"LIFE_TIME_VALUE\"]\n",
    "    ])\n",
    "    training_data.show(2)"
   ]
  },
  {
   "cell_type": "code",
   "execution_count": null,
   "metadata": {},
   "outputs": [],
   "source": [
    "#| hide\n",
    "import nbdev; nbdev.nbdev_export()"
   ]
  }
 ],
 "metadata": {
  "kernelspec": {
   "display_name": "feature_store",
   "language": "python",
   "name": "python3"
  },
  "language_info": {
   "codemirror_mode": {
    "name": "ipython",
    "version": 3
   },
   "file_extension": ".py",
   "mimetype": "text/x-python",
   "name": "python",
   "nbconvert_exporter": "python",
   "pygments_lexer": "ipython3",
   "version": "3.9.19"
  }
 },
 "nbformat": 4,
 "nbformat_minor": 4
}
